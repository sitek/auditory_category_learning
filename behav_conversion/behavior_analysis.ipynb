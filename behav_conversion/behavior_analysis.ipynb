{
 "cells": [
  {
   "cell_type": "code",
   "execution_count": 1,
   "id": "ca1588d4-f4ab-48db-b158-f1a774497bcd",
   "metadata": {},
   "outputs": [],
   "source": [
    "import os\n",
    "import numpy as np\n",
    "import pandas as pd\n",
    "import matplotlib.pyplot as plt\n",
    "\n",
    "from glob import glob\n",
    "\n",
    "from sklearn.metrics import confusion_matrix, ConfusionMatrixDisplay\n",
    "\n",
    "from seaborn import heatmap"
   ]
  },
  {
   "cell_type": "code",
   "execution_count": 2,
   "id": "2b09ddf7",
   "metadata": {},
   "outputs": [],
   "source": [
    "sub_list_mand = ['FLT03', 'FLT05', ] #'FLT07', 'FLT08', 'FLT10', ] # \n",
    "\n",
    "sub_list_nman = ['FLT02', ] # 'FLT04', 'FLT06', 'FLT09', 'FLT11', 'FLT12', 'FLT13', ]\n",
    "\n",
    "sub_list = sub_list_mand + sub_list_nman"
   ]
  },
  {
   "cell_type": "code",
   "execution_count": 3,
   "id": "a85a9b5c-b636-4cdb-9cad-fed26ff7c0bd",
   "metadata": {},
   "outputs": [],
   "source": [
    "project_dir = os.path.join('/Users/krs228', 'data', 'FLT')\n",
    "bids_dir    = os.path.join(project_dir, 'data_bids')"
   ]
  },
  {
   "cell_type": "code",
   "execution_count": 4,
   "id": "81b0820e-2d42-43ee-8b7b-6271bcc78e88",
   "metadata": {},
   "outputs": [],
   "source": [
    "sub_id = sub_list_nman[0]"
   ]
  },
  {
   "cell_type": "code",
   "execution_count": 5,
   "id": "e822af5b-bedc-459e-bb94-a6fab312975a",
   "metadata": {},
   "outputs": [],
   "source": [
    "bids_tsv_list = sorted(glob(bids_dir+'/sub-{}*.tsv'.format(sub_id)))"
   ]
  },
  {
   "cell_type": "code",
   "execution_count": 16,
   "id": "53799cc7-e9be-45a9-aa08-f0dbaf55f185",
   "metadata": {},
   "outputs": [],
   "source": [
    "run_tsv = bids_tsv_list[0]\n",
    "tsv_pd = pd.read_csv(run_tsv, sep='\\t')"
   ]
  },
  {
   "cell_type": "code",
   "execution_count": 17,
   "id": "e182b604-2197-4f20-8ccd-cc22aac5f147",
   "metadata": {},
   "outputs": [],
   "source": [
    "tsv_pd = tsv_pd[~tsv_pd['trial_type'].str.contains('resp_None')]"
   ]
  },
  {
   "cell_type": "code",
   "execution_count": 18,
   "id": "7b686da8-404c-4c90-afa0-e5bba2516ae4",
   "metadata": {},
   "outputs": [
    {
     "name": "stdout",
     "output_type": "stream",
     "text": [
      "run-01\n"
     ]
    }
   ],
   "source": [
    "run_id = os.path.basename(run_tsv).split('_')[2]\n",
    "print(run_id)"
   ]
  },
  {
   "cell_type": "markdown",
   "id": "545cc8f5-e121-450f-b4f0-3027ccf72328",
   "metadata": {},
   "source": [
    "### Confusion matrix"
   ]
  },
  {
   "cell_type": "code",
   "execution_count": 19,
   "id": "2b5bea55-0705-4974-b9d6-a3db13ceb282",
   "metadata": {},
   "outputs": [
    {
     "name": "stderr",
     "output_type": "stream",
     "text": [
      "/var/folders/x3/sz0hgwdn1glgm8f611sj6tgw0000gn/T/ipykernel_75914/1558107547.py:2: UserWarning: Boolean Series key will be reindexed to match DataFrame index.\n",
      "  simple_df = simple_df[~tsv_pd['trial_type'].str.contains('resp_8')]\n"
     ]
    }
   ],
   "source": [
    "simple_df = tsv_pd.loc[:,['trial_type', 'correct_key']].dropna()\n",
    "simple_df = simple_df[~tsv_pd['trial_type'].str.contains('resp_8')]\n",
    "\n",
    "simple_df['correct_key'] = simple_df['correct_key'].astype(int).astype(str)\n",
    "\n",
    "simple_df['trial_type'] = [x[-1] for x in simple_df['trial_type']]\n",
    "\n",
    "renum_simple_df = simple_df.astype(str).replace(['7', '6', '1', '2'], \n",
    "                                                ['1', '2', '3', '4'])"
   ]
  },
  {
   "cell_type": "code",
   "execution_count": 20,
   "id": "ef56096c-124b-47a3-a26d-c5951c6da1dc",
   "metadata": {},
   "outputs": [
    {
     "name": "stdout",
     "output_type": "stream",
     "text": [
      "sub-FLT02 run-01 accuracy = 0.403\n"
     ]
    }
   ],
   "source": [
    "cm = confusion_matrix(renum_simple_df['correct_key'], renum_simple_df['trial_type'], normalize='true')\n",
    "#np.savetxt('behav_confusion_matrices/sub-{}_tonecat_confusion_matrix.csv'.format(sub_id), cm)\n",
    "\n",
    "'''\n",
    "fig, ax = plt.subplots()\n",
    "disp = ConfusionMatrixDisplay.from_predictions(renum_simple_df['correct_key'], renum_simple_df['trial_type'],  \n",
    "                                               ax=ax,\n",
    "                                               display_labels=['T1', 'T2', 'T3', 'T4'],\n",
    "                                               cmap='Blues', colorbar=False, include_values=False,)\n",
    "ax.set_title(sub_id)\n",
    "#fig.savefig('behav_confusion_matrices/sub-{}_behav_confusion_matrix.png'.format(sub_id))\n",
    "'''\n",
    "print('sub-{} {} accuracy = {:.03f}'.format(sub_id, run_id, cm.diagonal().mean()))"
   ]
  },
  {
   "cell_type": "code",
   "execution_count": null,
   "id": "749f26c2-e851-4e46-b08e-598e8c91d10c",
   "metadata": {},
   "outputs": [],
   "source": []
  },
  {
   "cell_type": "markdown",
   "id": "ae7439eb-3a09-4e22-8f4c-8d41f48e5f15",
   "metadata": {},
   "source": [
    "### Behavioral RDMs"
   ]
  },
  {
   "cell_type": "markdown",
   "id": "e1ae6ed5-d4b8-46d8-9a21-8b01325cbfa2",
   "metadata": {},
   "source": [
    "from Feng et al. (*NoL*):\n",
    "> Learners’ response confusion matrices were created based on their categorization responses. If two sounds had an identical response, then this pair was coded as 0 in the confusion matrix; otherwise, it was coded as 1. Using this procedure, we created two confusion matrices in each block (one for each talker) for each learner. The two matrices were then averaged for each block. Finally, we calculated the Spearman’ s correlations (i.e., model fits) between each RDM and confusion matrices. We also examined the relationships between the RDM model fits and learning outcome and speed across subjects to see which RDM explains most of the interindividual variance in learning success."
   ]
  },
  {
   "cell_type": "code",
   "execution_count": 21,
   "id": "efec504d-0e0a-4a69-a7f7-665f5f7b6e40",
   "metadata": {},
   "outputs": [
    {
     "name": "stderr",
     "output_type": "stream",
     "text": [
      "/Users/KRS228/software/miniconda3/envs/py3/lib/python3.9/site-packages/pandas/core/indexing.py:1732: SettingWithCopyWarning: \n",
      "A value is trying to be set on a copy of a slice from a DataFrame\n",
      "\n",
      "See the caveats in the documentation: https://pandas.pydata.org/pandas-docs/stable/user_guide/indexing.html#returning-a-view-versus-a-copy\n",
      "  self._setitem_single_block(indexer, value, name)\n"
     ]
    }
   ],
   "source": [
    "stim_df = tsv_pd.loc[:,['trial_type', 'correct_key']]\n",
    "\n",
    "# create a `stimulus` row\n",
    "stim_df['stimulus'] = ''\n",
    "\n",
    "# copy stimulus info to the response rows\n",
    "for ix in range(1, len(stim_df)):\n",
    "    if 'resp' in stim_df['trial_type'][ix]:\n",
    "        stim_df['stimulus'].iloc[ix] = stim_df['trial_type'].iloc[ix-1].split('_')[1]\n",
    "\n",
    "stim_df.dropna(inplace=True)\n",
    "\n",
    "stim_df['trial_type'] = [x[-1] for x in stim_df['trial_type']]\n",
    "\n",
    "stim_df['trial_type'] = stim_df['trial_type'].astype(str).replace(['7', '6', '1', '2'], \n",
    "                                                                  ['1', '2', '3', '4'])\n",
    "\n",
    "stim_df['correct_key'] = stim_df['correct_key'].replace([7.0, 6.0, 1.0, 2.0], \n",
    "                                                        ['1', '2', '3', '4'])"
   ]
  },
  {
   "cell_type": "markdown",
   "id": "ce57576f-adbf-4675-b619-d32e0a5af2a8",
   "metadata": {},
   "source": [
    "#### compare responses across stimuli"
   ]
  },
  {
   "cell_type": "code",
   "execution_count": 22,
   "id": "7816662c-71f6-4d6c-ae83-7bec7be178db",
   "metadata": {
    "tags": []
   },
   "outputs": [
    {
     "name": "stderr",
     "output_type": "stream",
     "text": [
      "/var/folders/x3/sz0hgwdn1glgm8f611sj6tgw0000gn/T/ipykernel_75914/3388081672.py:9: UserWarning: Boolean Series key will be reindexed to match DataFrame index.\n",
      "  stim_responses.append(stim_df.loc[48*(block):48*(block+1)][stim_df['stimulus']==stim]['trial_type'].array[0])\n"
     ]
    }
   ],
   "source": [
    "stim_list = np.unique(stim_df[stim_df['stimulus'].str.contains('di')]['stimulus'])\n",
    "\n",
    "# extract responses for each stimulus\n",
    "all_stim_responses = []\n",
    "for sx, stim in enumerate(stim_list):\n",
    "    stim_responses = []\n",
    "    for block in range(3):\n",
    "        try:\n",
    "            stim_responses.append(stim_df.loc[48*(block):48*(block+1)][stim_df['stimulus']==stim]['trial_type'].array[0])\n",
    "        except:\n",
    "            stim_responses.append(np.nan)\n",
    "    all_stim_responses.append(stim_responses)"
   ]
  },
  {
   "cell_type": "code",
   "execution_count": 23,
   "id": "40efa2f3-6b56-4d17-a9ad-13068cb7f7a6",
   "metadata": {},
   "outputs": [],
   "source": [
    "# compare responses across stimuli\n",
    "n_stim = len(all_stim_responses)\n",
    "stim_conf_mat = np.zeros((n_stim, n_stim))\n",
    "for srx in range(n_stim):\n",
    "    for sry in range(n_stim):\n",
    "        mean_val = np.mean([int(all_stim_responses[srx][x] == all_stim_responses[sry][x]) for x in range(3)])\n",
    "        stim_conf_mat[srx, sry] = mean_val\n",
    "\n",
    "# save output matrix\n",
    "np.savetxt('sub-{}_{}_stimulus_confusion_matrix.tsv'.format(sub_id, run_id), stim_conf_mat, delimiter='\\t')"
   ]
  },
  {
   "cell_type": "code",
   "execution_count": 24,
   "id": "1e29272b-d668-4939-a315-5e86d1413cf6",
   "metadata": {},
   "outputs": [
    {
     "data": {
      "text/plain": [
       "array([[0.33333333, 0.33333333, 0.        , 0.        , 0.        ,\n",
       "        0.33333333, 0.33333333, 0.        , 0.33333333, 0.        ,\n",
       "        0.33333333, 0.        , 0.        , 0.33333333, 0.        ,\n",
       "        0.        ],\n",
       "       [0.33333333, 1.        , 0.        , 0.        , 0.        ,\n",
       "        0.33333333, 0.33333333, 0.66666667, 0.33333333, 0.        ,\n",
       "        0.33333333, 0.        , 0.        , 0.33333333, 0.        ,\n",
       "        0.33333333],\n",
       "       [0.        , 0.        , 0.66666667, 0.33333333, 0.        ,\n",
       "        0.        , 0.        , 0.        , 0.        , 0.        ,\n",
       "        0.        , 0.        , 0.33333333, 0.33333333, 0.66666667,\n",
       "        0.33333333],\n",
       "       [0.        , 0.        , 0.33333333, 0.66666667, 0.        ,\n",
       "        0.        , 0.        , 0.        , 0.        , 0.        ,\n",
       "        0.        , 0.33333333, 0.66666667, 0.33333333, 0.33333333,\n",
       "        0.66666667],\n",
       "       [0.        , 0.        , 0.        , 0.        , 0.33333333,\n",
       "        0.        , 0.33333333, 0.        , 0.        , 0.        ,\n",
       "        0.        , 0.        , 0.        , 0.        , 0.        ,\n",
       "        0.        ],\n",
       "       [0.33333333, 0.33333333, 0.        , 0.        , 0.        ,\n",
       "        0.66666667, 0.33333333, 0.        , 0.66666667, 0.33333333,\n",
       "        0.66666667, 0.        , 0.        , 0.33333333, 0.        ,\n",
       "        0.        ],\n",
       "       [0.33333333, 0.33333333, 0.        , 0.        , 0.33333333,\n",
       "        0.33333333, 0.66666667, 0.        , 0.33333333, 0.        ,\n",
       "        0.33333333, 0.        , 0.        , 0.33333333, 0.        ,\n",
       "        0.        ],\n",
       "       [0.        , 0.66666667, 0.        , 0.        , 0.        ,\n",
       "        0.        , 0.        , 1.        , 0.        , 0.        ,\n",
       "        0.        , 0.        , 0.        , 0.        , 0.        ,\n",
       "        0.33333333],\n",
       "       [0.33333333, 0.33333333, 0.        , 0.        , 0.        ,\n",
       "        0.66666667, 0.33333333, 0.        , 1.        , 0.33333333,\n",
       "        0.66666667, 0.        , 0.33333333, 0.33333333, 0.        ,\n",
       "        0.        ],\n",
       "       [0.        , 0.        , 0.        , 0.        , 0.        ,\n",
       "        0.33333333, 0.        , 0.        , 0.33333333, 0.33333333,\n",
       "        0.33333333, 0.        , 0.        , 0.        , 0.        ,\n",
       "        0.        ],\n",
       "       [0.33333333, 0.33333333, 0.        , 0.        , 0.        ,\n",
       "        0.66666667, 0.33333333, 0.        , 0.66666667, 0.33333333,\n",
       "        0.66666667, 0.        , 0.        , 0.33333333, 0.        ,\n",
       "        0.        ],\n",
       "       [0.        , 0.        , 0.        , 0.33333333, 0.        ,\n",
       "        0.        , 0.        , 0.        , 0.        , 0.        ,\n",
       "        0.        , 1.        , 0.33333333, 0.        , 0.        ,\n",
       "        0.33333333],\n",
       "       [0.        , 0.        , 0.33333333, 0.66666667, 0.        ,\n",
       "        0.        , 0.        , 0.        , 0.33333333, 0.        ,\n",
       "        0.        , 0.33333333, 1.        , 0.33333333, 0.33333333,\n",
       "        0.66666667],\n",
       "       [0.33333333, 0.33333333, 0.33333333, 0.33333333, 0.        ,\n",
       "        0.33333333, 0.33333333, 0.        , 0.33333333, 0.        ,\n",
       "        0.33333333, 0.        , 0.33333333, 0.66666667, 0.33333333,\n",
       "        0.33333333],\n",
       "       [0.        , 0.        , 0.66666667, 0.33333333, 0.        ,\n",
       "        0.        , 0.        , 0.        , 0.        , 0.        ,\n",
       "        0.        , 0.        , 0.33333333, 0.33333333, 0.66666667,\n",
       "        0.33333333],\n",
       "       [0.        , 0.33333333, 0.33333333, 0.66666667, 0.        ,\n",
       "        0.        , 0.        , 0.33333333, 0.        , 0.        ,\n",
       "        0.        , 0.33333333, 0.66666667, 0.33333333, 0.33333333,\n",
       "        1.        ]])"
      ]
     },
     "execution_count": 24,
     "metadata": {},
     "output_type": "execute_result"
    }
   ],
   "source": [
    "stim_conf_mat"
   ]
  },
  {
   "cell_type": "code",
   "execution_count": null,
   "id": "97b94271-de41-43f7-bffb-1d42cdbbdebb",
   "metadata": {},
   "outputs": [],
   "source": []
  },
  {
   "cell_type": "code",
   "execution_count": null,
   "id": "7c33bab8-e2a9-43b0-a3fc-c4ca9e337aee",
   "metadata": {},
   "outputs": [],
   "source": []
  },
  {
   "cell_type": "markdown",
   "id": "f3fbb1a0-5bf3-47d1-bf87-41bf14294d5a",
   "metadata": {},
   "source": [
    "## Original analysis on direct psychopy log files (not BIDS-ified)"
   ]
  },
  {
   "cell_type": "markdown",
   "id": "991358e7",
   "metadata": {},
   "source": [
    "Ah! But my bids-converted events files don't include the actual button responses and what the expected correct response would be. Gotta go back to the source data...."
   ]
  },
  {
   "cell_type": "code",
   "execution_count": 3,
   "id": "3c939b2f",
   "metadata": {},
   "outputs": [],
   "source": [
    "raw_beh_dir = os.path.join('/bgfs/bchandrasekaran/krs228/',\n",
    "                           'data/FLT/sourcedata/behav_files/',\n",
    "                           'CHA-IBR/01-ToneLearning')"
   ]
  },
  {
   "cell_type": "code",
   "execution_count": 4,
   "id": "0a88ec32-c024-4ec7-a7b4-e92a91b61c43",
   "metadata": {
    "scrolled": true,
    "tags": []
   },
   "outputs": [
    {
     "name": "stdout",
     "output_type": "stream",
     "text": [
      "sub-FLT01 accuracy = 0.990\n",
      "sub-FLT03 accuracy = 0.960\n",
      "sub-FLT05 accuracy = 0.967\n",
      "sub-FLT07 accuracy = 1.000\n",
      "sub-FLT08 accuracy = 1.000\n",
      "sub-FLT10 accuracy = 0.982\n",
      "sub-FLT02 accuracy = 0.863\n",
      "sub-FLT04 accuracy = 0.584\n",
      "sub-FLT06 accuracy = 0.613\n",
      "sub-FLT09 accuracy = 0.654\n",
      "sub-FLT11 accuracy = 0.628\n",
      "sub-FLT12 accuracy = 0.899\n",
      "sub-FLT13 accuracy = 0.623\n"
     ]
    },
    {
     "data": {
      "image/png": "[encoded data removed]",
      "text/plain": [
       "<Figure size 432x288 with 1 Axes>"
      ]
     },
     "metadata": {
      "needs_background": "light"
     },
     "output_type": "display_data"
    },
    {
     "data": {
      "image/png": "[encoded data removed]",
      "text/plain": [
       "<Figure size 432x288 with 1 Axes>"
      ]
     },
     "metadata": {
      "needs_background": "light"
     },
     "output_type": "display_data"
    },
    {
     "data": {
      "image/png": "[encoded data removed]",
      "text/plain": [
       "<Figure size 432x288 with 1 Axes>"
      ]
     },
     "metadata": {
      "needs_background": "light"
     },
     "output_type": "display_data"
    },
    {
     "data": {
      "image/png": "[encoded data removed]",
      "text/plain": [
       "<Figure size 432x288 with 1 Axes>"
      ]
     },
     "metadata": {
      "needs_background": "light"
     },
     "output_type": "display_data"
    },
    {
     "data": {
      "image/png": "[encoded data removed]",
      "text/plain": [
       "<Figure size 432x288 with 1 Axes>"
      ]
     },
     "metadata": {
      "needs_background": "light"
     },
     "output_type": "display_data"
    },
    {
     "data": {
      "image/png": "[encoded data removed]",
      "text/plain": [
       "<Figure size 432x288 with 1 Axes>"
      ]
     },
     "metadata": {
      "needs_background": "light"
     },
     "output_type": "display_data"
    },
    {
     "data": {
      "image/png": "[encoded data removed]",
      "text/plain": [
       "<Figure size 432x288 with 1 Axes>"
      ]
     },
     "metadata": {
      "needs_background": "light"
     },
     "output_type": "display_data"
    },
    {
     "data": {
      "image/png": "[encoded data removed]",
      "text/plain": [
       "<Figure size 432x288 with 1 Axes>"
      ]
     },
     "metadata": {
      "needs_background": "light"
     },
     "output_type": "display_data"
    },
    {
     "data": {
      "image/png": "[encoded data removed]",
      "text/plain": [
       "<Figure size 432x288 with 1 Axes>"
      ]
     },
     "metadata": {
      "needs_background": "light"
     },
     "output_type": "display_data"
    },
    {
     "data": {
      "image/png": "[encoded data removed]",
      "text/plain": [
       "<Figure size 432x288 with 1 Axes>"
      ]
     },
     "metadata": {
      "needs_background": "light"
     },
     "output_type": "display_data"
    },
    {
     "data": {
      "image/png": "[encoded data removed]",
      "text/plain": [
       "<Figure size 432x288 with 1 Axes>"
      ]
     },
     "metadata": {
      "needs_background": "light"
     },
     "output_type": "display_data"
    },
    {
     "data": {
      "image/png": "[encoded data removed]",
      "text/plain": [
       "<Figure size 432x288 with 1 Axes>"
      ]
     },
     "metadata": {
      "needs_background": "light"
     },
     "output_type": "display_data"
    },
    {
     "data": {
      "image/png": "[encoded data removed]",
      "text/plain": [
       "<Figure size 432x288 with 1 Axes>"
      ]
     },
     "metadata": {
      "needs_background": "light"
     },
     "output_type": "display_data"
    }
   ],
   "source": [
    "for sub_id in sub_list:\n",
    "    file_list = sorted(glob(raw_beh_dir+'/sub-{}*tone_learning*.csv'.format(sub_id)))\n",
    "    psy_list = []\n",
    "    for rx, fpath in enumerate(file_list):\n",
    "        psy_df = pd.read_csv(fpath, sep=',')\n",
    "\n",
    "        psy_list.append(psy_df)\n",
    "    all_df = pd.concat(psy_list)\n",
    "\n",
    "    # just keep the critical data columns\n",
    "    simple_df = all_df.loc[:,['key_resp.keys', 'corrAns']].dropna()\n",
    "\n",
    "    simple_df['corrAns'] = simple_df['corrAns'].astype(int)\n",
    "\n",
    "    renum_simple_df = simple_df.astype(str).replace(['7', '6', '1', '2'], \n",
    "                                                    ['1', '2', '3', '4'])\n",
    "\n",
    "    renum_simple_df.drop(renum_simple_df[renum_simple_df['key_resp.keys']=='None'].index, inplace=True)\n",
    "    renum_simple_df.drop(renum_simple_df[renum_simple_df['key_resp.keys']=='8'].index, inplace=True)\n",
    "    renum_simple_df.drop(renum_simple_df[renum_simple_df['corrAns']=='0'].index, inplace=True)\n",
    "\n",
    "    y_correct = np.array(renum_simple_df['corrAns'])\n",
    "    y_response = np.array(renum_simple_df['key_resp.keys'])   \n",
    "\n",
    "    cm = confusion_matrix(y_correct, y_response, normalize='true')\n",
    "    #np.savetxt('behav_confusion_matrices/sub-{}_behav_confusion_matrix.csv'.format(sub_id), cm)\n",
    "\n",
    "    fig, ax = plt.subplots()\n",
    "    disp = ConfusionMatrixDisplay.from_predictions(y_correct, y_response,  ax=ax,\n",
    "                                                   display_labels=['T1', 'T2', 'T3', 'T4'],\n",
    "                                                   cmap='Blues', colorbar=False, include_values=False,)\n",
    "    ax.set_title(sub_id)\n",
    "    #fig.savefig('behav_confusion_matrices/sub-{}_behav_confusion_matrix.png'.format(sub_id))\n",
    "    print('sub-{} accuracy = {:.03f}'.format(sub_id, cm.diagonal().mean()))"
   ]
  },
  {
   "cell_type": "code",
   "execution_count": 5,
   "id": "01c48a80",
   "metadata": {},
   "outputs": [
    {
     "data": {
      "text/plain": [
       "array([[0.84615385, 0.11538462, 0.        , 0.03846154],\n",
       "       [0.25      , 0.3125    , 0.125     , 0.3125    ],\n",
       "       [0.        , 0.05555556, 0.88888889, 0.05555556],\n",
       "       [0.55555556, 0.        , 0.        , 0.44444444]])"
      ]
     },
     "execution_count": 5,
     "metadata": {},
     "output_type": "execute_result"
    }
   ],
   "source": [
    "cm"
   ]
  },
  {
   "cell_type": "code",
   "execution_count": 54,
   "id": "fdf1d914-7201-4207-9e28-9dc27d0844a5",
   "metadata": {},
   "outputs": [
    {
     "data": {
      "text/plain": [
       "array(['4', '0', '3', '1', '2'], dtype=object)"
      ]
     },
     "execution_count": 54,
     "metadata": {},
     "output_type": "execute_result"
    }
   ],
   "source": [
    "renum_simple_df['corrAns'].unique()"
   ]
  },
  {
   "cell_type": "code",
   "execution_count": null,
   "id": "710ab8ff-022c-4a94-94a2-c80c14e12c9b",
   "metadata": {},
   "outputs": [],
   "source": []
  }
 ],
 "metadata": {
  "kernelspec": {
   "display_name": "Python 3 (ipykernel)",
   "language": "python",
   "name": "python3"
  },
  "language_info": {
   "codemirror_mode": {
    "name": "ipython",
    "version": 3
   },
   "file_extension": ".py",
   "mimetype": "text/x-python",
   "name": "python",
   "nbconvert_exporter": "python",
   "pygments_lexer": "ipython3",
   "version": "3.9.1"
  }
 },
 "nbformat": 4,
 "nbformat_minor": 5
}
