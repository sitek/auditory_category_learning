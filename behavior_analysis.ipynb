{
 "cells": [
  {
   "cell_type": "code",
   "execution_count": 1,
   "id": "0e4958ee",
   "metadata": {},
   "outputs": [],
   "source": [
    "import os\n",
    "import numpy as np\n",
    "import pandas as pd\n",
    "\n",
    "from glob import glob"
   ]
  },
  {
   "cell_type": "code",
   "execution_count": 2,
   "id": "2b09ddf7",
   "metadata": {},
   "outputs": [],
   "source": [
    "sub_id = 'FLT01'"
   ]
  },
  {
   "cell_type": "code",
   "execution_count": 3,
   "id": "775c41ed",
   "metadata": {},
   "outputs": [],
   "source": [
    "func_dir = os.path.join('/bgfs/bchandrasekaran/krs228/',\n",
    "                        'data/FLT/data_bids/',\n",
    "                        'sub-%s/func'%sub_id)"
   ]
  },
  {
   "cell_type": "code",
   "execution_count": 3,
   "id": "5ba81834",
   "metadata": {},
   "outputs": [],
   "source": [
    "func_dir = os.path.join('/bgfs/bchandrasekaran/krs228/',\n",
    "                        'data/FLT/data_bids/',\n",
    "                        'sub-%s/func'%sub_id)\n",
    "\n",
    "file_list = sorted(glob(func_dir+'/*tonecat*events.tsv'))"
   ]
  },
  {
   "cell_type": "code",
   "execution_count": 4,
   "id": "0096b54e",
   "metadata": {},
   "outputs": [],
   "source": [
    "beh_list = []\n",
    "for rx, fpath in enumerate(file_list):\n",
    "\n",
    "    run_df = pd.read_csv(fpath, sep='\\t', index_col=0)\n",
    "    run_df['run'] = rx+1\n",
    "    \n",
    "    beh_list.append(run_df)\n",
    "beh_df = pd.concat(beh_list)\n",
    "beh_df.dropna(inplace=True)"
   ]
  },
  {
   "cell_type": "code",
   "execution_count": 5,
   "id": "8c75ea01",
   "metadata": {},
   "outputs": [
    {
     "data": {
      "text/html": [
       "<div>\n",
       "<style scoped>\n",
       "    .dataframe tbody tr th:only-of-type {\n",
       "        vertical-align: middle;\n",
       "    }\n",
       "\n",
       "    .dataframe tbody tr th {\n",
       "        vertical-align: top;\n",
       "    }\n",
       "\n",
       "    .dataframe thead th {\n",
       "        text-align: right;\n",
       "    }\n",
       "</style>\n",
       "<table border=\"1\" class=\"dataframe\">\n",
       "  <thead>\n",
       "    <tr style=\"text-align: right;\">\n",
       "      <th></th>\n",
       "      <th>onset</th>\n",
       "      <th>duration</th>\n",
       "      <th>trial_type</th>\n",
       "      <th>response_time</th>\n",
       "      <th>stim_file</th>\n",
       "      <th>feedback</th>\n",
       "      <th>run</th>\n",
       "    </tr>\n",
       "  </thead>\n",
       "  <tbody>\n",
       "    <tr>\n",
       "      <th>1</th>\n",
       "      <td>2.200000</td>\n",
       "      <td>0.3</td>\n",
       "      <td>di4-aN</td>\n",
       "      <td>0.127454</td>\n",
       "      <td>stimuli/di4-aN_48000Hz_pol2_S15filt.wav</td>\n",
       "      <td>wrong</td>\n",
       "      <td>1</td>\n",
       "    </tr>\n",
       "    <tr>\n",
       "      <th>2</th>\n",
       "      <td>8.244379</td>\n",
       "      <td>0.3</td>\n",
       "      <td>di3-iN</td>\n",
       "      <td>0.881855</td>\n",
       "      <td>stimuli/di3-iN_48000Hz_pol2_S15filt.wav</td>\n",
       "      <td>wrong</td>\n",
       "      <td>1</td>\n",
       "    </tr>\n",
       "    <tr>\n",
       "      <th>3</th>\n",
       "      <td>14.288180</td>\n",
       "      <td>0.3</td>\n",
       "      <td>di2-bN</td>\n",
       "      <td>1.240418</td>\n",
       "      <td>stimuli/di2-bN_48000Hz_pol2_S15filt.wav</td>\n",
       "      <td>right</td>\n",
       "      <td>1</td>\n",
       "    </tr>\n",
       "    <tr>\n",
       "      <th>4</th>\n",
       "      <td>20.333580</td>\n",
       "      <td>0.3</td>\n",
       "      <td>di4-iN</td>\n",
       "      <td>0.891033</td>\n",
       "      <td>stimuli/di4-iN_48000Hz_pol2_S15filt.wav</td>\n",
       "      <td>right</td>\n",
       "      <td>1</td>\n",
       "    </tr>\n",
       "    <tr>\n",
       "      <th>5</th>\n",
       "      <td>26.377938</td>\n",
       "      <td>0.3</td>\n",
       "      <td>di3-bN</td>\n",
       "      <td>0.906777</td>\n",
       "      <td>stimuli/di3-bN_48000Hz_pol2_S15filt.wav</td>\n",
       "      <td>right</td>\n",
       "      <td>1</td>\n",
       "    </tr>\n",
       "    <tr>\n",
       "      <th>...</th>\n",
       "      <td>...</td>\n",
       "      <td>...</td>\n",
       "      <td>...</td>\n",
       "      <td>...</td>\n",
       "      <td>...</td>\n",
       "      <td>...</td>\n",
       "      <td>...</td>\n",
       "    </tr>\n",
       "    <tr>\n",
       "      <th>54</th>\n",
       "      <td>322.282993</td>\n",
       "      <td>0.3</td>\n",
       "      <td>di3-aN</td>\n",
       "      <td>0.733827</td>\n",
       "      <td>stimuli/di3-aN_48000Hz_pol2_S15filt.wav</td>\n",
       "      <td>right</td>\n",
       "      <td>4</td>\n",
       "    </tr>\n",
       "    <tr>\n",
       "      <th>55</th>\n",
       "      <td>328.327344</td>\n",
       "      <td>0.3</td>\n",
       "      <td>di2-hN</td>\n",
       "      <td>0.866011</td>\n",
       "      <td>stimuli/di2-hN_48000Hz_pol2_S15filt.wav</td>\n",
       "      <td>right</td>\n",
       "      <td>4</td>\n",
       "    </tr>\n",
       "    <tr>\n",
       "      <th>56</th>\n",
       "      <td>334.355911</td>\n",
       "      <td>0.3</td>\n",
       "      <td>di1-hN</td>\n",
       "      <td>0.669706</td>\n",
       "      <td>stimuli/di1-hN_48000Hz_pol2_S15filt.wav</td>\n",
       "      <td>right</td>\n",
       "      <td>4</td>\n",
       "    </tr>\n",
       "    <tr>\n",
       "      <th>58</th>\n",
       "      <td>346.443795</td>\n",
       "      <td>0.3</td>\n",
       "      <td>di3-hN</td>\n",
       "      <td>0.792559</td>\n",
       "      <td>stimuli/di3-hN_48000Hz_pol2_S15filt.wav</td>\n",
       "      <td>right</td>\n",
       "      <td>4</td>\n",
       "    </tr>\n",
       "    <tr>\n",
       "      <th>60</th>\n",
       "      <td>358.548930</td>\n",
       "      <td>0.3</td>\n",
       "      <td>di4-iN</td>\n",
       "      <td>0.797412</td>\n",
       "      <td>stimuli/di4-iN_48000Hz_pol2_S15filt.wav</td>\n",
       "      <td>right</td>\n",
       "      <td>4</td>\n",
       "    </tr>\n",
       "  </tbody>\n",
       "</table>\n",
       "<p>185 rows × 7 columns</p>\n",
       "</div>"
      ],
      "text/plain": [
       "         onset  duration trial_type  response_time  \\\n",
       "1     2.200000       0.3     di4-aN       0.127454   \n",
       "2     8.244379       0.3     di3-iN       0.881855   \n",
       "3    14.288180       0.3     di2-bN       1.240418   \n",
       "4    20.333580       0.3     di4-iN       0.891033   \n",
       "5    26.377938       0.3     di3-bN       0.906777   \n",
       "..         ...       ...        ...            ...   \n",
       "54  322.282993       0.3     di3-aN       0.733827   \n",
       "55  328.327344       0.3     di2-hN       0.866011   \n",
       "56  334.355911       0.3     di1-hN       0.669706   \n",
       "58  346.443795       0.3     di3-hN       0.792559   \n",
       "60  358.548930       0.3     di4-iN       0.797412   \n",
       "\n",
       "                                  stim_file feedback  run  \n",
       "1   stimuli/di4-aN_48000Hz_pol2_S15filt.wav    wrong    1  \n",
       "2   stimuli/di3-iN_48000Hz_pol2_S15filt.wav    wrong    1  \n",
       "3   stimuli/di2-bN_48000Hz_pol2_S15filt.wav    right    1  \n",
       "4   stimuli/di4-iN_48000Hz_pol2_S15filt.wav    right    1  \n",
       "5   stimuli/di3-bN_48000Hz_pol2_S15filt.wav    right    1  \n",
       "..                                      ...      ...  ...  \n",
       "54  stimuli/di3-aN_48000Hz_pol2_S15filt.wav    right    4  \n",
       "55  stimuli/di2-hN_48000Hz_pol2_S15filt.wav    right    4  \n",
       "56  stimuli/di1-hN_48000Hz_pol2_S15filt.wav    right    4  \n",
       "58  stimuli/di3-hN_48000Hz_pol2_S15filt.wav    right    4  \n",
       "60  stimuli/di4-iN_48000Hz_pol2_S15filt.wav    right    4  \n",
       "\n",
       "[185 rows x 7 columns]"
      ]
     },
     "execution_count": 5,
     "metadata": {},
     "output_type": "execute_result"
    }
   ],
   "source": [
    "beh_df"
   ]
  },
  {
   "cell_type": "code",
   "execution_count": 19,
   "id": "53621315",
   "metadata": {
    "scrolled": true
   },
   "outputs": [
    {
     "data": {
      "text/html": [
       "<div>\n",
       "<style scoped>\n",
       "    .dataframe tbody tr th:only-of-type {\n",
       "        vertical-align: middle;\n",
       "    }\n",
       "\n",
       "    .dataframe tbody tr th {\n",
       "        vertical-align: top;\n",
       "    }\n",
       "\n",
       "    .dataframe thead th {\n",
       "        text-align: right;\n",
       "    }\n",
       "</style>\n",
       "<table border=\"1\" class=\"dataframe\">\n",
       "  <thead>\n",
       "    <tr style=\"text-align: right;\">\n",
       "      <th></th>\n",
       "      <th>onset</th>\n",
       "      <th>duration</th>\n",
       "      <th>trial_type</th>\n",
       "      <th>response_time</th>\n",
       "      <th>stim_file</th>\n",
       "      <th>feedback</th>\n",
       "      <th>run</th>\n",
       "    </tr>\n",
       "  </thead>\n",
       "  <tbody>\n",
       "    <tr>\n",
       "      <th>1</th>\n",
       "      <td>2.200000</td>\n",
       "      <td>0.3</td>\n",
       "      <td>di4-aN</td>\n",
       "      <td>0.127454</td>\n",
       "      <td>stimuli/di4-aN_48000Hz_pol2_S15filt.wav</td>\n",
       "      <td>wrong</td>\n",
       "      <td>1</td>\n",
       "    </tr>\n",
       "    <tr>\n",
       "      <th>2</th>\n",
       "      <td>8.244379</td>\n",
       "      <td>0.3</td>\n",
       "      <td>di3-iN</td>\n",
       "      <td>0.881855</td>\n",
       "      <td>stimuli/di3-iN_48000Hz_pol2_S15filt.wav</td>\n",
       "      <td>wrong</td>\n",
       "      <td>1</td>\n",
       "    </tr>\n",
       "    <tr>\n",
       "      <th>3</th>\n",
       "      <td>14.288180</td>\n",
       "      <td>0.3</td>\n",
       "      <td>di2-bN</td>\n",
       "      <td>1.240418</td>\n",
       "      <td>stimuli/di2-bN_48000Hz_pol2_S15filt.wav</td>\n",
       "      <td>right</td>\n",
       "      <td>1</td>\n",
       "    </tr>\n",
       "    <tr>\n",
       "      <th>4</th>\n",
       "      <td>20.333580</td>\n",
       "      <td>0.3</td>\n",
       "      <td>di4-iN</td>\n",
       "      <td>0.891033</td>\n",
       "      <td>stimuli/di4-iN_48000Hz_pol2_S15filt.wav</td>\n",
       "      <td>right</td>\n",
       "      <td>1</td>\n",
       "    </tr>\n",
       "    <tr>\n",
       "      <th>5</th>\n",
       "      <td>26.377938</td>\n",
       "      <td>0.3</td>\n",
       "      <td>di3-bN</td>\n",
       "      <td>0.906777</td>\n",
       "      <td>stimuli/di3-bN_48000Hz_pol2_S15filt.wav</td>\n",
       "      <td>right</td>\n",
       "      <td>1</td>\n",
       "    </tr>\n",
       "    <tr>\n",
       "      <th>...</th>\n",
       "      <td>...</td>\n",
       "      <td>...</td>\n",
       "      <td>...</td>\n",
       "      <td>...</td>\n",
       "      <td>...</td>\n",
       "      <td>...</td>\n",
       "      <td>...</td>\n",
       "    </tr>\n",
       "    <tr>\n",
       "      <th>61</th>\n",
       "      <td>NaN</td>\n",
       "      <td>NaN</td>\n",
       "      <td>NaN</td>\n",
       "      <td>NaN</td>\n",
       "      <td>NaN</td>\n",
       "      <td>wrong</td>\n",
       "      <td>4</td>\n",
       "    </tr>\n",
       "    <tr>\n",
       "      <th>62</th>\n",
       "      <td>NaN</td>\n",
       "      <td>NaN</td>\n",
       "      <td>NaN</td>\n",
       "      <td>NaN</td>\n",
       "      <td>NaN</td>\n",
       "      <td>wrong</td>\n",
       "      <td>4</td>\n",
       "    </tr>\n",
       "    <tr>\n",
       "      <th>63</th>\n",
       "      <td>NaN</td>\n",
       "      <td>NaN</td>\n",
       "      <td>NaN</td>\n",
       "      <td>NaN</td>\n",
       "      <td>NaN</td>\n",
       "      <td>wrong</td>\n",
       "      <td>4</td>\n",
       "    </tr>\n",
       "    <tr>\n",
       "      <th>64</th>\n",
       "      <td>NaN</td>\n",
       "      <td>NaN</td>\n",
       "      <td>NaN</td>\n",
       "      <td>NaN</td>\n",
       "      <td>NaN</td>\n",
       "      <td>wrong</td>\n",
       "      <td>4</td>\n",
       "    </tr>\n",
       "    <tr>\n",
       "      <th>65</th>\n",
       "      <td>NaN</td>\n",
       "      <td>NaN</td>\n",
       "      <td>NaN</td>\n",
       "      <td>NaN</td>\n",
       "      <td>NaN</td>\n",
       "      <td>wrong</td>\n",
       "      <td>4</td>\n",
       "    </tr>\n",
       "  </tbody>\n",
       "</table>\n",
       "<p>245 rows × 7 columns</p>\n",
       "</div>"
      ],
      "text/plain": [
       "        onset  duration trial_type  response_time  \\\n",
       "1    2.200000       0.3     di4-aN       0.127454   \n",
       "2    8.244379       0.3     di3-iN       0.881855   \n",
       "3   14.288180       0.3     di2-bN       1.240418   \n",
       "4   20.333580       0.3     di4-iN       0.891033   \n",
       "5   26.377938       0.3     di3-bN       0.906777   \n",
       "..        ...       ...        ...            ...   \n",
       "61        NaN       NaN        NaN            NaN   \n",
       "62        NaN       NaN        NaN            NaN   \n",
       "63        NaN       NaN        NaN            NaN   \n",
       "64        NaN       NaN        NaN            NaN   \n",
       "65        NaN       NaN        NaN            NaN   \n",
       "\n",
       "                                  stim_file feedback  run  \n",
       "1   stimuli/di4-aN_48000Hz_pol2_S15filt.wav    wrong    1  \n",
       "2   stimuli/di3-iN_48000Hz_pol2_S15filt.wav    wrong    1  \n",
       "3   stimuli/di2-bN_48000Hz_pol2_S15filt.wav    right    1  \n",
       "4   stimuli/di4-iN_48000Hz_pol2_S15filt.wav    right    1  \n",
       "5   stimuli/di3-bN_48000Hz_pol2_S15filt.wav    right    1  \n",
       "..                                      ...      ...  ...  \n",
       "61                                      NaN    wrong    4  \n",
       "62                                      NaN    wrong    4  \n",
       "63                                      NaN    wrong    4  \n",
       "64                                      NaN    wrong    4  \n",
       "65                                      NaN    wrong    4  \n",
       "\n",
       "[245 rows x 7 columns]"
      ]
     },
     "execution_count": 19,
     "metadata": {},
     "output_type": "execute_result"
    }
   ],
   "source": [
    "beh_df"
   ]
  },
  {
   "cell_type": "code",
   "execution_count": 25,
   "id": "694d5ad7",
   "metadata": {},
   "outputs": [],
   "source": []
  },
  {
   "cell_type": "markdown",
   "id": "991358e7",
   "metadata": {},
   "source": [
    "Ah! But my bids-converted events files don't include the actual button responses and what the expected correct response would be. Gotta go back to the source data...."
   ]
  },
  {
   "cell_type": "code",
   "execution_count": 6,
   "id": "3c939b2f",
   "metadata": {},
   "outputs": [],
   "source": [
    "raw_beh_dir = os.path.join('/bgfs/bchandrasekaran/krs228/',\n",
    "                           'data/FLT/sourcedata/behav_files/',\n",
    "                           'CHA-IBR/01-ToneLearning')\n",
    "file_list = sorted(glob(raw_beh_dir+'/sub-%s*tone_learning*.csv'%sub_id))"
   ]
  },
  {
   "cell_type": "code",
   "execution_count": 7,
   "id": "508b5b2e",
   "metadata": {},
   "outputs": [],
   "source": [
    "psy_list = []\n",
    "for rx, fpath in enumerate(file_list):\n",
    "    psy_df = pd.read_csv(fpath, sep=',')\n",
    "    \n",
    "    psy_list.append(psy_df)\n",
    "all_df = pd.concat(psy_list)"
   ]
  },
  {
   "cell_type": "code",
   "execution_count": 8,
   "id": "cc3a3b92",
   "metadata": {},
   "outputs": [
    {
     "data": {
      "text/plain": [
       "Index(['trials.thisRepN', 'trials.thisTrialN', 'trials.thisN',\n",
       "       'trials.thisIndex', 'soundfile', 'corrAns', 'instruct.started',\n",
       "       'instruct.stopped', 'key_resp_2.keys', 'key_resp_2.rt',\n",
       "       'key_resp_2.started', 'key_resp_2.stopped', 'fixation_cross.started',\n",
       "       'fixation_cross.stopped', 'participant', 'session', 'date', 'expName',\n",
       "       'psychopyVersion', 'frameRate', 'Unnamed: 20', 'sound_1.started',\n",
       "       'sound_1.stopped', 'key_resp.keys', 'key_resp.corr', 'key_resp.rt',\n",
       "       'key_resp.started', 'key_resp.stopped', 'text.started', 'text.stopped',\n",
       "       'jitter_pre_fb', 'jitter_post_fb', 'jitter_cross_pre_fb.started',\n",
       "       'jitter_cross_pre_fb.stopped', 'text_2.started', 'text_2.stopped',\n",
       "       'jitter_cross_post_fb.started', 'jitter_cross_post_fb.stopped',\n",
       "       'Unnamed: 37', 'last_acq_loop.thisRepN', 'last_acq_loop.thisTrialN',\n",
       "       'last_acq_loop.thisN', 'last_acq_loop.thisIndex',\n",
       "       'fixation_cross_2.started', 'fixation_cross_2.stopped', 'Unnamed: 43'],\n",
       "      dtype='object')"
      ]
     },
     "execution_count": 8,
     "metadata": {},
     "output_type": "execute_result"
    }
   ],
   "source": [
    "all_df.columns"
   ]
  },
  {
   "cell_type": "code",
   "execution_count": 9,
   "id": "d39f76e4",
   "metadata": {},
   "outputs": [],
   "source": [
    "# just keep the critical data columns\n",
    "simple_df = all_df.loc[:,['key_resp.keys', 'corrAns']].dropna()"
   ]
  },
  {
   "cell_type": "code",
   "execution_count": 10,
   "id": "de9a25e8",
   "metadata": {},
   "outputs": [],
   "source": [
    "simple_df['corrAns'] = simple_df['corrAns'].astype(int)"
   ]
  },
  {
   "cell_type": "code",
   "execution_count": 11,
   "id": "8abf9f56",
   "metadata": {},
   "outputs": [
    {
     "data": {
      "text/plain": [
       "key_resp.keys    object\n",
       "corrAns           int64\n",
       "dtype: object"
      ]
     },
     "execution_count": 11,
     "metadata": {},
     "output_type": "execute_result"
    }
   ],
   "source": [
    "simple_df.dtypes"
   ]
  },
  {
   "cell_type": "code",
   "execution_count": 12,
   "id": "38ffcbe6",
   "metadata": {},
   "outputs": [],
   "source": [
    "renum_simple_df = simple_df.astype(str).replace(['7', '6', '1', '2'], \n",
    "                                                ['1', '2', '3', '4'])"
   ]
  },
  {
   "cell_type": "code",
   "execution_count": 13,
   "id": "fc16dda9",
   "metadata": {},
   "outputs": [],
   "source": [
    "renum_simple_df.drop(renum_simple_df[renum_simple_df['key_resp.keys']=='None'].index, inplace=True)"
   ]
  },
  {
   "cell_type": "code",
   "execution_count": 14,
   "id": "bdb08616",
   "metadata": {},
   "outputs": [
    {
     "data": {
      "text/html": [
       "<div>\n",
       "<style scoped>\n",
       "    .dataframe tbody tr th:only-of-type {\n",
       "        vertical-align: middle;\n",
       "    }\n",
       "\n",
       "    .dataframe tbody tr th {\n",
       "        vertical-align: top;\n",
       "    }\n",
       "\n",
       "    .dataframe thead th {\n",
       "        text-align: right;\n",
       "    }\n",
       "</style>\n",
       "<table border=\"1\" class=\"dataframe\">\n",
       "  <thead>\n",
       "    <tr style=\"text-align: right;\">\n",
       "      <th></th>\n",
       "      <th>key_resp.keys</th>\n",
       "      <th>corrAns</th>\n",
       "    </tr>\n",
       "  </thead>\n",
       "  <tbody>\n",
       "    <tr>\n",
       "      <th>2</th>\n",
       "      <td>2</td>\n",
       "      <td>3</td>\n",
       "    </tr>\n",
       "    <tr>\n",
       "      <th>3</th>\n",
       "      <td>2</td>\n",
       "      <td>2</td>\n",
       "    </tr>\n",
       "    <tr>\n",
       "      <th>4</th>\n",
       "      <td>4</td>\n",
       "      <td>4</td>\n",
       "    </tr>\n",
       "    <tr>\n",
       "      <th>7</th>\n",
       "      <td>3</td>\n",
       "      <td>3</td>\n",
       "    </tr>\n",
       "    <tr>\n",
       "      <th>11</th>\n",
       "      <td>1</td>\n",
       "      <td>1</td>\n",
       "    </tr>\n",
       "    <tr>\n",
       "      <th>...</th>\n",
       "      <td>...</td>\n",
       "      <td>...</td>\n",
       "    </tr>\n",
       "    <tr>\n",
       "      <th>52</th>\n",
       "      <td>3</td>\n",
       "      <td>3</td>\n",
       "    </tr>\n",
       "    <tr>\n",
       "      <th>53</th>\n",
       "      <td>3</td>\n",
       "      <td>3</td>\n",
       "    </tr>\n",
       "    <tr>\n",
       "      <th>54</th>\n",
       "      <td>3</td>\n",
       "      <td>3</td>\n",
       "    </tr>\n",
       "    <tr>\n",
       "      <th>55</th>\n",
       "      <td>2</td>\n",
       "      <td>2</td>\n",
       "    </tr>\n",
       "    <tr>\n",
       "      <th>60</th>\n",
       "      <td>4</td>\n",
       "      <td>4</td>\n",
       "    </tr>\n",
       "  </tbody>\n",
       "</table>\n",
       "<p>102 rows × 2 columns</p>\n",
       "</div>"
      ],
      "text/plain": [
       "   key_resp.keys corrAns\n",
       "2              2       3\n",
       "3              2       2\n",
       "4              4       4\n",
       "7              3       3\n",
       "11             1       1\n",
       "..           ...     ...\n",
       "52             3       3\n",
       "53             3       3\n",
       "54             3       3\n",
       "55             2       2\n",
       "60             4       4\n",
       "\n",
       "[102 rows x 2 columns]"
      ]
     },
     "execution_count": 14,
     "metadata": {},
     "output_type": "execute_result"
    }
   ],
   "source": [
    "renum_simple_df"
   ]
  },
  {
   "cell_type": "code",
   "execution_count": 15,
   "id": "b77ed0ca",
   "metadata": {},
   "outputs": [],
   "source": [
    "from sklearn.metrics import confusion_matrix, ConfusionMatrixDisplay"
   ]
  },
  {
   "cell_type": "code",
   "execution_count": 16,
   "id": "23ecf48d",
   "metadata": {},
   "outputs": [],
   "source": [
    "y_correct = np.array(renum_simple_df['corrAns'])\n",
    "y_response = np.array(renum_simple_df['key_resp.keys'])   \n",
    "\n",
    "cm = confusion_matrix(y_correct, y_response)"
   ]
  },
  {
   "cell_type": "code",
   "execution_count": 77,
   "id": "02249dc1",
   "metadata": {},
   "outputs": [],
   "source": [
    "from seaborn import heatmap"
   ]
  },
  {
   "cell_type": "code",
   "execution_count": 17,
   "id": "c304c8bb",
   "metadata": {},
   "outputs": [
    {
     "data": {
      "text/plain": [
       "array([[25,  0,  0,  0],\n",
       "       [ 0, 25,  0,  0],\n",
       "       [ 0,  1, 25,  0],\n",
       "       [ 0,  0,  0, 26]])"
      ]
     },
     "execution_count": 17,
     "metadata": {},
     "output_type": "execute_result"
    }
   ],
   "source": [
    "cm"
   ]
  },
  {
   "cell_type": "code",
   "execution_count": 36,
   "id": "9baf2b91",
   "metadata": {},
   "outputs": [
    {
     "data": {
      "image/png": "[encoded data removed]",
      "text/plain": [
       "<Figure size 432x288 with 1 Axes>"
      ]
     },
     "metadata": {
      "needs_background": "light"
     },
     "output_type": "display_data"
    }
   ],
   "source": [
    "disp = ConfusionMatrixDisplay.from_predictions(y_correct, y_response, \n",
    "                                               display_labels=['T1', 'T2', 'T3', 'T4'],\n",
    "                                               cmap='viridis_r', colorbar=False, include_values=False)\n"
   ]
  },
  {
   "cell_type": "code",
   "execution_count": 19,
   "id": "f44fb761",
   "metadata": {},
   "outputs": [
    {
     "data": {
      "text/plain": [
       "'1.1.1'"
      ]
     },
     "execution_count": 19,
     "metadata": {},
     "output_type": "execute_result"
    }
   ],
   "source": [
    "import sklearn; sklearn.__version__"
   ]
  },
  {
   "cell_type": "code",
   "execution_count": null,
   "id": "01c48a80",
   "metadata": {},
   "outputs": [],
   "source": []
  }
 ],
 "metadata": {
  "kernelspec": {
   "display_name": "Python 3 (ipykernel)",
   "language": "python",
   "name": "python3"
  },
  "language_info": {
   "codemirror_mode": {
    "name": "ipython",
    "version": 3
   },
   "file_extension": ".py",
   "mimetype": "text/x-python",
   "name": "python",
   "nbconvert_exporter": "python",
   "pygments_lexer": "ipython3",
   "version": "3.9.7"
  }
 },
 "nbformat": 4,
 "nbformat_minor": 5
}
