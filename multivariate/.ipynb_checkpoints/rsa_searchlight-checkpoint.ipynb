{
 "cells": [
  {
   "cell_type": "markdown",
   "id": "f87478fa-b820-413b-a6c9-7f63bbb09da4",
   "metadata": {},
   "source": [
    "Based on the rsatoolbox tutorial: https://rsatoolbox.readthedocs.io/en/stable/demo_searchlight.html"
   ]
  },
  {
   "cell_type": "code",
   "execution_count": 1,
   "id": "5753df75-dc0f-4b9d-a12b-1b3688934588",
   "metadata": {},
   "outputs": [],
   "source": [
    "import os\n",
    "\n",
    "import numpy as np\n",
    "import matplotlib.pyplot as plt\n",
    "import pandas as pd\n",
    "import nibabel as nib\n",
    "import seaborn as sns\n",
    "\n",
    "from nilearn import plotting\n",
    "from nilearn.image import new_img_like\n",
    "\n",
    "from rsatoolbox.inference import eval_fixed\n",
    "from rsatoolbox.model import ModelFixed, Model\n",
    "from rsatoolbox.rdm import RDMs\n",
    "from rsatoolbox.vis import show_rdm\n",
    "\n",
    "from rsatoolbox.util.searchlight import get_volume_searchlight, get_searchlight_RDMs, evaluate_models_searchlight\n",
    "from glob import glob\n"
   ]
  },
  {
   "cell_type": "code",
   "execution_count": 30,
   "id": "d93e17f9-5d80-4152-bc19-3e283b954027",
   "metadata": {},
   "outputs": [
    {
     "data": {
      "text/plain": [
       "<module 'rsatoolbox' from '/bgfs/bchandrasekaran/krs228/software/miniconda3/envs/py3/lib/python3.9/site-packages/rsatoolbox/__init__.py'>"
      ]
     },
     "execution_count": 30,
     "metadata": {},
     "output_type": "execute_result"
    }
   ],
   "source": [
    "import rsatoolbox\n",
    "rsatoolbox"
   ]
  },
  {
   "cell_type": "code",
   "execution_count": 2,
   "id": "a584f50f-0d8b-49a2-a3e5-e590e0cb2371",
   "metadata": {},
   "outputs": [],
   "source": [
    "def upper_tri(RDM):\n",
    "    \"\"\"upper_tri returns the upper triangular index of an RDM\n",
    "\n",
    "    Args:\n",
    "        RDM 2Darray: squareform RDM\n",
    "\n",
    "    Returns:\n",
    "        1D array: upper triangular vector of the RDM\n",
    "    \"\"\"\n",
    "    # returns the upper triangle\n",
    "    m = RDM.shape[0]\n",
    "    r, c = np.triu_indices(m, 1)\n",
    "    return RDM[r, c]"
   ]
  },
  {
   "cell_type": "code",
   "execution_count": 3,
   "id": "9e6db0ec-f48f-458d-9cd1-d1b3171e95c5",
   "metadata": {},
   "outputs": [],
   "source": [
    "import matplotlib.colors\n",
    "def RDMcolormapObject(direction=1):\n",
    "    \"\"\"\n",
    "    Returns a matplotlib color map object for RSA and brain plotting\n",
    "    \"\"\"\n",
    "    if direction == 0:\n",
    "        cs = ['yellow', 'red', 'gray', 'turquoise', 'blue']\n",
    "    elif direction == 1:\n",
    "        cs = ['blue', 'turquoise', 'gray', 'red', 'yellow']\n",
    "    else:\n",
    "        raise ValueError('Direction needs to be 0 or 1')\n",
    "    cmap = matplotlib.colors.LinearSegmentedColormap.from_list(\"\", cs)\n",
    "    return cmap"
   ]
  },
  {
   "cell_type": "code",
   "execution_count": 4,
   "id": "0d173b40-9f2a-4623-a577-0b036738dbcc",
   "metadata": {},
   "outputs": [],
   "source": [
    "project_dir = os.path.join('/bgfs/bchandrasekaran/krs228/data/', 'FLT/')\n",
    "fmriprep_dir = os.path.join(project_dir, 'derivatives', 'fmriprep_noSDC')\n",
    "\n",
    "bidsroot = os.path.join(project_dir, 'archive', 'data_bids_noIntendedFor')\n",
    "deriv_dir = os.path.join(bidsroot, 'derivatives')\n",
    "\n",
    "model_dir = os.path.join(deriv_dir, 'nilearn', 'level-1_fwhm-0.00',)\n",
    "\n",
    "task_list = ['tonecat']\n",
    "space_label = 'MNI152NLin2009cAsym'"
   ]
  },
  {
   "cell_type": "code",
   "execution_count": 5,
   "id": "02161166-010b-4827-8ce8-7ccddeb76e20",
   "metadata": {},
   "outputs": [],
   "source": [
    "# set this path to wherever you saved the folder containing the img-files\n",
    "sub_id = 'FLT02'\n",
    "data_folder = os.path.join(model_dir, \n",
    "                           'sub-{}_space-{}'.format(sub_id, space_label),\n",
    "                           'run-all')\n",
    "\n",
    "image_paths = sorted(glob('{}/*contrast-sound*map-beta.nii.gz'.format(data_folder)))\n",
    "\n",
    "mask_fpath = os.path.join(deriv_dir, 'nilearn', 'masks', 'sub-{}'.format(sub_id),\n",
    "                          'space-{}'.format(space_label), 'masks-dseg',\n",
    "                          'sub-{}_space-{}_mask-gm.nii.gz'.format(sub_id, space_label))"
   ]
  },
  {
   "cell_type": "code",
   "execution_count": 6,
   "id": "d5641d74-d11a-47be-80ef-fe28a82a9a50",
   "metadata": {
    "tags": []
   },
   "outputs": [
    {
     "name": "stdout",
     "output_type": "stream",
     "text": [
      "/bgfs/bchandrasekaran/krs228/data/FLT/archive/data_bids_noIntendedFor/derivatives/nilearn/level-1_fwhm-0.00/sub-FLT02_space-MNI152NLin2009cAsym/run-all/sub-FLT02_task-tonecat_fwhm-0.00_space-MNI152NLin2009cAsym_contrast-sound_di1_aN_map-beta.nii.gz\n",
      "/bgfs/bchandrasekaran/krs228/data/FLT/archive/data_bids_noIntendedFor/derivatives/nilearn/level-1_fwhm-0.00/sub-FLT02_space-MNI152NLin2009cAsym/run-all/sub-FLT02_task-tonecat_fwhm-0.00_space-MNI152NLin2009cAsym_contrast-sound_di1_bN_map-beta.nii.gz\n",
      "/bgfs/bchandrasekaran/krs228/data/FLT/archive/data_bids_noIntendedFor/derivatives/nilearn/level-1_fwhm-0.00/sub-FLT02_space-MNI152NLin2009cAsym/run-all/sub-FLT02_task-tonecat_fwhm-0.00_space-MNI152NLin2009cAsym_contrast-sound_di1_hN_map-beta.nii.gz\n",
      "/bgfs/bchandrasekaran/krs228/data/FLT/archive/data_bids_noIntendedFor/derivatives/nilearn/level-1_fwhm-0.00/sub-FLT02_space-MNI152NLin2009cAsym/run-all/sub-FLT02_task-tonecat_fwhm-0.00_space-MNI152NLin2009cAsym_contrast-sound_di1_iN_map-beta.nii.gz\n",
      "/bgfs/bchandrasekaran/krs228/data/FLT/archive/data_bids_noIntendedFor/derivatives/nilearn/level-1_fwhm-0.00/sub-FLT02_space-MNI152NLin2009cAsym/run-all/sub-FLT02_task-tonecat_fwhm-0.00_space-MNI152NLin2009cAsym_contrast-sound_di2_aN_map-beta.nii.gz\n",
      "/bgfs/bchandrasekaran/krs228/data/FLT/archive/data_bids_noIntendedFor/derivatives/nilearn/level-1_fwhm-0.00/sub-FLT02_space-MNI152NLin2009cAsym/run-all/sub-FLT02_task-tonecat_fwhm-0.00_space-MNI152NLin2009cAsym_contrast-sound_di2_bN_map-beta.nii.gz\n",
      "/bgfs/bchandrasekaran/krs228/data/FLT/archive/data_bids_noIntendedFor/derivatives/nilearn/level-1_fwhm-0.00/sub-FLT02_space-MNI152NLin2009cAsym/run-all/sub-FLT02_task-tonecat_fwhm-0.00_space-MNI152NLin2009cAsym_contrast-sound_di2_hN_map-beta.nii.gz\n",
      "/bgfs/bchandrasekaran/krs228/data/FLT/archive/data_bids_noIntendedFor/derivatives/nilearn/level-1_fwhm-0.00/sub-FLT02_space-MNI152NLin2009cAsym/run-all/sub-FLT02_task-tonecat_fwhm-0.00_space-MNI152NLin2009cAsym_contrast-sound_di2_iN_map-beta.nii.gz\n",
      "/bgfs/bchandrasekaran/krs228/data/FLT/archive/data_bids_noIntendedFor/derivatives/nilearn/level-1_fwhm-0.00/sub-FLT02_space-MNI152NLin2009cAsym/run-all/sub-FLT02_task-tonecat_fwhm-0.00_space-MNI152NLin2009cAsym_contrast-sound_di3_aN_map-beta.nii.gz\n",
      "/bgfs/bchandrasekaran/krs228/data/FLT/archive/data_bids_noIntendedFor/derivatives/nilearn/level-1_fwhm-0.00/sub-FLT02_space-MNI152NLin2009cAsym/run-all/sub-FLT02_task-tonecat_fwhm-0.00_space-MNI152NLin2009cAsym_contrast-sound_di3_bN_map-beta.nii.gz\n",
      "/bgfs/bchandrasekaran/krs228/data/FLT/archive/data_bids_noIntendedFor/derivatives/nilearn/level-1_fwhm-0.00/sub-FLT02_space-MNI152NLin2009cAsym/run-all/sub-FLT02_task-tonecat_fwhm-0.00_space-MNI152NLin2009cAsym_contrast-sound_di3_hN_map-beta.nii.gz\n",
      "/bgfs/bchandrasekaran/krs228/data/FLT/archive/data_bids_noIntendedFor/derivatives/nilearn/level-1_fwhm-0.00/sub-FLT02_space-MNI152NLin2009cAsym/run-all/sub-FLT02_task-tonecat_fwhm-0.00_space-MNI152NLin2009cAsym_contrast-sound_di3_iN_map-beta.nii.gz\n",
      "/bgfs/bchandrasekaran/krs228/data/FLT/archive/data_bids_noIntendedFor/derivatives/nilearn/level-1_fwhm-0.00/sub-FLT02_space-MNI152NLin2009cAsym/run-all/sub-FLT02_task-tonecat_fwhm-0.00_space-MNI152NLin2009cAsym_contrast-sound_di4_aN_map-beta.nii.gz\n",
      "/bgfs/bchandrasekaran/krs228/data/FLT/archive/data_bids_noIntendedFor/derivatives/nilearn/level-1_fwhm-0.00/sub-FLT02_space-MNI152NLin2009cAsym/run-all/sub-FLT02_task-tonecat_fwhm-0.00_space-MNI152NLin2009cAsym_contrast-sound_di4_bN_map-beta.nii.gz\n",
      "/bgfs/bchandrasekaran/krs228/data/FLT/archive/data_bids_noIntendedFor/derivatives/nilearn/level-1_fwhm-0.00/sub-FLT02_space-MNI152NLin2009cAsym/run-all/sub-FLT02_task-tonecat_fwhm-0.00_space-MNI152NLin2009cAsym_contrast-sound_di4_hN_map-beta.nii.gz\n",
      "/bgfs/bchandrasekaran/krs228/data/FLT/archive/data_bids_noIntendedFor/derivatives/nilearn/level-1_fwhm-0.00/sub-FLT02_space-MNI152NLin2009cAsym/run-all/sub-FLT02_task-tonecat_fwhm-0.00_space-MNI152NLin2009cAsym_contrast-sound_di4_iN_map-beta.nii.gz\n"
     ]
    }
   ],
   "source": [
    "mask_img = nib.load(mask_fpath)\n",
    "mask_data = mask_img.get_fdata()\n",
    "x, y, z = mask_data.shape\n",
    "\n",
    "# loop over all images\n",
    "data = np.zeros((len(image_paths), x, y, z))\n",
    "for x, im in enumerate(image_paths):\n",
    "    print(im)\n",
    "    data[x] = nib.load(im).get_fdata()\n",
    "\n",
    "# only one pattern per image\n",
    "image_value = np.arange(len(image_paths))"
   ]
  },
  {
   "cell_type": "code",
   "execution_count": 7,
   "id": "5cb8cebd-7550-442b-b4e2-e2044f36baff",
   "metadata": {},
   "outputs": [
    {
     "name": "stderr",
     "output_type": "stream",
     "text": [
      "Finding searchlights...: 100%|██████████| 449049/449049 [02:25<00:00, 3093.16it/s]\n"
     ]
    },
    {
     "name": "stdout",
     "output_type": "stream",
     "text": [
      "Found 420909 searchlights\n"
     ]
    }
   ],
   "source": [
    "# takes about 10 minutes with 2,540,000 voxels; grey matter-masked (449,000), about 3 min\n",
    "centers, neighbors = get_volume_searchlight(mask_data, radius=5, threshold=0.5)"
   ]
  },
  {
   "cell_type": "code",
   "execution_count": 10,
   "id": "dd542467-4e2c-4e4a-a3eb-e49c9b2281c8",
   "metadata": {},
   "outputs": [
    {
     "data": {
      "text/plain": [
       "(420909,)"
      ]
     },
     "execution_count": 10,
     "metadata": {},
     "output_type": "execute_result"
    }
   ],
   "source": [
    "centers.shape"
   ]
  },
  {
   "cell_type": "code",
   "execution_count": 11,
   "id": "771d6fc2-1923-4481-af78-487d936bbb27",
   "metadata": {},
   "outputs": [
    {
     "data": {
      "text/plain": [
       "array([ 0,  1,  2,  3,  4,  5,  6,  7,  8,  9, 10, 11, 12, 13, 14, 15])"
      ]
     },
     "execution_count": 11,
     "metadata": {},
     "output_type": "execute_result"
    }
   ],
   "source": [
    "image_value"
   ]
  },
  {
   "cell_type": "code",
   "execution_count": 12,
   "id": "90c65dde-739c-4793-8065-393c81cab315",
   "metadata": {},
   "outputs": [
    {
     "name": "stderr",
     "output_type": "stream",
     "text": [
      "Calculating RDMs...:   0%|          | 0/100 [00:00<?, ?it/s]/bgfs/bchandrasekaran/krs228/software/miniconda3/envs/py3/lib/python3.9/site-packages/rsatoolbox/rdm/calc.py:209: RuntimeWarning: invalid value encountered in true_divide\n",
      "  ma /= np.sqrt(np.einsum('ij,ij->i', ma, ma))[:, None]\n",
      "Calculating RDMs...: 100%|██████████| 100/100 [04:55<00:00,  2.96s/it]\n"
     ]
    }
   ],
   "source": [
    "# reshape data so we have n_observastions x n_voxels\n",
    "data_2d = data.reshape([data.shape[0], -1])\n",
    "data_2d = np.nan_to_num(data_2d)\n",
    "\n",
    "# Get RDMs\n",
    "SL_RDM = get_searchlight_RDMs(data_2d, centers, neighbors, image_value, method='correlation')"
   ]
  },
  {
   "cell_type": "code",
   "execution_count": 13,
   "id": "5868b8f3-f294-40ec-b11e-b7efbbca920a",
   "metadata": {},
   "outputs": [
    {
     "data": {
      "text/plain": [
       "(16, 129, 153, 129)"
      ]
     },
     "execution_count": 13,
     "metadata": {},
     "output_type": "execute_result"
    }
   ],
   "source": [
    "data.shape"
   ]
  },
  {
   "cell_type": "code",
   "execution_count": 14,
   "id": "257e8f37-a9c4-472a-89f5-b93571e3158b",
   "metadata": {},
   "outputs": [
    {
     "data": {
      "text/plain": [
       "(16, 2546073)"
      ]
     },
     "execution_count": 14,
     "metadata": {},
     "output_type": "execute_result"
    }
   ],
   "source": [
    "data_2d.shape"
   ]
  },
  {
   "cell_type": "code",
   "execution_count": 16,
   "id": "77ff86db-9970-4256-b2c5-c1d443c575c1",
   "metadata": {},
   "outputs": [
    {
     "data": {
      "text/plain": [
       "(420909, 120)"
      ]
     },
     "execution_count": 16,
     "metadata": {},
     "output_type": "execute_result"
    }
   ],
   "source": [
    "SL_RDM.dissimilarities.shape"
   ]
  },
  {
   "cell_type": "code",
   "execution_count": null,
   "id": "21c76a5d-0655-4741-a3d9-c1c7da2214ef",
   "metadata": {},
   "outputs": [],
   "source": []
  },
  {
   "cell_type": "markdown",
   "id": "a7fafa95-e478-431f-b910-fb0452d84e2e",
   "metadata": {},
   "source": [
    "#### Categorical RDMs"
   ]
  },
  {
   "cell_type": "code",
   "execution_count": 18,
   "id": "07be7d4a-6224-42ce-9d7d-a8f251f2b132",
   "metadata": {},
   "outputs": [],
   "source": [
    "# make categorical RDMs\n",
    "tone_rdm = np.array([[0, 0, 0, 0, 1, 1, 1, 1, 1, 1, 1, 1, 1, 1, 1, 1,],\n",
    "                     [0, 0, 0, 0, 1, 1, 1, 1, 1, 1, 1, 1, 1, 1, 1, 1,],\n",
    "                     [0, 0, 0, 0, 1, 1, 1, 1, 1, 1, 1, 1, 1, 1, 1, 1,],\n",
    "                     [0, 0, 0, 0, 1, 1, 1, 1, 1, 1, 1, 1, 1, 1, 1, 1,],\n",
    "                     [1, 1, 1, 1, 0, 0, 0, 0, 1, 1, 1, 1, 1, 1, 1, 1,],\n",
    "                     [1, 1, 1, 1, 0, 0, 0, 0, 1, 1, 1, 1, 1, 1, 1, 1,],\n",
    "                     [1, 1, 1, 1, 0, 0, 0, 0, 1, 1, 1, 1, 1, 1, 1, 1,],\n",
    "                     [1, 1, 1, 1, 0, 0, 0, 0, 1, 1, 1, 1, 1, 1, 1, 1,],\n",
    "                     [1, 1, 1, 1, 1, 1, 1, 1, 0, 0, 0, 0, 1, 1, 1, 1,],\n",
    "                     [1, 1, 1, 1, 1, 1, 1, 1, 0, 0, 0, 0, 1, 1, 1, 1,],\n",
    "                     [1, 1, 1, 1, 1, 1, 1, 1, 0, 0, 0, 0, 1, 1, 1, 1,],\n",
    "                     [1, 1, 1, 1, 1, 1, 1, 1, 0, 0, 0, 0, 1, 1, 1, 1,],\n",
    "                     [1, 1, 1, 1, 1, 1, 1, 1, 1, 1, 1, 1, 0, 0, 0, 0,],\n",
    "                     [1, 1, 1, 1, 1, 1, 1, 1, 1, 1, 1, 1, 0, 0, 0, 0,],\n",
    "                     [1, 1, 1, 1, 1, 1, 1, 1, 1, 1, 1, 1, 0, 0, 0, 0,],\n",
    "                     [1, 1, 1, 1, 1, 1, 1, 1, 1, 1, 1, 1, 0, 0, 0, 0,], ])\n",
    "\n",
    "talker_rdm = np.array([[0, 1, 1, 1, 0, 1, 1, 1, 0, 1, 1, 1, 0, 1, 1, 1, ],\n",
    "                       [1, 0, 1, 1, 1, 0, 1, 1, 1, 0, 1, 1, 1, 0, 1, 1, ],\n",
    "                       [1, 1, 0, 1, 1, 1, 0, 1, 1, 1, 0, 1, 1, 1, 0, 1, ],\n",
    "                       [1, 1, 1, 0, 1, 1, 1, 0, 1, 1, 1, 0, 1, 1, 1, 0, ],\n",
    "                       [0, 1, 1, 1, 0, 1, 1, 1, 0, 1, 1, 1, 0, 1, 1, 1, ],\n",
    "                       [1, 0, 1, 1, 1, 0, 1, 1, 1, 0, 1, 1, 1, 0, 1, 1, ],\n",
    "                       [1, 1, 0, 1, 1, 1, 0, 1, 1, 1, 0, 1, 1, 1, 0, 1, ],\n",
    "                       [1, 1, 1, 0, 1, 1, 1, 0, 1, 1, 1, 0, 1, 1, 1, 0, ],\n",
    "                       [0, 1, 1, 1, 0, 1, 1, 1, 0, 1, 1, 1, 0, 1, 1, 1, ],\n",
    "                       [1, 0, 1, 1, 1, 0, 1, 1, 1, 0, 1, 1, 1, 0, 1, 1, ],\n",
    "                       [1, 1, 0, 1, 1, 1, 0, 1, 1, 1, 0, 1, 1, 1, 0, 1, ],\n",
    "                       [1, 1, 1, 0, 1, 1, 1, 0, 1, 1, 1, 0, 1, 1, 1, 0, ],\n",
    "                       [0, 1, 1, 1, 0, 1, 1, 1, 0, 1, 1, 1, 0, 1, 1, 1, ],\n",
    "                       [1, 0, 1, 1, 1, 0, 1, 1, 1, 0, 1, 1, 1, 0, 1, 1, ],\n",
    "                       [1, 1, 0, 1, 1, 1, 0, 1, 1, 1, 0, 1, 1, 1, 0, 1, ],\n",
    "                       [1, 1, 1, 0, 1, 1, 1, 0, 1, 1, 1, 0, 1, 1, 1, 0, ], ])\n",
    "\n",
    "rdms_array = np.array([tone_rdm, talker_rdm])"
   ]
  },
  {
   "cell_type": "code",
   "execution_count": 19,
   "id": "d56a8aa9-0fbb-4034-9484-508bbfa553e8",
   "metadata": {},
   "outputs": [],
   "source": [
    "model_rdms = RDMs(rdms_array,\n",
    "                    rdm_descriptors={'categorical_model':['tone', 'talker'],},\n",
    "                    dissimilarity_measure='Euclidean'\n",
    "                   )"
   ]
  },
  {
   "cell_type": "code",
   "execution_count": 20,
   "id": "62a911df-95ac-4737-8c39-11a305ea045a",
   "metadata": {},
   "outputs": [
    {
     "data": {
      "image/png": "[encoded data removed]",
      "text/plain": [
       "<Figure size 288x288 with 1 Axes>"
      ]
     },
     "metadata": {},
     "output_type": "display_data"
    },
    {
     "data": {
      "image/png": "[encoded data removed]",
      "text/plain": [
       "<Figure size 288x288 with 1 Axes>"
      ]
     },
     "metadata": {},
     "output_type": "display_data"
    }
   ],
   "source": [
    "tone_rdms = model_rdms.subset('categorical_model','tone')\n",
    "fig, ax, ret_val = show_rdm(tone_rdms, rdm_descriptor='measurement_model', figsize=(4,4))\n",
    "\n",
    "talker_rdms = model_rdms.subset('categorical_model','talker')\n",
    "fig, ax, ret_val = show_rdm(talker_rdms, rdm_descriptor='measurement_model', figsize=(4,4))"
   ]
  },
  {
   "cell_type": "code",
   "execution_count": 21,
   "id": "744a4e33-2b9a-4381-aa0a-ef7cfa63e27b",
   "metadata": {},
   "outputs": [
    {
     "data": {
      "text/plain": [
       "rsatoolbox.rdm.RDMs(\n",
       "dissimilarity_measure = \n",
       "Euclidean\n",
       "dissimilarities = \n",
       "[[0. 0. 0. 1. 1. 1. 1. 1. 1. 1. 1. 1. 1. 1. 1. 0. 0. 1. 1. 1. 1. 1. 1. 1.\n",
       "  1. 1. 1. 1. 1. 0. 1. 1. 1. 1. 1. 1. 1. 1. 1. 1. 1. 1. 1. 1. 1. 1. 1. 1.\n",
       "  1. 1. 1. 1. 1. 1. 0. 0. 0. 1. 1. 1. 1. 1. 1. 1. 1. 0. 0. 1. 1. 1. 1. 1.\n",
       "  1. 1. 1. 0. 1. 1. 1. 1. 1. 1. 1. 1. 1. 1. 1. 1. 1. 1. 1. 1. 0. 0. 0. 1.\n",
       "  1. 1. 1. 0. 0. 1. 1. 1. 1. 0. 1. 1. 1. 1. 1. 1. 1. 1. 0. 0. 0. 0. 0. 0.]\n",
       " [1. 1. 1. 0. 1. 1. 1. 0. 1. 1. 1. 0. 1. 1. 1. 1. 1. 1. 0. 1. 1. 1. 0. 1.\n",
       "  1. 1. 0. 1. 1. 1. 1. 1. 0. 1. 1. 1. 0. 1. 1. 1. 0. 1. 1. 1. 1. 0. 1. 1.\n",
       "  1. 0. 1. 1. 1. 0. 1. 1. 1. 0. 1. 1. 1. 0. 1. 1. 1. 1. 1. 1. 0. 1. 1. 1.\n",
       "  0. 1. 1. 1. 1. 1. 0. 1. 1. 1. 0. 1. 1. 1. 1. 0. 1. 1. 1. 0. 1. 1. 1. 0.\n",
       "  1. 1. 1. 1. 1. 1. 0. 1. 1. 1. 1. 1. 0. 1. 1. 1. 1. 0. 1. 1. 1. 1. 1. 1.]]\n",
       "descriptors = \n",
       "{}\n",
       "rdm_descriptors = \n",
       "{'categorical_model': ['tone', 'talker'], 'index': [0, 1]}\n",
       "pattern_descriptors = \n",
       "{'index': [0, 1, 2, 3, 4, 5, 6, 7, 8, 9, 10, 11, 12, 13, 14, 15]}"
      ]
     },
     "execution_count": 21,
     "metadata": {},
     "output_type": "execute_result"
    }
   ],
   "source": [
    "model_rdms"
   ]
  },
  {
   "cell_type": "code",
   "execution_count": 22,
   "id": "daf21edb-89fe-4d42-adff-2ddf551e09d9",
   "metadata": {},
   "outputs": [
    {
     "data": {
      "text/plain": [
       "(2, 120)"
      ]
     },
     "execution_count": 22,
     "metadata": {},
     "output_type": "execute_result"
    }
   ],
   "source": [
    "model_rdms.dissimilarities.shape"
   ]
  },
  {
   "cell_type": "markdown",
   "id": "775ecde8-0c5d-4ddc-8a06-9f93f8594f7a",
   "metadata": {},
   "source": [
    "#### Convert from RDM to Model"
   ]
  },
  {
   "cell_type": "code",
   "execution_count": 23,
   "id": "8b0c4626-d7bd-4c69-a4d5-937af10b0cd3",
   "metadata": {},
   "outputs": [],
   "source": [
    "tone_model = ModelFixed( 'Tone RDM', model_rdms.subset('categorical_model', 'tone'))"
   ]
  },
  {
   "cell_type": "code",
   "execution_count": 24,
   "id": "a8ad6bd2-8002-4b18-85e2-802a5ad0242f",
   "metadata": {},
   "outputs": [
    {
     "data": {
      "text/plain": [
       "True"
      ]
     },
     "execution_count": 24,
     "metadata": {},
     "output_type": "execute_result"
    }
   ],
   "source": [
    "isinstance(tone_model, Model)"
   ]
  },
  {
   "cell_type": "code",
   "execution_count": 25,
   "id": "8b5c678a-5d15-477d-9f97-066b0ce33789",
   "metadata": {},
   "outputs": [
    {
     "data": {
      "text/plain": [
       "(120,)"
      ]
     },
     "execution_count": 25,
     "metadata": {},
     "output_type": "execute_result"
    }
   ],
   "source": [
    "tone_model.rdm.shape"
   ]
  },
  {
   "cell_type": "code",
   "execution_count": 26,
   "id": "1fb46ede-d3b4-41f3-ba8a-96cf1b22153a",
   "metadata": {},
   "outputs": [
    {
     "data": {
      "text/plain": [
       "(array([], dtype=int64),)"
      ]
     },
     "execution_count": 26,
     "metadata": {},
     "output_type": "execute_result"
    }
   ],
   "source": [
    "np.where(tone_model.rdm==np.nan)"
   ]
  },
  {
   "cell_type": "code",
   "execution_count": 27,
   "id": "88f14f4f-263e-4894-b553-7d504bcba8cd",
   "metadata": {},
   "outputs": [
    {
     "data": {
      "text/plain": [
       "(array([], dtype=int64), array([], dtype=int64))"
      ]
     },
     "execution_count": 27,
     "metadata": {},
     "output_type": "execute_result"
    }
   ],
   "source": [
    "np.where(SL_RDM.dissimilarities==np.nan)"
   ]
  },
  {
   "cell_type": "code",
   "execution_count": null,
   "id": "142efbc1-4a8a-486f-85b4-2796ca574d21",
   "metadata": {},
   "outputs": [],
   "source": [
    "'''\n",
    "# load model RDMs\n",
    "rdm_dir = os.path.join()\n",
    "an_labels = np.load('118_images_files/118_animate_labels.npy')\n",
    "an_RDM = np.load('118_images_files/118_animate_RDM.npy')\n",
    "an_model = ModelFixed('Animate RDM', upper_tri(an_RDM))\n",
    "'''"
   ]
  },
  {
   "cell_type": "markdown",
   "id": "3c72f199-35e6-4f3e-912c-ccd2236188f4",
   "metadata": {},
   "source": [
    "#### Compare RDMs"
   ]
  },
  {
   "cell_type": "markdown",
   "id": "5d6a982f-8dda-4793-a910-e8aea93c86f6",
   "metadata": {},
   "source": [
    "WORK IN PROGRESS – have not been able to successfully run "
   ]
  },
  {
   "cell_type": "code",
   "execution_count": null,
   "id": "3798dfe2-5709-479c-8148-18a14f5e671f",
   "metadata": {},
   "outputs": [
    {
     "name": "stderr",
     "output_type": "stream",
     "text": [
      "Evaluating models for each searchlight:   0%|          | 4/420909 [00:15<9:03:12, 12.91it/s]/bgfs/bchandrasekaran/krs228/software/miniconda3/envs/py3/lib/python3.9/site-packages/rsatoolbox/inference/evaluate.py:255: RuntimeWarning: Degrees of freedom <= 0 for slice\n",
      "  variances = np.cov(evaluations[0], ddof=1) \\\n",
      "/bgfs/bchandrasekaran/krs228/software/miniconda3/envs/py3/lib/python3.9/site-packages/rsatoolbox/inference/evaluate.py:255: RuntimeWarning: Degrees of freedom <= 0 for slice\n",
      "  variances = np.cov(evaluations[0], ddof=1) \\\n",
      "/bgfs/bchandrasekaran/krs228/software/miniconda3/envs/py3/lib/python3.9/site-packages/rsatoolbox/inference/evaluate.py:255: RuntimeWarning: Degrees of freedom <= 0 for slice\n",
      "  variances = np.cov(evaluations[0], ddof=1) \\\n",
      "/bgfs/bchandrasekaran/krs228/software/miniconda3/envs/py3/lib/python3.9/site-packages/rsatoolbox/inference/evaluate.py:255: RuntimeWarning: Degrees of freedom <= 0 for slice\n",
      "  variances = np.cov(evaluations[0], ddof=1) \\\n",
      "/bgfs/bchandrasekaran/krs228/software/miniconda3/envs/py3/lib/python3.9/site-packages/numpy/lib/function_base.py:2480: RuntimeWarning: divide by zero encountered in true_divide\n",
      "  c *= np.true_divide(1, fact)\n",
      "/bgfs/bchandrasekaran/krs228/software/miniconda3/envs/py3/lib/python3.9/site-packages/numpy/lib/function_base.py:2480: RuntimeWarning: invalid value encountered in multiply\n",
      "  c *= np.true_divide(1, fact)\n",
      "/bgfs/bchandrasekaran/krs228/software/miniconda3/envs/py3/lib/python3.9/site-packages/numpy/lib/function_base.py:2480: RuntimeWarning: divide by zero encountered in true_divide\n",
      "  c *= np.true_divide(1, fact)\n",
      "/bgfs/bchandrasekaran/krs228/software/miniconda3/envs/py3/lib/python3.9/site-packages/numpy/lib/function_base.py:2480: RuntimeWarning: invalid value encountered in multiply\n",
      "  c *= np.true_divide(1, fact)\n",
      "/bgfs/bchandrasekaran/krs228/software/miniconda3/envs/py3/lib/python3.9/site-packages/numpy/lib/function_base.py:2480: RuntimeWarning: divide by zero encountered in true_divide\n",
      "  c *= np.true_divide(1, fact)\n",
      "/bgfs/bchandrasekaran/krs228/software/miniconda3/envs/py3/lib/python3.9/site-packages/numpy/lib/function_base.py:2480: RuntimeWarning: invalid value encountered in multiply\n",
      "  c *= np.true_divide(1, fact)\n",
      "Evaluating models for each searchlight:   0%|          | 8/420909 [00:43<743:24:49,  6.36s/it]/bgfs/bchandrasekaran/krs228/software/miniconda3/envs/py3/lib/python3.9/site-packages/numpy/lib/function_base.py:2480: RuntimeWarning: divide by zero encountered in true_divide\n",
      "  c *= np.true_divide(1, fact)\n",
      "/bgfs/bchandrasekaran/krs228/software/miniconda3/envs/py3/lib/python3.9/site-packages/numpy/lib/function_base.py:2480: RuntimeWarning: invalid value encountered in multiply\n",
      "  c *= np.true_divide(1, fact)\n",
      "Evaluating models for each searchlight:   0%|          | 72/420909 [00:55<51:38:07,  2.26it/s]"
     ]
    }
   ],
   "source": [
    "eval_results = evaluate_models_searchlight(SL_RDM, tone_model, eval_fixed, method='spearman', n_jobs=4)"
   ]
  },
  {
   "cell_type": "code",
   "execution_count": null,
   "id": "5235b823-5d98-452d-96e5-e67db1d94c4c",
   "metadata": {},
   "outputs": [],
   "source": [
    "# get the evaulation score for each voxel\n",
    "# We only have one model, but evaluations returns a list. By using float we just grab the value within that list\n",
    "eval_score = [np.float(e.evaluations) for e in eval_results]"
   ]
  },
  {
   "cell_type": "code",
   "execution_count": null,
   "id": "a4f0a1ee-2ac8-4b57-8627-7ad6f6a8b242",
   "metadata": {},
   "outputs": [],
   "source": [
    "# Create an 3D array, with the size of mask, and\n",
    "x, y, z = mask.shape\n",
    "RDM_brain = np.zeros([x*y*z])\n",
    "RDM_brain[list(SL_RDM.rdm_descriptors['voxel_index'])] = eval_score\n",
    "RDM_brain = RDM_brain.reshape([x, y, z])"
   ]
  },
  {
   "cell_type": "code",
   "execution_count": null,
   "id": "f320f568-596a-49bc-8dd2-44f759d0cc8f",
   "metadata": {},
   "outputs": [],
   "source": [
    "# plot distribution of correlations\n",
    "sns.distplot(eval_score)\n",
    "plt.title('Distributions of correlations', size=18)\n",
    "plt.ylabel('Occurance', size=18)\n",
    "plt.xlabel('Spearmann correlation', size=18)\n",
    "sns.despine()\n",
    "plt.show()"
   ]
  },
  {
   "cell_type": "code",
   "execution_count": null,
   "id": "a49bd9dd-0cac-45c4-a8d1-5bc9e6dd4d4c",
   "metadata": {},
   "outputs": [],
   "source": [
    "# lets plot the voxels above the 99th percentile\n",
    "threshold = np.percentile(eval_score, 99)\n",
    "plot_img = new_img_like(tmp_img, RDM_brain)\n",
    "\n",
    "cmap = RDMcolormapObject()\n",
    "\n",
    "coords = range(-20, 40, 5)\n",
    "fig = plt.figure(figsize=(12, 3))\n",
    "\n",
    "display = plotting.plot_stat_map(\n",
    "        plot_img, colorbar=True, cut_coords=coords,threshold=threshold,\n",
    "        display_mode='z', draw_cross=False, figure=fig,\n",
    "        title=' model evaluation', cmap=cmap,\n",
    "        black_bg=False, annotate=False)\n",
    "plt.show()"
   ]
  },
  {
   "cell_type": "code",
   "execution_count": null,
   "id": "91ca8d8d-d7fe-4b0a-a313-619b5a78033b",
   "metadata": {},
   "outputs": [],
   "source": []
  },
  {
   "cell_type": "code",
   "execution_count": null,
   "id": "ab4a77a7-0f14-4455-917a-e1e3fdcbdc4e",
   "metadata": {},
   "outputs": [],
   "source": []
  },
  {
   "cell_type": "code",
   "execution_count": null,
   "id": "f3145b63-cac1-4a04-bfcb-08591d06f365",
   "metadata": {},
   "outputs": [],
   "source": []
  },
  {
   "cell_type": "code",
   "execution_count": null,
   "id": "c5bbdcaa-a383-4759-9501-a476618d6e01",
   "metadata": {},
   "outputs": [],
   "source": []
  },
  {
   "cell_type": "code",
   "execution_count": null,
   "id": "281e5706-5616-471b-9353-0a628d904cca",
   "metadata": {},
   "outputs": [],
   "source": []
  },
  {
   "cell_type": "markdown",
   "id": "c8f8db55-01a5-4e0f-92cb-053366338a55",
   "metadata": {},
   "source": [
    "### Toy example"
   ]
  },
  {
   "cell_type": "code",
   "execution_count": 32,
   "id": "fffdf3b2-8ff0-4e5b-9427-47aba4b187af",
   "metadata": {},
   "outputs": [
    {
     "data": {
      "text/plain": [
       "(<Figure size 144x144 with 1 Axes>,\n",
       " array([[<AxesSubplot:>]], dtype=object),\n",
       " defaultdict(dict,\n",
       "             {<AxesSubplot:>: {'image': <matplotlib.image.AxesImage at 0x7f7a1863f8e0>}}))"
      ]
     },
     "execution_count": 32,
     "metadata": {},
     "output_type": "execute_result"
    },
    {
     "data": {
      "image/png": "[encoded data removed]",
      "text/plain": [
       "<Figure size 144x144 with 1 Axes>"
      ]
     },
     "metadata": {},
     "output_type": "display_data"
    }
   ],
   "source": [
    "import numpy, rsatoolbox\n",
    "data = rsatoolbox.data.Dataset(numpy.random.rand(10, 5))\n",
    "rdms = rsatoolbox.rdm.calc_rdm(data)\n",
    "rsatoolbox.vis.show_rdm(rdms)"
   ]
  },
  {
   "cell_type": "code",
   "execution_count": null,
   "id": "18c09f5b-4ee1-47c2-832d-43711c4ca4e9",
   "metadata": {},
   "outputs": [],
   "source": []
  },
  {
   "cell_type": "code",
   "execution_count": null,
   "id": "7610d509-03d7-4549-8d0d-db807e26103a",
   "metadata": {},
   "outputs": [],
   "source": []
  }
 ],
 "metadata": {
  "kernelspec": {
   "display_name": "Python 3 (ipykernel)",
   "language": "python",
   "name": "python3"
  },
  "language_info": {
   "codemirror_mode": {
    "name": "ipython",
    "version": 3
   },
   "file_extension": ".py",
   "mimetype": "text/x-python",
   "name": "python",
   "nbconvert_exporter": "python",
   "pygments_lexer": "ipython3",
   "version": "3.9.7"
  }
 },
 "nbformat": 4,
 "nbformat_minor": 5
}
