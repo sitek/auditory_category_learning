{
 "cells": [
  {
   "cell_type": "code",
   "execution_count": null,
   "id": "1cb5c70b-db9a-4f01-bc69-f6e213312964",
   "metadata": {},
   "outputs": [],
   "source": [
    "import os\n",
    "import numpy as np\n",
    "import nibabel as nib"
   ]
  },
  {
   "cell_type": "code",
   "execution_count": null,
   "id": "284f0105-e40b-42ec-9eef-2e09c1158fd7",
   "metadata": {},
   "outputs": [],
   "source": [
    "from nilearn.glm.contrasts import compute_fixed_effects\n",
    "from glob import glob"
   ]
  },
  {
   "cell_type": "code",
   "execution_count": null,
   "id": "69ef6309-7b31-4aca-bdba-c574bdbdc41b",
   "metadata": {},
   "outputs": [],
   "source": [
    "runcombo_dict = {'early': ['run00', 'run01'], \n",
    "                 'middle': ['run02', 'run03'], \n",
    "                 'final': ['run04','run05']}"
   ]
  },
  {
   "cell_type": "code",
   "execution_count": null,
   "id": "e63e094a-7808-4fff-a2b9-edd5a67a17d0",
   "metadata": {},
   "outputs": [],
   "source": [
    "deriv_dir = os.path.join('/bgfs/bchandrasekaran/krs228/data/FLT/data_denoised/',\n",
    "                         'derivatives/nilearn/bids-deriv_level-1_fwhm-0.00')"
   ]
  },
  {
   "cell_type": "code",
   "execution_count": null,
   "id": "5fd9e69a-ac91-44c2-8a38-7a798f3e832d",
   "metadata": {},
   "outputs": [],
   "source": [
    "space_label = 'MNI152NLin2009cAsym'\n",
    "model_label = 'per_run_LSA_confound-compcor_event-stimulus' # 'LSA', 'LSS'"
   ]
  },
  {
   "cell_type": "code",
   "execution_count": null,
   "id": "2da2e0fc-e699-429f-8c12-e294a8a16da2",
   "metadata": {},
   "outputs": [],
   "source": [
    "#for sub_label in ['FLT02', 'FLT03', 'FLT04', 'FLT05', 'FLT06', 'FLT07', 'FLT08',\n",
    "#                  'FLT09', 'FLT10', 'FLT11', 'FLT12', 'FLT13', 'FLT14',\n",
    "#                  'FLT17', 'FLT18', 'FLT19', 'FLT20', 'FLT21', 'FLT22',\n",
    "#                  'FLT23', 'FLT24', 'FLT25', 'FLT26', 'FLT28', 'FLT30']:\n",
    "for sub_label in ['FLT15']:\n",
    "    sub_dir = os.path.join(deriv_dir, \n",
    "                           f'sub-{sub_label}_space-{space_label}',\n",
    "                           model_label,)\n",
    "    print(sub_label)\n",
    "\n",
    "    out_sub_dir = os.path.join(sub_dir, 'run-grouped')\n",
    "    os.makedirs(out_sub_dir, exist_ok=True)                          \n",
    "\n",
    "    # get contrast labels from filenames\n",
    "    stat_maps = sorted(glob(sub_dir+f'/*/sub*/*Di*stat-effect_statmap.nii.gz')) \n",
    "    conditions_all = sorted(set([os.path.basename(x).split('_')[4] for x in (stat_maps)]))\n",
    "\n",
    "    conditions_all\n",
    "\n",
    "    for rc in runcombo_dict:\n",
    "        print(rc)\n",
    "        run_list = runcombo_dict[rc]\n",
    "\n",
    "        for cond_label in conditions_all:\n",
    "            print(cond_label)\n",
    "\n",
    "            contrast_imgs = [sorted(glob(sub_dir+f'/{run_id}/*/*{cond_label}_stat-effect_statmap.nii.gz'))[0]\n",
    "                             for run_id in run_list]\n",
    "            variance_imgs = [sorted(glob(sub_dir+f'/{run_id}/*/*{cond_label}_stat-variance_statmap.nii.gz'))[0]\n",
    "                             for run_id in run_list]\n",
    "\n",
    "            fixed_fx_contrast, fixed_fx_variance, \\\n",
    "                               fixed_fx_stat, \\\n",
    "                               fixed_fx_z_score = compute_fixed_effects(contrast_imgs,\n",
    "                                                                     variance_imgs,\n",
    "                                                                     return_z_score=True)\n",
    "\n",
    "            out_variance_fpath = os.path.join(out_sub_dir, \n",
    "                                          f'sub-{sub_label}_rungroup-{rc}_{cond_label}_stat-variance_statmap.nii.gz')\n",
    "            nib.save(fixed_fx_variance, out_variance_fpath)\n",
    "\n",
    "            out_stat_fpath = os.path.join(out_sub_dir, \n",
    "                                          f'sub-{sub_label}_rungroup-{rc}_{cond_label}_stat-t_statmap.nii.gz')\n",
    "            nib.save(fixed_fx_stat, out_stat_fpath)"
   ]
  },
  {
   "cell_type": "code",
   "execution_count": null,
   "id": "6c945f7b-177b-4fd3-8f3c-6628498f2cb6",
   "metadata": {},
   "outputs": [],
   "source": []
  }
 ],
 "metadata": {
  "kernelspec": {
   "display_name": "Python 3 (ipykernel)",
   "language": "python",
   "name": "python3"
  },
  "language_info": {
   "codemirror_mode": {
    "name": "ipython",
    "version": 3
   },
   "file_extension": ".py",
   "mimetype": "text/x-python",
   "name": "python",
   "nbconvert_exporter": "python",
   "pygments_lexer": "ipython3",
   "version": "3.9.7"
  }
 },
 "nbformat": 4,
 "nbformat_minor": 5
}
