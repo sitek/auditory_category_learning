{
 "cells": [
  {
   "cell_type": "code",
   "execution_count": null,
   "id": "c080696c-3da0-42db-9137-99072ada6cd0",
   "metadata": {},
   "outputs": [],
   "source": [
    "import os\n",
    "import sys\n",
    "import json\n",
    "import argparse\n",
    "\n",
    "import pandas as pd\n",
    "import numpy as np\n",
    "import matplotlib.pyplot as plt\n",
    "import nibabel as nib\n",
    "\n",
    "from glob import glob\n",
    "from nilearn import plotting\n",
    "from nilearn.glm.second_level import SecondLevelModel\n",
    "from nilearn.glm.second_level import make_second_level_design_matrix"
   ]
  },
  {
   "cell_type": "code",
   "execution_count": null,
   "id": "838b8d03-b604-4f76-8ca9-48d82b833f92",
   "metadata": {},
   "outputs": [],
   "source": [
    "task_label = 'tonecat'\n",
    "\n",
    "project_dir = os.path.join('/bgfs/bchandrasekaran/krs228/data/', 'FLT/')\n",
    "#bidsroot = os.path.join(project_dir,'data_bids')\n",
    "bidsroot = os.path.join(project_dir,'data_bids_noIntendedFor')\n",
    "deriv_dir = os.path.join(project_dir, 'derivatives', 'fmriprep_noSDC')\n",
    "\n",
    "nilearn_dir = os.path.join(bidsroot, 'derivatives', 'nilearn')\n",
    "if not os.path.exists(nilearn_dir):\n",
    "        os.makedirs(nilearn_dir)"
   ]
  },
  {
   "cell_type": "markdown",
   "id": "f28757ff-f040-457c-8e3e-68cbaeff7169",
   "metadata": {
    "tags": []
   },
   "source": [
    "## Second-level analyses"
   ]
  },
  {
   "cell_type": "markdown",
   "id": "16181bef-2b48-4d74-b695-1f35751cee90",
   "metadata": {},
   "source": [
    "Based on [nilearn documentation](https://nilearn.github.io/stable/auto_examples/05_glm_second_level/plot_thresholding.html#statistical-testing-of-a-second-level-analysis)"
   ]
  },
  {
   "cell_type": "markdown",
   "id": "fde32c51-da40-49be-ada9-d5acde383522",
   "metadata": {},
   "source": [
    "### Build the group-level design matrix"
   ]
  },
  {
   "cell_type": "markdown",
   "id": "2029ab72-18f6-452a-8972-c723ee273758",
   "metadata": {},
   "source": [
    "#### Read the `participants.tsv` file from the BIDS root directory"
   ]
  },
  {
   "cell_type": "code",
   "execution_count": null,
   "id": "de87bfe8-7c89-4139-8835-b10a4141b5a7",
   "metadata": {},
   "outputs": [],
   "source": [
    "participants_fpath = os.path.join(bidsroot, 'participants.tsv')\n",
    "participants_df = pd.read_csv(participants_fpath, sep='\\t')\n",
    "\n",
    "# subjects to ignore (not fully processed, etc.)\n",
    "ignore_subs = ['sub-FLT01', 'sub-FLT14', 'sub-FLT15', 'sub-FLT16', 'sub-FLT18', \n",
    "               'sub-FLT19', 'sub-FLT20', 'sub-FLT21', 'sub-FLT25', 'sub-FLT26', \n",
    "               'sub-FLT17', 'sub-FLT24',\n",
    "              ]\n",
    "participants_df.drop(participants_df[participants_df.participant_id.isin(ignore_subs)].index, inplace=True)\n",
    "\n",
    "# re-sort by participant ID\n",
    "participants_df.sort_values(by=['participant_id'], ignore_index=True, inplace=True)"
   ]
  },
  {
   "cell_type": "code",
   "execution_count": null,
   "id": "13571ea3-57be-49d4-b1b7-4a065638b223",
   "metadata": {},
   "outputs": [],
   "source": [
    "print(participants_df)"
   ]
  },
  {
   "cell_type": "code",
   "execution_count": null,
   "id": "cb3423b8-076a-43c5-9c37-66b6316a7526",
   "metadata": {},
   "outputs": [],
   "source": [
    "# create group-specific lists of subject IDs\n",
    "sub_list_mand = list(participants_df.participant_id[participants_df.group=='Mandarin'])\n",
    "sub_list_nman = list(participants_df.participant_id[participants_df.group=='non-Mandarin'])"
   ]
  },
  {
   "cell_type": "code",
   "execution_count": null,
   "id": "e90a2588-86d5-4dbf-94fb-3d4e9e0e364d",
   "metadata": {},
   "outputs": [],
   "source": [
    "print(sub_list_mand)"
   ]
  },
  {
   "cell_type": "code",
   "execution_count": null,
   "id": "68af1b5a-f4c0-4ebe-bfc4-fe107cb92635",
   "metadata": {},
   "outputs": [],
   "source": [
    "print(sub_list_nman)"
   ]
  },
  {
   "cell_type": "markdown",
   "id": "274c3c60-5bca-474f-86a4-81c77a550020",
   "metadata": {},
   "source": [
    "#### Create design matrixes"
   ]
  },
  {
   "cell_type": "code",
   "execution_count": null,
   "id": "ef329d71-d512-478b-976d-9aba49fe9ea4",
   "metadata": {},
   "outputs": [],
   "source": [
    "# difference between groups\n",
    "subjects_label = list(participants_df.participant_id)\n",
    "groups_label = list(participants_df.group)\n",
    "design_mat_groupdiff = pd.DataFrame({'group': groups_label,\n",
    "                                    'intercept': np.zeros(len(subjects_label))})\n",
    "\n",
    "design_mat_groupdiff['group'].loc[design_mat_groupdiff['group'] == 'Mandarin'] = 1\n",
    "design_mat_groupdiff['group'].loc[design_mat_groupdiff['group'] == 'non-Mandarin'] = 0\n",
    "design_mat_groupdiff = design_mat_groupdiff.astype('int')\n",
    "print(design_mat_groupdiff)"
   ]
  },
  {
   "cell_type": "code",
   "execution_count": null,
   "id": "5529d064-7c4b-4298-85fe-e26175b8c6b4",
   "metadata": {},
   "outputs": [],
   "source": [
    "# overall population (one-sample test)\n",
    "n_subjects = len(participants_df)\n",
    "design_matrix = pd.DataFrame([1] * n_subjects, columns=['intercept'])"
   ]
  },
  {
   "cell_type": "code",
   "execution_count": null,
   "id": "8cd2545e-6e1b-48b0-abfa-5f89df4b1bdd",
   "metadata": {},
   "outputs": [],
   "source": [
    "# single-group\n",
    "design_mat_mand = pd.DataFrame([1] * len(sub_list_mand), columns=['intercept'])\n",
    "design_mat_nman = pd.DataFrame([1] * len(sub_list_nman), columns=['intercept'])"
   ]
  },
  {
   "cell_type": "markdown",
   "id": "6dc6deef-fa58-4ac9-98f1-491c54480825",
   "metadata": {},
   "source": [
    "### Get files"
   ]
  },
  {
   "cell_type": "code",
   "execution_count": null,
   "id": "3eac08b5-208b-429c-8249-6b8e2d5bd929",
   "metadata": {},
   "outputs": [],
   "source": [
    "contrast_label = 'sound'\n",
    "fwhm = 1.5\n",
    "space_label = 'MNI152NLin2009cAsym'\n",
    "mask_label = 'gm-thr90'\n",
    "cond_label = 'tone'\n",
    "l1_dir = os.path.join(bidsroot, 'derivatives', 'nilearn', 'level-1_fwhm-%.02f'%fwhm)\n",
    "l1_fnames = sorted(glob(l1_dir+'/sub-*_space-%s/searchlight/*mask-%s_cond-%s_searchlight.nii.gz'%(space_label, mask_label, cond_label)))\n"
   ]
  },
  {
   "cell_type": "code",
   "execution_count": null,
   "id": "ad9e6921-8ac2-4952-844d-3462e14c19e7",
   "metadata": {},
   "outputs": [],
   "source": [
    "l1_fnames"
   ]
  },
  {
   "cell_type": "code",
   "execution_count": null,
   "id": "bbf75685-01f6-4254-8b5d-77ee02d54db2",
   "metadata": {},
   "outputs": [],
   "source": [
    "subjects_label"
   ]
  },
  {
   "cell_type": "code",
   "execution_count": null,
   "id": "d59f4ed6-e01e-48ae-abce-626f65d49044",
   "metadata": {},
   "outputs": [],
   "source": [
    "l1_fnames_groupdiff = [sorted(glob(l1_dir+'/%s_space-%s/searchlight/*mask-%s_cond-%s_searchlight.nii.gz'%(sub_id, space_label, mask_label, cond_label)))[0] for sub_id in subjects_label]\n",
    "\n",
    "l1_fnames_mand = [sorted(glob(l1_dir+'/%s_space-%s/searchlight/*mask-%s_cond-%s_searchlight.nii.gz'%(sub_id, space_label, mask_label, cond_label)))[0] for sub_id in sub_list_mand]\n",
    "l1_fnames_nman = [sorted(glob(l1_dir+'/%s_space-%s/searchlight/*mask-%s_cond-%s_searchlight.nii.gz'%(sub_id, space_label, mask_label, cond_label)))[0] for sub_id in sub_list_nman]"
   ]
  },
  {
   "cell_type": "code",
   "execution_count": null,
   "id": "dcee031c-7130-44b0-b2bd-f828c4d43859",
   "metadata": {},
   "outputs": [],
   "source": [
    "l1_fnames_groupdiff"
   ]
  },
  {
   "cell_type": "markdown",
   "id": "f223e437-09c0-4b08-84cf-5f62e2bd3b8e",
   "metadata": {},
   "source": [
    "## Permutation tests"
   ]
  },
  {
   "cell_type": "code",
   "execution_count": null,
   "id": "eaf6d527-599e-4398-891d-03a4898e05f2",
   "metadata": {},
   "outputs": [],
   "source": [
    "from nilearn.glm.second_level import non_parametric_inference"
   ]
  },
  {
   "cell_type": "markdown",
   "id": "135b14a5-2a49-4293-8c47-fd25011a85e4",
   "metadata": {},
   "source": [
    "### Mandarin-speaking group:"
   ]
  },
  {
   "cell_type": "code",
   "execution_count": null,
   "id": "193e1694-e0f0-43c1-9b3d-2d0a4ce47254",
   "metadata": {},
   "outputs": [],
   "source": [
    "log_pvals_permuted_ols_unmasked = \\\n",
    "    non_parametric_inference(l1_fnames_mand, \n",
    "                             design_matrix=design_mat_mand,\n",
    "                             n_perm=1000,\n",
    "                             n_jobs=1)\n",
    "\n",
    "threshold = 1\n",
    "title = ('Mandarin-speaking group-level tone decoding: \\n'\n",
    "         'neg-log of parametric corrected p-values (FWER < 10%)')\n",
    "plotting.plot_stat_map(log_pvals_permuted_ols_unmasked, colorbar=True, \n",
    "                       threshold=1, \n",
    "                       #cut_coords=cut_coords, \n",
    "                       title=title,\n",
    "                       cmap='Oranges',\n",
    "                      )\n",
    "plotting.show()"
   ]
  },
  {
   "cell_type": "markdown",
   "id": "f188784d-17fb-4b86-a1b5-6435a73d13d3",
   "metadata": {},
   "source": [
    "### Non-Mandarin speaking group:"
   ]
  },
  {
   "cell_type": "code",
   "execution_count": null,
   "id": "7ad51ce0-40da-4526-8bd5-629de5448364",
   "metadata": {},
   "outputs": [],
   "source": [
    "log_pvals_permuted_ols_unmasked = \\\n",
    "    non_parametric_inference(l1_fnames_nman, \n",
    "                             design_matrix=design_mat_nman,\n",
    "                             n_perm=1000,\n",
    "                             n_jobs=1)\n",
    "\n",
    "threshold = 1\n",
    "title = ('Non-Mandarin-speaking group-level tone decoding: \\n'\n",
    "         'neg-log of parametric corrected p-values (FWER < 10%)')\n",
    "plotting.plot_stat_map(log_pvals_permuted_ols_unmasked, colorbar=True, \n",
    "                       threshold=1, \n",
    "                       #cut_coords=cut_coords, \n",
    "                       title=title,\n",
    "                       cmap='Oranges',\n",
    "                      )\n",
    "plotting.show()"
   ]
  },
  {
   "cell_type": "markdown",
   "id": "d249652c-297d-40ca-ae45-78932a735a5b",
   "metadata": {},
   "source": [
    "### Group differences"
   ]
  },
  {
   "cell_type": "code",
   "execution_count": null,
   "id": "6ed2b8fb-cdfd-411f-9d21-6f364fca008e",
   "metadata": {},
   "outputs": [],
   "source": [
    "log_pvals_permuted_ols_unmasked = \\\n",
    "    non_parametric_inference(l1_fnames_groupdiff, \n",
    "                             design_matrix=design_mat_groupdiff,\n",
    "                             second_level_contrast='group',\n",
    "                             n_perm=1000,\n",
    "                             n_jobs=1)\n",
    "\n",
    "threshold = 1\n",
    "title = ('Mand>NMan group-level tone decoding: \\n'\n",
    "         'neg-log of parametric corrected p-values (FWER < 10%)')\n",
    "plotting.plot_stat_map(log_pvals_permuted_ols_unmasked, colorbar=True, \n",
    "                       threshold=1, \n",
    "                       #cut_coords=cut_coords, \n",
    "                       title=title,\n",
    "                       cmap='Oranges',\n",
    "                      )\n",
    "plotting.show()"
   ]
  },
  {
   "cell_type": "code",
   "execution_count": null,
   "id": "c464758e-e27c-4eb7-9611-c6ea546e552c",
   "metadata": {},
   "outputs": [],
   "source": []
  },
  {
   "cell_type": "code",
   "execution_count": null,
   "id": "ebef1bcf-5f1b-4d5c-b869-0234e316618c",
   "metadata": {},
   "outputs": [],
   "source": []
  },
  {
   "cell_type": "markdown",
   "id": "d9ac3514-a32c-4156-8982-3572a763e50b",
   "metadata": {},
   "source": [
    "### All participants"
   ]
  },
  {
   "cell_type": "code",
   "execution_count": null,
   "id": "dc65e0e7-17ed-4355-b7de-3128e051a0ea",
   "metadata": {},
   "outputs": [],
   "source": [
    "from nilearn.glm.second_level import SecondLevelModel\n",
    "second_level_model = SecondLevelModel().fit(l1_fnames, design_matrix=design_matrix)\n",
    "\n",
    "z_map = second_level_model.compute_contrast(output_type='z_score')\n",
    "\n",
    "from nilearn import plotting\n",
    "display = plotting.plot_stat_map(z_map, title='Raw z map - %s > baseline'%contrast_label)"
   ]
  },
  {
   "cell_type": "code",
   "execution_count": null,
   "id": "a1d44b66-989f-441e-b66d-b03d94caacc6",
   "metadata": {},
   "outputs": [],
   "source": [
    "from nilearn.image import threshold_img\n",
    "threshold = 2.58\n",
    "cthresh=10\n",
    "thresholded_map = threshold_img(\n",
    "    z_map,\n",
    "    threshold=threshold,\n",
    "    cluster_threshold=cthresh,\n",
    "    two_sided=True,\n",
    ")\n",
    "\n",
    "plotting.plot_stat_map(\n",
    "    thresholded_map, cut_coords=[17,12,5], \n",
    "    title='%s > baseline thresholded z map, z > %.02f, clusters > %d voxels'%(contrast_label, threshold, cthresh))"
   ]
  },
  {
   "cell_type": "code",
   "execution_count": null,
   "id": "2ec11cf8-fd0f-425c-be97-7b6415040b3e",
   "metadata": {},
   "outputs": [],
   "source": [
    "from nilearn.glm import threshold_stats_img\n",
    "fpr_alpha = .01\n",
    "cthresh = 10\n",
    "thresholded_map1, \\\n",
    "    threshold1 = threshold_stats_img(\n",
    "                                    z_map,\n",
    "                                    alpha=fpr_alpha,\n",
    "                                    height_control='fpr',\n",
    "                                    cluster_threshold=cthresh,\n",
    "                                    two_sided=True,\n",
    "                                    )\n",
    "plotting.plot_stat_map(\n",
    "    thresholded_map1, cut_coords=display.cut_coords, threshold=threshold1,\n",
    "    title='%s > baseline thresholded z map, fpr <%.03f, clusters > %d voxels'%(contrast_label, fpr_alpha, cthresh))\n",
    "print(threshold1)"
   ]
  },
  {
   "cell_type": "code",
   "execution_count": null,
   "id": "284b4dd9-f85f-47c9-bde8-5ac9fb22e44b",
   "metadata": {},
   "outputs": [],
   "source": [
    "thresholded_map2, threshold2 = threshold_stats_img(\n",
    "    z_map, alpha=.05, height_control='fdr')\n",
    "print('The FDR=.05 threshold is %.3g' % threshold2)\n",
    "\n",
    "plotting.plot_stat_map(thresholded_map2, cut_coords=display.cut_coords,\n",
    "                       title='%s > baseline thresholded z map, expected fdr = .05'%contrast_label,\n",
    "                       threshold=threshold2)"
   ]
  },
  {
   "cell_type": "markdown",
   "id": "c7f74a66-e21c-4438-81b5-aad5a50d8624",
   "metadata": {},
   "source": [
    "### Surface plots"
   ]
  },
  {
   "cell_type": "code",
   "execution_count": null,
   "id": "8ad12235-c020-453d-aee5-c01d44d130b5",
   "metadata": {},
   "outputs": [],
   "source": [
    "from nilearn import datasets, surface"
   ]
  },
  {
   "cell_type": "code",
   "execution_count": null,
   "id": "7b242956-d3bb-4dbe-be1e-907819cc3821",
   "metadata": {},
   "outputs": [],
   "source": [
    "big_fsaverage = datasets.fetch_surf_fsaverage('fsaverage')\n",
    "big_texture = surface.vol_to_surf(z_map, big_fsaverage.pial_right)\n",
    "\n",
    "plotting.plot_surf_stat_map(big_fsaverage.infl_right,\n",
    "                            big_texture, hemi='right', colorbar=True,\n",
    "                            title='Surface right hemisphere: fine mesh',\n",
    "                            threshold=2.58, bg_map=big_fsaverage.sulc_right)\n",
    "plotting.show()"
   ]
  },
  {
   "cell_type": "code",
   "execution_count": null,
   "id": "e9672303-4972-4c0d-981f-ffc72c3d1299",
   "metadata": {},
   "outputs": [],
   "source": [
    "from nilearn import plotting\n",
    "\n",
    "plotting.plot_img_on_surf(z_map,\n",
    "                          surf_mesh='fsaverage',\n",
    "                          views=['lateral', 'medial'],\n",
    "                          hemispheres=['left', 'right'],\n",
    "                          threshold=1.96, #2.58,\n",
    "                          colorbar=True)\n",
    "plotting.show()"
   ]
  },
  {
   "cell_type": "code",
   "execution_count": null,
   "id": "664a454c-aa80-486b-8d67-7ee3ad1fddfc",
   "metadata": {},
   "outputs": [],
   "source": [
    "from nilearn import plotting\n",
    "\n",
    "plotting.plot_img_on_surf(z_map,\n",
    "                          surf_mesh='fsaverage',\n",
    "                          views=['lateral', 'medial'],\n",
    "                          hemispheres=['left', 'right'],\n",
    "                          threshold=1, #2.58,\n",
    "                          colorbar=True)\n",
    "plotting.show()"
   ]
  },
  {
   "cell_type": "code",
   "execution_count": null,
   "id": "ebc56071-26f0-4d35-b662-879679f677e5",
   "metadata": {},
   "outputs": [],
   "source": []
  }
 ],
 "metadata": {
  "kernelspec": {
   "display_name": "Python 3 (ipykernel)",
   "language": "python",
   "name": "python3"
  },
  "language_info": {
   "codemirror_mode": {
    "name": "ipython",
    "version": 3
   },
   "file_extension": ".py",
   "mimetype": "text/x-python",
   "name": "python",
   "nbconvert_exporter": "python",
   "pygments_lexer": "ipython3",
   "version": "3.9.7"
  }
 },
 "nbformat": 4,
 "nbformat_minor": 5
}
