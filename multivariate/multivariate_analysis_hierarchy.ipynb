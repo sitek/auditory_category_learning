{
 "cells": [
  {
   "cell_type": "code",
   "execution_count": null,
   "id": "762f8faa",
   "metadata": {
    "tags": []
   },
   "outputs": [],
   "source": [
    "import os\n",
    "import json\n",
    "import numpy as np\n",
    "import nibabel as nib\n",
    "import pandas as pd\n",
    "\n",
    "from glob import glob"
   ]
  },
  {
   "cell_type": "code",
   "execution_count": null,
   "id": "5ae63baa-0ea2-4a08-ae54-ba777699411c",
   "metadata": {},
   "outputs": [],
   "source": [
    "project_dir = os.path.join('/bgfs/bchandrasekaran/krs228/data/', 'FLT/')\n",
    "fmriprep_dir = os.path.join(project_dir, 'derivatives', '22.1.1')\n",
    "\n",
    "bidsroot = os.path.join(project_dir, 'data_denoised') #'data_bids')\n",
    "deriv_dir = os.path.join(bidsroot, 'derivatives')\n",
    "\n",
    "nilearn_dir = os.path.join(deriv_dir, 'nilearn')\n",
    "print(nilearn_dir)\n",
    "group_masks_dir = os.path.join(project_dir, 'data_bids',\n",
    "                               'derivatives', 'nilearn', 'masks')\n",
    "task_list = ['tonecat']"
   ]
  },
  {
   "cell_type": "code",
   "execution_count": null,
   "id": "e42739b0-ac88-4ec8-b958-82d8366dd467",
   "metadata": {},
   "outputs": [],
   "source": [
    "participants_fpath = os.path.join(bidsroot, 'participants.tsv')\n",
    "participants_df = pd.read_csv(participants_fpath, sep='\\t')\n",
    "\n",
    "# subjects to ignore (not fully processed, etc.)\n",
    "ignore_subs = ['sub-FLT27',\n",
    "               'sub-FLT07', # bad QA 11/14/23\n",
    "               'sub-FLT10', # MISSING 11/16/23\n",
    "               #'sub-FLT01', 'sub-FLT16',  \n",
    "               #'sub-FLT19', 'sub-FLT20',\n",
    "               #'sub-FLT28', 'sub-FLT30',\n",
    "              ]\n",
    "participants_df.drop(participants_df[participants_df.participant_id.isin(ignore_subs)].index, inplace=True)\n",
    "\n",
    "# re-sort by participant ID\n",
    "participants_df.sort_values(by=['participant_id'], ignore_index=True, inplace=True)"
   ]
  },
  {
   "cell_type": "code",
   "execution_count": null,
   "id": "84f62ac2-5a29-4a78-8cbe-aaaa84902a72",
   "metadata": {},
   "outputs": [],
   "source": [
    "participants_df"
   ]
  },
  {
   "cell_type": "code",
   "execution_count": null,
   "id": "280d2b48",
   "metadata": {},
   "outputs": [],
   "source": [
    "# create group-specific lists of subject IDs\n",
    "sub_list_mand = list(participants_df.participant_id[participants_df.group=='Mandarin'])\n",
    "sub_list_nman = list(participants_df.participant_id[participants_df.group=='non-Mandarin'])"
   ]
  },
  {
   "cell_type": "markdown",
   "id": "effective-chile",
   "metadata": {},
   "source": [
    "## generate anatomical masks"
   ]
  },
  {
   "cell_type": "code",
   "execution_count": null,
   "id": "942c09bd-2401-4993-8297-c605a2d8c734",
   "metadata": {},
   "outputs": [],
   "source": [
    "roi_dict_MNI_dseg = {'L-Caud': 35, 'L-Put': 36, 'L-HG': 189, 'L-PP': 187, 'L-PT': 191, 'L-STGa': 117, 'L-STGp': 119, 'L-ParsOp': 111, 'L-ParsTri': 109, \n",
    "                     'R-Caud': 46, 'R-Put': 47, 'R-HG': 190, 'R-PP': 188, 'R-PT': 192, 'R-STGa': 118, 'R-STGp': 120, 'R-ParsOp': 112, 'R-ParsTri': 110, }"
   ]
  },
  {
   "cell_type": "code",
   "execution_count": null,
   "id": "767eb15f-5282-48d8-96a4-ee7e65e90a40",
   "metadata": {},
   "outputs": [],
   "source": [
    "roi_dict_T1w_aseg = {'L-VentralDC': 28, 'L-Caud': 11, 'L-Put': 12, 'L-HG': 1034, 'L-STG': 1030, 'L-ParsOp': 1018, 'L-ParsTri': 1020, 'L-SFG': 1028, 'Brainstem': 16, \n",
    "                     'R-VentralDC': 60, 'R-Caud': 50, 'R-Put': 51, 'R-HG': 2034, 'R-STG': 2030, 'R-ParsOp': 2018, 'R-ParsTri': 2020, 'R-SFG': 2028, 'CSF': 24}"
   ]
  },
  {
   "cell_type": "code",
   "execution_count": null,
   "id": "822cb96a-77fe-4511-8fc7-7882a9dec63f",
   "metadata": {},
   "outputs": [],
   "source": [
    "roi_dict_MNI_sg_subcort = {'L-CN': 1, 'L-SOC': 3, 'L-IC': 5, 'L-MGN': 7, \n",
    "                           'R-CN': 2, 'R-SOC': 4, 'R-IC': 6, 'R-MGN': 8, }"
   ]
  },
  {
   "cell_type": "code",
   "execution_count": null,
   "id": "4fa46350-88c4-4a99-ba06-29bab83a92b4",
   "metadata": {},
   "outputs": [],
   "source": [
    "roi_dict = roi_dict_MNI_dseg # roi_dict_MNI_sg_subcort # roi_dict_MNI_dseg # roi_dict_T1w_aseg # "
   ]
  },
  {
   "cell_type": "markdown",
   "id": "f920833e",
   "metadata": {},
   "source": [
    "## Define data and labels"
   ]
  },
  {
   "cell_type": "code",
   "execution_count": null,
   "id": "6b9ad032",
   "metadata": {},
   "outputs": [],
   "source": [
    "def create_labels(stat_maps):\n",
    "    import os\n",
    "    from glob import glob\n",
    "    from numpy.random import shuffle\n",
    "    from copy import copy\n",
    "    \n",
    "    # 16 stimulus decoding\n",
    "    #conditions_all = [os.path.basename(x)[-31:-18] for x in stat_maps] \n",
    "    conditions_all = ['_'.join(os.path.basename(x).split('_')[5:8]) for x in (stat_maps)]\n",
    "    #print('all events: ', conditions_all[:10])\n",
    "\n",
    "    # 4-category decoding\n",
    "    conditions_tone = [os.path.basename(x).split('_')[5] for x in (stat_maps)]\n",
    "\n",
    "    conditions_talker = [os.path.basename(x).split('_')[6] for x in (stat_maps)]\n",
    "    \n",
    "    # shuffled conditions\n",
    "    conditions_shuffled = copy(conditions_tone)\n",
    "    shuffle(conditions_shuffled)\n",
    "\n",
    "    return conditions_tone, conditions_talker, conditions_all, conditions_shuffled"
   ]
  },
  {
   "cell_type": "markdown",
   "id": "intellectual-avatar",
   "metadata": {},
   "source": [
    "## Decoding"
   ]
  },
  {
   "cell_type": "markdown",
   "id": "ca132893",
   "metadata": {},
   "source": [
    "### scikit learn"
   ]
  },
  {
   "cell_type": "code",
   "execution_count": null,
   "id": "380712cb",
   "metadata": {},
   "outputs": [],
   "source": [
    "def mask_fmri(fmri_niimgs, mask_filename, fwhm):\n",
    "    from nilearn.maskers import NiftiMasker\n",
    "    masker = NiftiMasker(mask_img=mask_filename, #runs=session_label,\n",
    "                         smoothing_fwhm=fwhm, standardize=True,\n",
    "                         memory=\"nilearn_cache\", memory_level=1)\n",
    "    fmri_masked = masker.fit_transform(fmri_niimgs)\n",
    "    return fmri_masked, masker"
   ]
  },
  {
   "cell_type": "code",
   "execution_count": null,
   "id": "690c3c1c-997d-4de6-9852-90dfe486b796",
   "metadata": {},
   "outputs": [],
   "source": [
    "def sub_region_svc(sub_id, mask_fpath, stat_maps, cv, fwhm=1.5, space_label='T1w'):\n",
    "    from sklearn.svm import SVC\n",
    "    from sklearn.model_selection import cross_val_score\n",
    "    from sklearn.model_selection import permutation_test_score\n",
    "\n",
    "    #print(sub_id)\n",
    "    #print(os.path.basename(mask_fpath))\n",
    "          \n",
    "    conditions_tone, conditions_talker, conditions_all, conditions_shuffled = create_labels(stat_maps)\n",
    "\n",
    "    # extract beta values from stat maps for given region of interest\n",
    "    fmri_masked, masker = mask_fmri(stat_maps, mask_fpath, fwhm_sub)\n",
    "\n",
    "    svc = SVC()\n",
    "\n",
    "    tone_cv_scores = cross_val_score(svc, fmri_masked, conditions_tone, cv=cv)\n",
    "    print(\"Tone SVC accuracy: {:.3f} with a standard deviation of {:.2f}\".format(tone_cv_scores.mean(),tone_cv_scores.std()))\n",
    "\n",
    "    talker_cv_scores = cross_val_score(svc, fmri_masked, conditions_talker, cv=cv)\n",
    "    print(\"Talker SVC accuracy: {:.3f} with a standard deviation of {:.2f}\".format(talker_cv_scores.mean(),talker_cv_scores.std()))\n",
    "\n",
    "    null_cv_scores = permutation_test_score(svc, fmri_masked, conditions_tone, cv=cv, )[1]\n",
    "    print(\"Permutation test score: {:.3f} with a standard deviation of {:.2f}\".format(null_cv_scores.mean(),null_cv_scores.std()))\n",
    "    \n",
    "    #plot_confusion_matrix(fmri_masked, conditions_tone, mask_descrip, sub_id)\n",
    "    #plot_confusion_matrix(fmri_masked, conditions_talker, mask_descrip, sub_id)\n",
    "    \n",
    "    return fmri_masked, tone_cv_scores, talker_cv_scores, null_cv_scores"
   ]
  },
  {
   "cell_type": "markdown",
   "id": "0e91c583-38ba-4880-a712-95b2d0951e77",
   "metadata": {},
   "source": [
    "#### Confusion matrix"
   ]
  },
  {
   "cell_type": "code",
   "execution_count": null,
   "id": "af351054",
   "metadata": {},
   "outputs": [],
   "source": [
    "def plot_confusion_matrix(X, y, mask_descrip, sub_id):\n",
    "    import numpy as np\n",
    "    import matplotlib.pyplot as plt\n",
    "\n",
    "    from sklearn import svm, datasets\n",
    "    from sklearn.model_selection import train_test_split\n",
    "    from sklearn.metrics import ConfusionMatrixDisplay\n",
    "\n",
    "    # Split the data into a training set and a test set\n",
    "    X_train, X_test, y_train, y_test = train_test_split(X, y, test_size=0.25,\n",
    "                                                        random_state=0, stratify=y)\n",
    "\n",
    "    # Run classifier, using a model that is too regularized (C too low) to see\n",
    "    # the impact on the results\n",
    "    classifier = svm.SVC(kernel=\"linear\", ).fit(X_train, y_train)\n",
    "\n",
    "    np.set_printoptions(precision=2)\n",
    "\n",
    "    sub_title = 'sub-%s mask-%s'%(sub_id, mask_descrip)\n",
    "\n",
    "    # Plot non-normalized confusion matrix\n",
    "    titles_options = [(\"Confusion matrix, without normalization\", None),\n",
    "                      (\"Normalized confusion matrix\", \"true\"),]\n",
    "    #for title, normalize in titles_options:\n",
    "    disp = ConfusionMatrixDisplay.from_estimator(\n",
    "            classifier,\n",
    "            X_test,\n",
    "            y_test,\n",
    "            #display_labels=class_names,\n",
    "            cmap=plt.cm.Blues,\n",
    "            #normalize='true', \n",
    "            )\n",
    "    disp.ax_.set_title(sub_title)\n",
    "\n",
    "    #print(title)\n",
    "    #print(disp.confusion_matrix)\n",
    "\n",
    "    #plt.show()\n",
    "    \n",
    "    return disp.confusion_matrix"
   ]
  },
  {
   "cell_type": "markdown",
   "id": "5440655b-b714-4b55-b1a2-ec5e240aea52",
   "metadata": {
    "tags": []
   },
   "source": [
    "#### Confusion matrices across regions"
   ]
  },
  {
   "cell_type": "code",
   "execution_count": null,
   "id": "7456a9f2-ba60-4ced-9878-5353c92266fc",
   "metadata": {},
   "outputs": [],
   "source": [
    "from sklearn import svm\n",
    "from sklearn.model_selection import train_test_split\n",
    "from sklearn.metrics import ConfusionMatrixDisplay, confusion_matrix, accuracy_score\n",
    "import matplotlib.pyplot as plt\n",
    "\n",
    "fwhm_sub = 0.00\n",
    "space_label = 'MNI152NLin2009cAsym'#'T1w'\n",
    "\n",
    "roi_list = ['L-IC', 'L-MGN',\n",
    "            'L-HG', 'L-PP', 'L-PT', 'L-STGa', 'L-STGp', \n",
    "            'L-ParsOp', 'L-ParsTri',\n",
    "            'R-IC', 'R-MGN',\n",
    "            'R-HG', 'R-PP', 'R-PT', 'R-STGa', 'R-STGp', \n",
    "            'R-ParsOp', 'R-ParsTri',\n",
    "           ]\n",
    "\n",
    "#roi_list = list(roi_dict.keys())\n",
    "\n",
    "print(roi_list)\n",
    "num_rois = len(roi_list)\n",
    "\n",
    "#sub_list_temp = participants_df.participant_id.to_list()\n",
    "#sub_list = [x.split('-')[1] for x in sub_list_temp]\n",
    "sub_list = sub_list_mand + sub_list_nman"
   ]
  },
  {
   "cell_type": "code",
   "execution_count": null,
   "id": "1f58094a-e70a-4e06-a18f-f2b93bafb19f",
   "metadata": {},
   "outputs": [],
   "source": [
    "model_desc = 'stimulus_per_run_LSS'\n",
    "maptype = 'tstat'\n",
    "split_design = 'random'"
   ]
  },
  {
   "cell_type": "code",
   "execution_count": null,
   "id": "c2f9b21c-810c-4893-bfe2-3852c9b23c00",
   "metadata": {},
   "outputs": [],
   "source": [
    "out_dir = os.path.join(bidsroot, 'derivatives', 'nilearn', \n",
    "                       'level-1_fwhm-%.02f'%fwhm_sub,\n",
    "                       'mvpc-roi')\n",
    "os.makedirs(out_dir, exist_ok=True)"
   ]
  },
  {
   "cell_type": "code",
   "execution_count": null,
   "id": "a863738b-2b68-48a7-8412-5f121977e60a",
   "metadata": {},
   "outputs": [],
   "source": [
    "print(out_dir)"
   ]
  },
  {
   "cell_type": "code",
   "execution_count": null,
   "id": "756bfbe4-5e58-4281-a501-ba4fa989d264",
   "metadata": {},
   "outputs": [],
   "source": []
  },
  {
   "cell_type": "code",
   "execution_count": null,
   "id": "f74ec1b1-2712-44c8-97c8-5bc8e9863db9",
   "metadata": {},
   "outputs": [],
   "source": [
    "from sklearn.decomposition import PCA\n",
    "n_components = 10"
   ]
  },
  {
   "cell_type": "code",
   "execution_count": 189,
   "id": "bd7372bd-3acd-403e-9b6b-e82efa740320",
   "metadata": {
    "scrolled": true,
    "tags": []
   },
   "outputs": [
    {
     "name": "stdout",
     "output_type": "stream",
     "text": [
      "sub-FLT02\n",
      "training ROI:  L-IC\n",
      "training ROI:  L-MGN\n",
      "training ROI:  L-HG\n",
      "training ROI:  L-PP\n",
      "training ROI:  L-PT\n",
      "training ROI:  L-STGa\n",
      "training ROI:  L-STGp\n",
      "training ROI:  L-ParsOp\n",
      "training ROI:  L-ParsTri\n",
      "training ROI:  R-IC\n",
      "training ROI:  R-MGN\n",
      "training ROI:  R-HG\n",
      "training ROI:  R-PP\n",
      "training ROI:  R-PT\n",
      "training ROI:  R-STGa\n",
      "training ROI:  R-STGp\n",
      "training ROI:  R-ParsOp\n",
      "training ROI:  R-ParsTri\n",
      "sub-FLT04\n"
     ]
    },
    {
     "name": "stderr",
     "output_type": "stream",
     "text": [
      "/bgfs/bchandrasekaran/krs228/software/miniconda3/envs/py3/lib/python3.9/site-packages/nilearn/image/image.py:211: UserWarning: The parameter 'fwhm' for smoothing is specified as 0.0. Setting it to None (no smoothing will be performed)\n",
      "  warnings.warn(\"The parameter 'fwhm' for smoothing is specified \"\n",
      "/bgfs/bchandrasekaran/krs228/software/miniconda3/envs/py3/lib/python3.9/site-packages/nilearn/image/image.py:211: UserWarning: The parameter 'fwhm' for smoothing is specified as 0.0. Setting it to None (no smoothing will be performed)\n",
      "  warnings.warn(\"The parameter 'fwhm' for smoothing is specified \"\n",
      "/bgfs/bchandrasekaran/krs228/software/miniconda3/envs/py3/lib/python3.9/site-packages/nilearn/image/image.py:211: UserWarning: The parameter 'fwhm' for smoothing is specified as 0.0. Setting it to None (no smoothing will be performed)\n",
      "  warnings.warn(\"The parameter 'fwhm' for smoothing is specified \"\n",
      "/bgfs/bchandrasekaran/krs228/software/miniconda3/envs/py3/lib/python3.9/site-packages/nilearn/image/image.py:211: UserWarning: The parameter 'fwhm' for smoothing is specified as 0.0. Setting it to None (no smoothing will be performed)\n",
      "  warnings.warn(\"The parameter 'fwhm' for smoothing is specified \"\n"
     ]
    },
    {
     "name": "stdout",
     "output_type": "stream",
     "text": [
      "training ROI:  L-IC\n",
      "training ROI:  L-MGN\n",
      "training ROI:  L-HG\n",
      "training ROI:  L-PP\n",
      "training ROI:  L-PT\n",
      "training ROI:  L-STGa\n",
      "training ROI:  L-STGp\n",
      "training ROI:  L-ParsOp\n",
      "training ROI:  L-ParsTri\n",
      "training ROI:  R-IC\n",
      "training ROI:  R-MGN\n",
      "training ROI:  R-HG\n",
      "training ROI:  R-PP\n",
      "training ROI:  R-PT\n",
      "training ROI:  R-STGa\n",
      "training ROI:  R-STGp\n",
      "training ROI:  R-ParsOp\n",
      "training ROI:  R-ParsTri\n",
      "sub-FLT06\n"
     ]
    },
    {
     "name": "stderr",
     "output_type": "stream",
     "text": [
      "/bgfs/bchandrasekaran/krs228/software/miniconda3/envs/py3/lib/python3.9/site-packages/nilearn/image/image.py:211: UserWarning: The parameter 'fwhm' for smoothing is specified as 0.0. Setting it to None (no smoothing will be performed)\n",
      "  warnings.warn(\"The parameter 'fwhm' for smoothing is specified \"\n",
      "/bgfs/bchandrasekaran/krs228/software/miniconda3/envs/py3/lib/python3.9/site-packages/nilearn/image/image.py:211: UserWarning: The parameter 'fwhm' for smoothing is specified as 0.0. Setting it to None (no smoothing will be performed)\n",
      "  warnings.warn(\"The parameter 'fwhm' for smoothing is specified \"\n",
      "/bgfs/bchandrasekaran/krs228/software/miniconda3/envs/py3/lib/python3.9/site-packages/nilearn/image/image.py:211: UserWarning: The parameter 'fwhm' for smoothing is specified as 0.0. Setting it to None (no smoothing will be performed)\n",
      "  warnings.warn(\"The parameter 'fwhm' for smoothing is specified \"\n",
      "/bgfs/bchandrasekaran/krs228/software/miniconda3/envs/py3/lib/python3.9/site-packages/nilearn/image/image.py:211: UserWarning: The parameter 'fwhm' for smoothing is specified as 0.0. Setting it to None (no smoothing will be performed)\n",
      "  warnings.warn(\"The parameter 'fwhm' for smoothing is specified \"\n"
     ]
    },
    {
     "name": "stdout",
     "output_type": "stream",
     "text": [
      "training ROI:  L-IC\n",
      "training ROI:  L-MGN\n",
      "training ROI:  L-HG\n",
      "training ROI:  L-PP\n",
      "training ROI:  L-PT\n",
      "training ROI:  L-STGa\n",
      "training ROI:  L-STGp\n",
      "training ROI:  L-ParsOp\n",
      "training ROI:  L-ParsTri\n",
      "training ROI:  R-IC\n",
      "training ROI:  R-MGN\n",
      "training ROI:  R-HG\n",
      "training ROI:  R-PP\n",
      "training ROI:  R-PT\n",
      "training ROI:  R-STGa\n",
      "training ROI:  R-STGp\n",
      "training ROI:  R-ParsOp\n",
      "training ROI:  R-ParsTri\n",
      "sub-FLT09\n"
     ]
    },
    {
     "name": "stderr",
     "output_type": "stream",
     "text": [
      "/bgfs/bchandrasekaran/krs228/software/miniconda3/envs/py3/lib/python3.9/site-packages/nilearn/image/image.py:211: UserWarning: The parameter 'fwhm' for smoothing is specified as 0.0. Setting it to None (no smoothing will be performed)\n",
      "  warnings.warn(\"The parameter 'fwhm' for smoothing is specified \"\n",
      "/bgfs/bchandrasekaran/krs228/software/miniconda3/envs/py3/lib/python3.9/site-packages/nilearn/image/image.py:211: UserWarning: The parameter 'fwhm' for smoothing is specified as 0.0. Setting it to None (no smoothing will be performed)\n",
      "  warnings.warn(\"The parameter 'fwhm' for smoothing is specified \"\n",
      "/bgfs/bchandrasekaran/krs228/software/miniconda3/envs/py3/lib/python3.9/site-packages/nilearn/image/image.py:211: UserWarning: The parameter 'fwhm' for smoothing is specified as 0.0. Setting it to None (no smoothing will be performed)\n",
      "  warnings.warn(\"The parameter 'fwhm' for smoothing is specified \"\n",
      "/bgfs/bchandrasekaran/krs228/software/miniconda3/envs/py3/lib/python3.9/site-packages/nilearn/image/image.py:211: UserWarning: The parameter 'fwhm' for smoothing is specified as 0.0. Setting it to None (no smoothing will be performed)\n",
      "  warnings.warn(\"The parameter 'fwhm' for smoothing is specified \"\n"
     ]
    },
    {
     "name": "stdout",
     "output_type": "stream",
     "text": [
      "training ROI:  L-IC\n",
      "training ROI:  L-MGN\n",
      "training ROI:  L-HG\n",
      "training ROI:  L-PP\n",
      "training ROI:  L-PT\n",
      "training ROI:  L-STGa\n",
      "training ROI:  L-STGp\n",
      "training ROI:  L-ParsOp\n",
      "training ROI:  L-ParsTri\n",
      "training ROI:  R-IC\n",
      "training ROI:  R-MGN\n",
      "training ROI:  R-HG\n",
      "training ROI:  R-PP\n",
      "training ROI:  R-PT\n",
      "training ROI:  R-STGa\n",
      "training ROI:  R-STGp\n",
      "training ROI:  R-ParsOp\n",
      "training ROI:  R-ParsTri\n",
      "sub-FLT11\n"
     ]
    },
    {
     "name": "stderr",
     "output_type": "stream",
     "text": [
      "/bgfs/bchandrasekaran/krs228/software/miniconda3/envs/py3/lib/python3.9/site-packages/nilearn/image/image.py:211: UserWarning: The parameter 'fwhm' for smoothing is specified as 0.0. Setting it to None (no smoothing will be performed)\n",
      "  warnings.warn(\"The parameter 'fwhm' for smoothing is specified \"\n",
      "/bgfs/bchandrasekaran/krs228/software/miniconda3/envs/py3/lib/python3.9/site-packages/nilearn/image/image.py:211: UserWarning: The parameter 'fwhm' for smoothing is specified as 0.0. Setting it to None (no smoothing will be performed)\n",
      "  warnings.warn(\"The parameter 'fwhm' for smoothing is specified \"\n",
      "/bgfs/bchandrasekaran/krs228/software/miniconda3/envs/py3/lib/python3.9/site-packages/nilearn/image/image.py:211: UserWarning: The parameter 'fwhm' for smoothing is specified as 0.0. Setting it to None (no smoothing will be performed)\n",
      "  warnings.warn(\"The parameter 'fwhm' for smoothing is specified \"\n",
      "/bgfs/bchandrasekaran/krs228/software/miniconda3/envs/py3/lib/python3.9/site-packages/nilearn/image/image.py:211: UserWarning: The parameter 'fwhm' for smoothing is specified as 0.0. Setting it to None (no smoothing will be performed)\n",
      "  warnings.warn(\"The parameter 'fwhm' for smoothing is specified \"\n"
     ]
    },
    {
     "name": "stdout",
     "output_type": "stream",
     "text": [
      "training ROI:  L-IC\n",
      "training ROI:  L-MGN\n",
      "training ROI:  L-HG\n",
      "training ROI:  L-PP\n",
      "training ROI:  L-PT\n",
      "training ROI:  L-STGa\n",
      "training ROI:  L-STGp\n",
      "training ROI:  L-ParsOp\n",
      "training ROI:  L-ParsTri\n",
      "training ROI:  R-IC\n",
      "training ROI:  R-MGN\n",
      "training ROI:  R-HG\n",
      "training ROI:  R-PP\n",
      "training ROI:  R-PT\n",
      "training ROI:  R-STGa\n",
      "training ROI:  R-STGp\n",
      "training ROI:  R-ParsOp\n",
      "training ROI:  R-ParsTri\n",
      "sub-FLT12\n"
     ]
    },
    {
     "name": "stderr",
     "output_type": "stream",
     "text": [
      "/bgfs/bchandrasekaran/krs228/software/miniconda3/envs/py3/lib/python3.9/site-packages/nilearn/image/image.py:211: UserWarning: The parameter 'fwhm' for smoothing is specified as 0.0. Setting it to None (no smoothing will be performed)\n",
      "  warnings.warn(\"The parameter 'fwhm' for smoothing is specified \"\n",
      "/bgfs/bchandrasekaran/krs228/software/miniconda3/envs/py3/lib/python3.9/site-packages/nilearn/image/image.py:211: UserWarning: The parameter 'fwhm' for smoothing is specified as 0.0. Setting it to None (no smoothing will be performed)\n",
      "  warnings.warn(\"The parameter 'fwhm' for smoothing is specified \"\n",
      "/bgfs/bchandrasekaran/krs228/software/miniconda3/envs/py3/lib/python3.9/site-packages/nilearn/image/image.py:211: UserWarning: The parameter 'fwhm' for smoothing is specified as 0.0. Setting it to None (no smoothing will be performed)\n",
      "  warnings.warn(\"The parameter 'fwhm' for smoothing is specified \"\n",
      "/bgfs/bchandrasekaran/krs228/software/miniconda3/envs/py3/lib/python3.9/site-packages/nilearn/image/image.py:211: UserWarning: The parameter 'fwhm' for smoothing is specified as 0.0. Setting it to None (no smoothing will be performed)\n",
      "  warnings.warn(\"The parameter 'fwhm' for smoothing is specified \"\n"
     ]
    },
    {
     "name": "stdout",
     "output_type": "stream",
     "text": [
      "training ROI:  L-IC\n",
      "training ROI:  L-MGN\n",
      "training ROI:  L-HG\n",
      "training ROI:  L-PP\n",
      "training ROI:  L-PT\n",
      "training ROI:  L-STGa\n",
      "training ROI:  L-STGp\n",
      "training ROI:  L-ParsOp\n",
      "training ROI:  L-ParsTri\n",
      "training ROI:  R-IC\n",
      "training ROI:  R-MGN\n",
      "training ROI:  R-HG\n",
      "training ROI:  R-PP\n",
      "training ROI:  R-PT\n",
      "training ROI:  R-STGa\n",
      "training ROI:  R-STGp\n",
      "training ROI:  R-ParsOp\n",
      "training ROI:  R-ParsTri\n",
      "sub-FLT13\n"
     ]
    },
    {
     "name": "stderr",
     "output_type": "stream",
     "text": [
      "/bgfs/bchandrasekaran/krs228/software/miniconda3/envs/py3/lib/python3.9/site-packages/nilearn/image/image.py:211: UserWarning: The parameter 'fwhm' for smoothing is specified as 0.0. Setting it to None (no smoothing will be performed)\n",
      "  warnings.warn(\"The parameter 'fwhm' for smoothing is specified \"\n",
      "/bgfs/bchandrasekaran/krs228/software/miniconda3/envs/py3/lib/python3.9/site-packages/nilearn/image/image.py:211: UserWarning: The parameter 'fwhm' for smoothing is specified as 0.0. Setting it to None (no smoothing will be performed)\n",
      "  warnings.warn(\"The parameter 'fwhm' for smoothing is specified \"\n",
      "/bgfs/bchandrasekaran/krs228/software/miniconda3/envs/py3/lib/python3.9/site-packages/nilearn/image/image.py:211: UserWarning: The parameter 'fwhm' for smoothing is specified as 0.0. Setting it to None (no smoothing will be performed)\n",
      "  warnings.warn(\"The parameter 'fwhm' for smoothing is specified \"\n",
      "/bgfs/bchandrasekaran/krs228/software/miniconda3/envs/py3/lib/python3.9/site-packages/nilearn/image/image.py:211: UserWarning: The parameter 'fwhm' for smoothing is specified as 0.0. Setting it to None (no smoothing will be performed)\n",
      "  warnings.warn(\"The parameter 'fwhm' for smoothing is specified \"\n"
     ]
    },
    {
     "name": "stdout",
     "output_type": "stream",
     "text": [
      "training ROI:  L-IC\n",
      "training ROI:  L-MGN\n",
      "training ROI:  L-HG\n",
      "training ROI:  L-PP\n",
      "training ROI:  L-PT\n",
      "training ROI:  L-STGa\n",
      "training ROI:  L-STGp\n",
      "training ROI:  L-ParsOp\n",
      "training ROI:  L-ParsTri\n",
      "training ROI:  R-IC\n",
      "training ROI:  R-MGN\n",
      "training ROI:  R-HG\n",
      "training ROI:  R-PP\n",
      "training ROI:  R-PT\n",
      "training ROI:  R-STGa\n",
      "training ROI:  R-STGp\n",
      "training ROI:  R-ParsOp\n",
      "training ROI:  R-ParsTri\n",
      "sub-FLT14\n"
     ]
    },
    {
     "name": "stderr",
     "output_type": "stream",
     "text": [
      "/bgfs/bchandrasekaran/krs228/software/miniconda3/envs/py3/lib/python3.9/site-packages/nilearn/image/image.py:211: UserWarning: The parameter 'fwhm' for smoothing is specified as 0.0. Setting it to None (no smoothing will be performed)\n",
      "  warnings.warn(\"The parameter 'fwhm' for smoothing is specified \"\n",
      "/bgfs/bchandrasekaran/krs228/software/miniconda3/envs/py3/lib/python3.9/site-packages/nilearn/image/image.py:211: UserWarning: The parameter 'fwhm' for smoothing is specified as 0.0. Setting it to None (no smoothing will be performed)\n",
      "  warnings.warn(\"The parameter 'fwhm' for smoothing is specified \"\n",
      "/bgfs/bchandrasekaran/krs228/software/miniconda3/envs/py3/lib/python3.9/site-packages/nilearn/image/image.py:211: UserWarning: The parameter 'fwhm' for smoothing is specified as 0.0. Setting it to None (no smoothing will be performed)\n",
      "  warnings.warn(\"The parameter 'fwhm' for smoothing is specified \"\n",
      "/bgfs/bchandrasekaran/krs228/software/miniconda3/envs/py3/lib/python3.9/site-packages/nilearn/image/image.py:211: UserWarning: The parameter 'fwhm' for smoothing is specified as 0.0. Setting it to None (no smoothing will be performed)\n",
      "  warnings.warn(\"The parameter 'fwhm' for smoothing is specified \"\n"
     ]
    },
    {
     "name": "stdout",
     "output_type": "stream",
     "text": [
      "training ROI:  L-IC\n",
      "training ROI:  L-MGN\n",
      "training ROI:  L-HG\n",
      "training ROI:  L-PP\n",
      "training ROI:  L-PT\n",
      "training ROI:  L-STGa\n",
      "training ROI:  L-STGp\n",
      "training ROI:  L-ParsOp\n",
      "training ROI:  L-ParsTri\n",
      "training ROI:  R-IC\n",
      "training ROI:  R-MGN\n",
      "training ROI:  R-HG\n",
      "training ROI:  R-PP\n",
      "training ROI:  R-PT\n",
      "training ROI:  R-STGa\n",
      "training ROI:  R-STGp\n",
      "training ROI:  R-ParsOp\n",
      "training ROI:  R-ParsTri\n",
      "sub-FLT20\n"
     ]
    },
    {
     "name": "stderr",
     "output_type": "stream",
     "text": [
      "/bgfs/bchandrasekaran/krs228/software/miniconda3/envs/py3/lib/python3.9/site-packages/nilearn/image/image.py:211: UserWarning: The parameter 'fwhm' for smoothing is specified as 0.0. Setting it to None (no smoothing will be performed)\n",
      "  warnings.warn(\"The parameter 'fwhm' for smoothing is specified \"\n",
      "/bgfs/bchandrasekaran/krs228/software/miniconda3/envs/py3/lib/python3.9/site-packages/nilearn/image/image.py:211: UserWarning: The parameter 'fwhm' for smoothing is specified as 0.0. Setting it to None (no smoothing will be performed)\n",
      "  warnings.warn(\"The parameter 'fwhm' for smoothing is specified \"\n",
      "/bgfs/bchandrasekaran/krs228/software/miniconda3/envs/py3/lib/python3.9/site-packages/nilearn/image/image.py:211: UserWarning: The parameter 'fwhm' for smoothing is specified as 0.0. Setting it to None (no smoothing will be performed)\n",
      "  warnings.warn(\"The parameter 'fwhm' for smoothing is specified \"\n",
      "/bgfs/bchandrasekaran/krs228/software/miniconda3/envs/py3/lib/python3.9/site-packages/nilearn/image/image.py:211: UserWarning: The parameter 'fwhm' for smoothing is specified as 0.0. Setting it to None (no smoothing will be performed)\n",
      "  warnings.warn(\"The parameter 'fwhm' for smoothing is specified \"\n"
     ]
    },
    {
     "name": "stdout",
     "output_type": "stream",
     "text": [
      "training ROI:  L-IC\n",
      "training ROI:  L-MGN\n",
      "training ROI:  L-HG\n",
      "training ROI:  L-PP\n",
      "training ROI:  L-PT\n",
      "training ROI:  L-STGa\n",
      "training ROI:  L-STGp\n",
      "training ROI:  L-ParsOp\n",
      "training ROI:  L-ParsTri\n",
      "training ROI:  R-IC\n",
      "training ROI:  R-MGN\n",
      "training ROI:  R-HG\n",
      "training ROI:  R-PP\n",
      "training ROI:  R-PT\n",
      "training ROI:  R-STGa\n",
      "training ROI:  R-STGp\n",
      "training ROI:  R-ParsOp\n",
      "training ROI:  R-ParsTri\n",
      "sub-FLT25\n"
     ]
    },
    {
     "name": "stderr",
     "output_type": "stream",
     "text": [
      "/bgfs/bchandrasekaran/krs228/software/miniconda3/envs/py3/lib/python3.9/site-packages/nilearn/image/image.py:211: UserWarning: The parameter 'fwhm' for smoothing is specified as 0.0. Setting it to None (no smoothing will be performed)\n",
      "  warnings.warn(\"The parameter 'fwhm' for smoothing is specified \"\n",
      "/bgfs/bchandrasekaran/krs228/software/miniconda3/envs/py3/lib/python3.9/site-packages/nilearn/image/image.py:211: UserWarning: The parameter 'fwhm' for smoothing is specified as 0.0. Setting it to None (no smoothing will be performed)\n",
      "  warnings.warn(\"The parameter 'fwhm' for smoothing is specified \"\n",
      "/bgfs/bchandrasekaran/krs228/software/miniconda3/envs/py3/lib/python3.9/site-packages/nilearn/image/image.py:211: UserWarning: The parameter 'fwhm' for smoothing is specified as 0.0. Setting it to None (no smoothing will be performed)\n",
      "  warnings.warn(\"The parameter 'fwhm' for smoothing is specified \"\n",
      "/bgfs/bchandrasekaran/krs228/software/miniconda3/envs/py3/lib/python3.9/site-packages/nilearn/image/image.py:211: UserWarning: The parameter 'fwhm' for smoothing is specified as 0.0. Setting it to None (no smoothing will be performed)\n",
      "  warnings.warn(\"The parameter 'fwhm' for smoothing is specified \"\n"
     ]
    },
    {
     "name": "stdout",
     "output_type": "stream",
     "text": [
      "training ROI:  L-IC\n",
      "training ROI:  L-MGN\n",
      "training ROI:  L-HG\n",
      "training ROI:  L-PP\n",
      "training ROI:  L-PT\n",
      "training ROI:  L-STGa\n",
      "training ROI:  L-STGp\n",
      "training ROI:  L-ParsOp\n",
      "training ROI:  L-ParsTri\n",
      "training ROI:  R-IC\n",
      "training ROI:  R-MGN\n",
      "training ROI:  R-HG\n",
      "training ROI:  R-PP\n",
      "training ROI:  R-PT\n",
      "training ROI:  R-STGa\n",
      "training ROI:  R-STGp\n",
      "training ROI:  R-ParsOp\n",
      "training ROI:  R-ParsTri\n",
      "sub-FLT28\n"
     ]
    },
    {
     "name": "stderr",
     "output_type": "stream",
     "text": [
      "/bgfs/bchandrasekaran/krs228/software/miniconda3/envs/py3/lib/python3.9/site-packages/nilearn/image/image.py:211: UserWarning: The parameter 'fwhm' for smoothing is specified as 0.0. Setting it to None (no smoothing will be performed)\n",
      "  warnings.warn(\"The parameter 'fwhm' for smoothing is specified \"\n",
      "/bgfs/bchandrasekaran/krs228/software/miniconda3/envs/py3/lib/python3.9/site-packages/nilearn/image/image.py:211: UserWarning: The parameter 'fwhm' for smoothing is specified as 0.0. Setting it to None (no smoothing will be performed)\n",
      "  warnings.warn(\"The parameter 'fwhm' for smoothing is specified \"\n",
      "/bgfs/bchandrasekaran/krs228/software/miniconda3/envs/py3/lib/python3.9/site-packages/nilearn/image/image.py:211: UserWarning: The parameter 'fwhm' for smoothing is specified as 0.0. Setting it to None (no smoothing will be performed)\n",
      "  warnings.warn(\"The parameter 'fwhm' for smoothing is specified \"\n",
      "/bgfs/bchandrasekaran/krs228/software/miniconda3/envs/py3/lib/python3.9/site-packages/nilearn/image/image.py:211: UserWarning: The parameter 'fwhm' for smoothing is specified as 0.0. Setting it to None (no smoothing will be performed)\n",
      "  warnings.warn(\"The parameter 'fwhm' for smoothing is specified \"\n",
      "/bgfs/bchandrasekaran/krs228/software/miniconda3/envs/py3/lib/python3.9/site-packages/nilearn/image/image.py:211: UserWarning: The parameter 'fwhm' for smoothing is specified as 0.0. Setting it to None (no smoothing will be performed)\n",
      "  warnings.warn(\"The parameter 'fwhm' for smoothing is specified \"\n",
      "/bgfs/bchandrasekaran/krs228/software/miniconda3/envs/py3/lib/python3.9/site-packages/nilearn/image/image.py:211: UserWarning: The parameter 'fwhm' for smoothing is specified as 0.0. Setting it to None (no smoothing will be performed)\n",
      "  warnings.warn(\"The parameter 'fwhm' for smoothing is specified \"\n",
      "/bgfs/bchandrasekaran/krs228/software/miniconda3/envs/py3/lib/python3.9/site-packages/nilearn/image/image.py:211: UserWarning: The parameter 'fwhm' for smoothing is specified as 0.0. Setting it to None (no smoothing will be performed)\n",
      "  warnings.warn(\"The parameter 'fwhm' for smoothing is specified \"\n",
      "/bgfs/bchandrasekaran/krs228/software/miniconda3/envs/py3/lib/python3.9/site-packages/nilearn/image/image.py:211: UserWarning: The parameter 'fwhm' for smoothing is specified as 0.0. Setting it to None (no smoothing will be performed)\n",
      "  warnings.warn(\"The parameter 'fwhm' for smoothing is specified \"\n",
      "/bgfs/bchandrasekaran/krs228/software/miniconda3/envs/py3/lib/python3.9/site-packages/nilearn/image/image.py:211: UserWarning: The parameter 'fwhm' for smoothing is specified as 0.0. Setting it to None (no smoothing will be performed)\n",
      "  warnings.warn(\"The parameter 'fwhm' for smoothing is specified \"\n",
      "/bgfs/bchandrasekaran/krs228/software/miniconda3/envs/py3/lib/python3.9/site-packages/nilearn/image/image.py:211: UserWarning: The parameter 'fwhm' for smoothing is specified as 0.0. Setting it to None (no smoothing will be performed)\n",
      "  warnings.warn(\"The parameter 'fwhm' for smoothing is specified \"\n",
      "/bgfs/bchandrasekaran/krs228/software/miniconda3/envs/py3/lib/python3.9/site-packages/nilearn/image/image.py:211: UserWarning: The parameter 'fwhm' for smoothing is specified as 0.0. Setting it to None (no smoothing will be performed)\n",
      "  warnings.warn(\"The parameter 'fwhm' for smoothing is specified \"\n",
      "/bgfs/bchandrasekaran/krs228/software/miniconda3/envs/py3/lib/python3.9/site-packages/nilearn/image/image.py:211: UserWarning: The parameter 'fwhm' for smoothing is specified as 0.0. Setting it to None (no smoothing will be performed)\n",
      "  warnings.warn(\"The parameter 'fwhm' for smoothing is specified \"\n",
      "/bgfs/bchandrasekaran/krs228/software/miniconda3/envs/py3/lib/python3.9/site-packages/nilearn/image/image.py:211: UserWarning: The parameter 'fwhm' for smoothing is specified as 0.0. Setting it to None (no smoothing will be performed)\n",
      "  warnings.warn(\"The parameter 'fwhm' for smoothing is specified \"\n",
      "/bgfs/bchandrasekaran/krs228/software/miniconda3/envs/py3/lib/python3.9/site-packages/nilearn/image/image.py:211: UserWarning: The parameter 'fwhm' for smoothing is specified as 0.0. Setting it to None (no smoothing will be performed)\n",
      "  warnings.warn(\"The parameter 'fwhm' for smoothing is specified \"\n",
      "/bgfs/bchandrasekaran/krs228/software/miniconda3/envs/py3/lib/python3.9/site-packages/nilearn/image/image.py:211: UserWarning: The parameter 'fwhm' for smoothing is specified as 0.0. Setting it to None (no smoothing will be performed)\n",
      "  warnings.warn(\"The parameter 'fwhm' for smoothing is specified \"\n",
      "/bgfs/bchandrasekaran/krs228/software/miniconda3/envs/py3/lib/python3.9/site-packages/nilearn/image/image.py:211: UserWarning: The parameter 'fwhm' for smoothing is specified as 0.0. Setting it to None (no smoothing will be performed)\n",
      "  warnings.warn(\"The parameter 'fwhm' for smoothing is specified \"\n",
      "/bgfs/bchandrasekaran/krs228/software/miniconda3/envs/py3/lib/python3.9/site-packages/nilearn/image/image.py:211: UserWarning: The parameter 'fwhm' for smoothing is specified as 0.0. Setting it to None (no smoothing will be performed)\n",
      "  warnings.warn(\"The parameter 'fwhm' for smoothing is specified \"\n",
      "/bgfs/bchandrasekaran/krs228/software/miniconda3/envs/py3/lib/python3.9/site-packages/nilearn/image/image.py:211: UserWarning: The parameter 'fwhm' for smoothing is specified as 0.0. Setting it to None (no smoothing will be performed)\n",
      "  warnings.warn(\"The parameter 'fwhm' for smoothing is specified \"\n"
     ]
    },
    {
     "name": "stdout",
     "output_type": "stream",
     "text": [
      "training ROI:  L-IC\n",
      "training ROI:  L-MGN\n",
      "training ROI:  L-HG\n",
      "training ROI:  L-PP\n",
      "training ROI:  L-PT\n",
      "training ROI:  L-STGa\n",
      "training ROI:  L-STGp\n",
      "training ROI:  L-ParsOp\n",
      "training ROI:  L-ParsTri\n",
      "training ROI:  R-IC\n",
      "training ROI:  R-MGN\n",
      "training ROI:  R-HG\n",
      "training ROI:  R-PP\n",
      "training ROI:  R-PT\n",
      "training ROI:  R-STGa\n",
      "training ROI:  R-STGp\n",
      "training ROI:  R-ParsOp\n",
      "training ROI:  R-ParsTri\n",
      "sub-FLT30\n"
     ]
    },
    {
     "name": "stderr",
     "output_type": "stream",
     "text": [
      "/bgfs/bchandrasekaran/krs228/software/miniconda3/envs/py3/lib/python3.9/site-packages/nilearn/image/image.py:211: UserWarning: The parameter 'fwhm' for smoothing is specified as 0.0. Setting it to None (no smoothing will be performed)\n",
      "  warnings.warn(\"The parameter 'fwhm' for smoothing is specified \"\n",
      "/bgfs/bchandrasekaran/krs228/software/miniconda3/envs/py3/lib/python3.9/site-packages/nilearn/image/image.py:211: UserWarning: The parameter 'fwhm' for smoothing is specified as 0.0. Setting it to None (no smoothing will be performed)\n",
      "  warnings.warn(\"The parameter 'fwhm' for smoothing is specified \"\n",
      "/bgfs/bchandrasekaran/krs228/software/miniconda3/envs/py3/lib/python3.9/site-packages/nilearn/image/image.py:211: UserWarning: The parameter 'fwhm' for smoothing is specified as 0.0. Setting it to None (no smoothing will be performed)\n",
      "  warnings.warn(\"The parameter 'fwhm' for smoothing is specified \"\n",
      "/bgfs/bchandrasekaran/krs228/software/miniconda3/envs/py3/lib/python3.9/site-packages/nilearn/image/image.py:211: UserWarning: The parameter 'fwhm' for smoothing is specified as 0.0. Setting it to None (no smoothing will be performed)\n",
      "  warnings.warn(\"The parameter 'fwhm' for smoothing is specified \"\n",
      "/bgfs/bchandrasekaran/krs228/software/miniconda3/envs/py3/lib/python3.9/site-packages/nilearn/image/image.py:211: UserWarning: The parameter 'fwhm' for smoothing is specified as 0.0. Setting it to None (no smoothing will be performed)\n",
      "  warnings.warn(\"The parameter 'fwhm' for smoothing is specified \"\n",
      "/bgfs/bchandrasekaran/krs228/software/miniconda3/envs/py3/lib/python3.9/site-packages/nilearn/image/image.py:211: UserWarning: The parameter 'fwhm' for smoothing is specified as 0.0. Setting it to None (no smoothing will be performed)\n",
      "  warnings.warn(\"The parameter 'fwhm' for smoothing is specified \"\n",
      "/bgfs/bchandrasekaran/krs228/software/miniconda3/envs/py3/lib/python3.9/site-packages/nilearn/image/image.py:211: UserWarning: The parameter 'fwhm' for smoothing is specified as 0.0. Setting it to None (no smoothing will be performed)\n",
      "  warnings.warn(\"The parameter 'fwhm' for smoothing is specified \"\n",
      "/bgfs/bchandrasekaran/krs228/software/miniconda3/envs/py3/lib/python3.9/site-packages/nilearn/image/image.py:211: UserWarning: The parameter 'fwhm' for smoothing is specified as 0.0. Setting it to None (no smoothing will be performed)\n",
      "  warnings.warn(\"The parameter 'fwhm' for smoothing is specified \"\n",
      "/bgfs/bchandrasekaran/krs228/software/miniconda3/envs/py3/lib/python3.9/site-packages/nilearn/image/image.py:211: UserWarning: The parameter 'fwhm' for smoothing is specified as 0.0. Setting it to None (no smoothing will be performed)\n",
      "  warnings.warn(\"The parameter 'fwhm' for smoothing is specified \"\n",
      "/bgfs/bchandrasekaran/krs228/software/miniconda3/envs/py3/lib/python3.9/site-packages/nilearn/image/image.py:211: UserWarning: The parameter 'fwhm' for smoothing is specified as 0.0. Setting it to None (no smoothing will be performed)\n",
      "  warnings.warn(\"The parameter 'fwhm' for smoothing is specified \"\n",
      "/bgfs/bchandrasekaran/krs228/software/miniconda3/envs/py3/lib/python3.9/site-packages/nilearn/image/image.py:211: UserWarning: The parameter 'fwhm' for smoothing is specified as 0.0. Setting it to None (no smoothing will be performed)\n",
      "  warnings.warn(\"The parameter 'fwhm' for smoothing is specified \"\n",
      "/bgfs/bchandrasekaran/krs228/software/miniconda3/envs/py3/lib/python3.9/site-packages/nilearn/image/image.py:211: UserWarning: The parameter 'fwhm' for smoothing is specified as 0.0. Setting it to None (no smoothing will be performed)\n",
      "  warnings.warn(\"The parameter 'fwhm' for smoothing is specified \"\n",
      "/bgfs/bchandrasekaran/krs228/software/miniconda3/envs/py3/lib/python3.9/site-packages/nilearn/image/image.py:211: UserWarning: The parameter 'fwhm' for smoothing is specified as 0.0. Setting it to None (no smoothing will be performed)\n",
      "  warnings.warn(\"The parameter 'fwhm' for smoothing is specified \"\n",
      "/bgfs/bchandrasekaran/krs228/software/miniconda3/envs/py3/lib/python3.9/site-packages/nilearn/image/image.py:211: UserWarning: The parameter 'fwhm' for smoothing is specified as 0.0. Setting it to None (no smoothing will be performed)\n",
      "  warnings.warn(\"The parameter 'fwhm' for smoothing is specified \"\n",
      "/bgfs/bchandrasekaran/krs228/software/miniconda3/envs/py3/lib/python3.9/site-packages/nilearn/image/image.py:211: UserWarning: The parameter 'fwhm' for smoothing is specified as 0.0. Setting it to None (no smoothing will be performed)\n",
      "  warnings.warn(\"The parameter 'fwhm' for smoothing is specified \"\n",
      "/bgfs/bchandrasekaran/krs228/software/miniconda3/envs/py3/lib/python3.9/site-packages/nilearn/image/image.py:211: UserWarning: The parameter 'fwhm' for smoothing is specified as 0.0. Setting it to None (no smoothing will be performed)\n",
      "  warnings.warn(\"The parameter 'fwhm' for smoothing is specified \"\n",
      "/bgfs/bchandrasekaran/krs228/software/miniconda3/envs/py3/lib/python3.9/site-packages/nilearn/image/image.py:211: UserWarning: The parameter 'fwhm' for smoothing is specified as 0.0. Setting it to None (no smoothing will be performed)\n",
      "  warnings.warn(\"The parameter 'fwhm' for smoothing is specified \"\n",
      "/bgfs/bchandrasekaran/krs228/software/miniconda3/envs/py3/lib/python3.9/site-packages/nilearn/image/image.py:211: UserWarning: The parameter 'fwhm' for smoothing is specified as 0.0. Setting it to None (no smoothing will be performed)\n",
      "  warnings.warn(\"The parameter 'fwhm' for smoothing is specified \"\n"
     ]
    },
    {
     "name": "stdout",
     "output_type": "stream",
     "text": [
      "training ROI:  L-IC\n",
      "training ROI:  L-MGN\n",
      "training ROI:  L-HG\n",
      "training ROI:  L-PP\n",
      "training ROI:  L-PT\n",
      "training ROI:  L-STGa\n",
      "training ROI:  L-STGp\n",
      "training ROI:  L-ParsOp\n",
      "training ROI:  L-ParsTri\n",
      "training ROI:  R-IC\n",
      "training ROI:  R-MGN\n",
      "training ROI:  R-HG\n",
      "training ROI:  R-PP\n",
      "training ROI:  R-PT\n",
      "training ROI:  R-STGa\n",
      "training ROI:  R-STGp\n",
      "training ROI:  R-ParsOp\n",
      "training ROI:  R-ParsTri\n"
     ]
    }
   ],
   "source": [
    "#mand_comp_mat = []\n",
    "nman_comp_mat = []\n",
    "\n",
    "for sub_id in sub_list_nman:\n",
    "    print(sub_id)\n",
    "    masks_dir = os.path.join(group_masks_dir, sub_id, 'space-%s'%space_label)\n",
    "    nilearn_sub_dir = os.path.join(bidsroot, 'derivatives', 'nilearn', \n",
    "                                       'level-1_fwhm-%.02f'%fwhm_sub, \n",
    "                                       '%s_space-%s'%(sub_id, space_label))\n",
    "\n",
    "    # run-specific stimulus beta maps\n",
    "    stat_maps = sorted(glob(nilearn_sub_dir+f'/{model_desc}/run*/*di*map-{maptype}.nii.gz')) \n",
    "    \n",
    "    # generate condition labels based on filenames\n",
    "    conditions_tone, conditions_talker, conditions_all, conditions_shuffled = create_labels(stat_maps)\n",
    "    \n",
    "    # first, loop through ROIs to create masked arrays\n",
    "    fmri_masked_dict = {}\n",
    "    for mx, mask_descrip in enumerate(roi_list):\n",
    "        # define the mask for the region of interest\n",
    "        mask_fpath = glob(masks_dir + '/masks-*/' + '%s_space-%s_mask-%s.nii.gz'%(sub_id, space_label, mask_descrip))[0]\n",
    "        \n",
    "        fmri_masked, masker = mask_fmri(stat_maps, mask_fpath, fwhm_sub)\n",
    "        \n",
    "        # decompose into limited number of principal components\n",
    "        # to compare across ROIs with different voxel counts\n",
    "        pca = PCA(n_components=n_components)\n",
    "        pca.fit(fmri_masked.transpose())\n",
    "        \n",
    "        fmri_masked_dict[mask_descrip] = pca.components_.transpose() #fmri_masked\n",
    "        \n",
    "    # now, loop through ROIs to use as training sets\n",
    "    sub_comp_mat = np.zeros((num_rois, num_rois))\n",
    "    for mx, mask_descrip in enumerate(roi_list):\n",
    "        print('training ROI: ', mask_descrip)\n",
    "        X_train = fmri_masked_dict[mask_descrip]\n",
    "        y_train = conditions_tone\n",
    "        y_test  = conditions_tone # can set this now since it's always the same\n",
    "        \n",
    "        # Train classifier\n",
    "        clf = svm.SVC(decision_function_shape='ovo').fit(X_train, y_train)\n",
    "        \n",
    "        # finally, loop through ROIs to use as test sets\n",
    "        for tx, test_mask in enumerate(roi_list):\n",
    "            #print('test ROI: ', test_mask)\n",
    "            X_test = fmri_masked_dict[test_mask]\n",
    "            y_pred = clf.predict(X_test)\n",
    "            \n",
    "            clf_acc = accuracy_score(y_test, y_pred)\n",
    "            #print(f'accuracy: {clf_acc:.04f} - test ROI: {test_mask}')\n",
    "        \n",
    "            sub_comp_mat[mx, tx] = clf_acc\n",
    "        \n",
    "    if sub_id in sub_list_mand:\n",
    "        mand_comp_mat.append(sub_comp_mat)\n",
    "    elif sub_id in sub_list_nman:\n",
    "        nman_comp_mat.append(sub_comp_mat)"
   ]
  },
  {
   "cell_type": "code",
   "execution_count": null,
   "id": "8627b736-e0f9-4969-8844-2ddcee24b011",
   "metadata": {},
   "outputs": [],
   "source": []
  },
  {
   "cell_type": "code",
   "execution_count": null,
   "id": "66637962-6e9f-4082-96f2-1ef5f7b285f1",
   "metadata": {},
   "outputs": [],
   "source": []
  },
  {
   "cell_type": "markdown",
   "id": "a7562974-e827-421f-a877-7baf40da8fff",
   "metadata": {},
   "source": [
    "### Group mean matrices"
   ]
  },
  {
   "cell_type": "code",
   "execution_count": 89,
   "id": "e124ee87-8dd3-447f-bc40-236dc42ea749",
   "metadata": {},
   "outputs": [],
   "source": [
    "import seaborn as sns"
   ]
  },
  {
   "cell_type": "code",
   "execution_count": 123,
   "id": "7cdc5f7d-bc3f-4122-a1e9-25b12775d17a",
   "metadata": {},
   "outputs": [],
   "source": [
    "from scipy import stats"
   ]
  },
  {
   "cell_type": "code",
   "execution_count": 193,
   "id": "b61f3e30-abe8-41be-8091-39d8e19b5aff",
   "metadata": {},
   "outputs": [],
   "source": [
    "mand_mean_cm = np.mean(mand_comp_mat, axis=0)\n",
    "nman_mean_cm = np.mean(nman_comp_mat, axis=0)"
   ]
  },
  {
   "cell_type": "code",
   "execution_count": 102,
   "id": "101e5ee9-0f63-45cd-986b-779cd05ce6d3",
   "metadata": {},
   "outputs": [],
   "source": [
    "mask = np.zeros_like(mand_mean_cm)\n",
    "mask[np.diag_indices_from(mand_mean_cm)] = True"
   ]
  },
  {
   "cell_type": "markdown",
   "id": "11bb11dd-3ce7-4144-9119-938ee2250707",
   "metadata": {},
   "source": [
    "#### Mandarin-speaking participants\n"
   ]
  },
  {
   "cell_type": "code",
   "execution_count": 194,
   "id": "50fc61af-fbd4-4e0e-bc64-5278a001ce89",
   "metadata": {},
   "outputs": [
    {
     "data": {
      "image/png": "[encoded data removed]",
      "text/plain": [
       "<Figure size 1500x1500 with 2 Axes>"
      ]
     },
     "metadata": {
      "needs_background": "light"
     },
     "output_type": "display_data"
    }
   ],
   "source": [
    "# compare against chance and FDR-correct\n",
    "res = stats.ttest_1samp(mand_comp_mat, popmean=0.25)\n",
    "pvals_adj = stats.false_discovery_control(res.pvalue)\n",
    "\n",
    "pval_mask = np.invert(pvals_adj<0.05)\n",
    "\n",
    "sig_arr = []\n",
    "for rx in range(pval_mask.shape[0]):\n",
    "    row_arr = []\n",
    "    for cx in range(pval_mask.shape[1]):\n",
    "        if ~pval_mask[rx,cx]:\n",
    "            row_arr.append('*')\n",
    "        else:\n",
    "            row_arr.append('')\n",
    "    sig_arr.append(row_arr)\n",
    "\n",
    "fig, ax = plt.subplots(1, 1, figsize=(5,5), dpi=300)\n",
    "\n",
    "sns.heatmap(mand_mean_cm, \n",
    "            mask=mask, \n",
    "            annot=sig_arr, fmt = '', \n",
    "            ax=ax, \n",
    "            cbar_kws={'shrink':0.5, 'label': 'SVC accuracy'},\n",
    "            cmap='coolwarm', center = 0.25,\n",
    "            square=True,\n",
    "            xticklabels=roi_list,\n",
    "            yticklabels=roi_list,       \n",
    "            )\n",
    "ax.set_title('Native Mandarin mean across-ROI SVC accuracy')\n",
    "ax.axes.set_xticklabels(ax.xaxis.get_majorticklabels(), rotation=60, ha=\"right\")\n",
    "ax.set(xlabel='Testing ROI', ylabel='Training ROI')\n",
    "\n",
    "# better spacing\n",
    "fig.tight_layout()\n",
    "fig.savefig('level-2_den_mvpc-roi/' + f'group-Mand_aud-subcort_SVC-across-ROI.png')\n"
   ]
  },
  {
   "cell_type": "markdown",
   "id": "9e4b2024-bcbb-4ffb-bab2-984cc6754b3b",
   "metadata": {},
   "source": [
    "#### Non-Mandarin-speaking participants"
   ]
  },
  {
   "cell_type": "code",
   "execution_count": 195,
   "id": "77f04128-6ccb-4899-8c2f-3e08db121837",
   "metadata": {},
   "outputs": [
    {
     "data": {
      "image/png": "[encoded data removed]",
      "text/plain": [
       "<Figure size 1500x1500 with 2 Axes>"
      ]
     },
     "metadata": {
      "needs_background": "light"
     },
     "output_type": "display_data"
    }
   ],
   "source": [
    "# compare against chance and FDR-correct\n",
    "res = stats.ttest_1samp(nman_comp_mat, popmean=0.25)\n",
    "pvals_adj = stats.false_discovery_control(res.pvalue)\n",
    "\n",
    "pval_mask = np.invert(pvals_adj<0.05)\n",
    "\n",
    "sig_arr = []\n",
    "for rx in range(pval_mask.shape[0]):\n",
    "    row_arr = []\n",
    "    for cx in range(pval_mask.shape[1]):\n",
    "        if ~pval_mask[rx,cx]:\n",
    "            row_arr.append('*')\n",
    "        else:\n",
    "            row_arr.append('')\n",
    "    sig_arr.append(row_arr)\n",
    "\n",
    "fig, ax = plt.subplots(1, 1, figsize=(5,5), dpi=300)\n",
    "\n",
    "sns.heatmap(nman_mean_cm, \n",
    "            mask=mask, \n",
    "            annot=sig_arr, fmt = '', \n",
    "            ax=ax, \n",
    "            cbar_kws={'shrink':0.5, 'label': 'SVC accuracy'},\n",
    "            cmap='coolwarm', center = 0.25,\n",
    "            square=True,\n",
    "            xticklabels=roi_list,\n",
    "            yticklabels=roi_list,       \n",
    "            )\n",
    "ax.set_title('Non-Mandarin mean across-ROI SVC accuracy')\n",
    "ax.axes.set_xticklabels(ax.xaxis.get_majorticklabels(), rotation=60, ha=\"right\")\n",
    "ax.set(xlabel='Testing ROI', ylabel='Training ROI')\n",
    "\n",
    "# better spacing\n",
    "fig.tight_layout()\n",
    "fig.savefig('level-2_mvpc-roi/' + f'group-NMan_aud-subcort_SVC-across-ROI.png')\n"
   ]
  },
  {
   "cell_type": "code",
   "execution_count": null,
   "id": "c7533b40-b04f-4d06-8acb-5ecfcec98a21",
   "metadata": {},
   "outputs": [],
   "source": []
  },
  {
   "cell_type": "code",
   "execution_count": null,
   "id": "31a17ccb-33c6-40f1-9566-92be5d251f13",
   "metadata": {},
   "outputs": [],
   "source": []
  },
  {
   "cell_type": "code",
   "execution_count": null,
   "id": "2324b07d-d388-4be9-920b-b3ed7e675338",
   "metadata": {},
   "outputs": [],
   "source": []
  },
  {
   "cell_type": "markdown",
   "id": "c8f6c1d5-fe81-4b6a-99c1-524dc7329632",
   "metadata": {
    "jp-MarkdownHeadingCollapsed": true,
    "tags": []
   },
   "source": [
    "## OLD/ORIGINAL CODE"
   ]
  },
  {
   "cell_type": "markdown",
   "id": "5807a222-5f3a-4d05-838a-afa963b2e231",
   "metadata": {
    "tags": []
   },
   "source": [
    "#### Compare with behavior"
   ]
  },
  {
   "cell_type": "code",
   "execution_count": 109,
   "id": "a3be8c05-51b7-412f-a7be-8b4d6c43dbff",
   "metadata": {},
   "outputs": [],
   "source": [
    "from scipy.stats import spearmanr"
   ]
  },
  {
   "cell_type": "code",
   "execution_count": 111,
   "id": "332237b1-ffe3-4af7-ae28-1020179d2660",
   "metadata": {
    "scrolled": true,
    "tags": []
   },
   "outputs": [
    {
     "name": "stdout",
     "output_type": "stream",
     "text": [
      "FLT01\n",
      "L-Caud r = -0.091 p = 0.779\n",
      "L-Put r = 0.674 p = 0.016\n",
      "R-Caud r = 0.522 p = 0.082\n",
      "R-Put r = 1.000 p = 0.000\n",
      "FLT03\n",
      "L-Caud r = 0.113 p = 0.727\n",
      "L-Put r = -0.199 p = 0.535\n",
      "R-Caud r = 0.739 p = 0.006\n",
      "R-Put r = 0.739 p = 0.006\n",
      "FLT05\n",
      "L-Caud r = 0.180 p = 0.575\n",
      "L-Put r = 0.158 p = 0.624\n",
      "R-Caud r = -0.199 p = 0.535\n",
      "R-Put r = -0.135 p = 0.676\n",
      "FLT07\n",
      "L-Caud r = nan p = nan\n",
      "L-Put r = nan p = nan\n",
      "R-Caud r = nan p = nan\n",
      "R-Put r = nan p = nan\n",
      "FLT08\n",
      "L-Caud r = nan p = nan\n",
      "L-Put r = nan p = nan\n",
      "R-Caud r = nan p = nan\n",
      "R-Put r = nan p = nan\n",
      "FLT10\n",
      "L-Caud r = -0.255 p = 0.424\n",
      "L-Put r = 0.604 p = 0.037\n",
      "R-Caud r = -0.174 p = 0.588\n",
      "R-Put r = -0.134 p = 0.677\n",
      "FLT02\n",
      "L-Caud r = 0.024 p = 0.940\n",
      "L-Put r = 0.297 p = 0.349\n",
      "R-Caud r = 0.381 p = 0.222\n",
      "R-Put r = 0.087 p = 0.787\n",
      "FLT04\n",
      "L-Caud r = 0.787 p = 0.002\n",
      "L-Put r = 0.547 p = 0.066\n",
      "R-Caud r = 0.795 p = 0.002\n",
      "R-Put r = 0.709 p = 0.010\n",
      "FLT06\n",
      "L-Caud r = 0.073 p = 0.822\n",
      "L-Put r = 0.032 p = 0.923\n",
      "R-Caud r = 0.198 p = 0.538\n",
      "R-Put r = 0.273 p = 0.390\n",
      "FLT09\n",
      "L-Caud r = 0.451 p = 0.142\n",
      "L-Put r = 0.868 p = 0.000\n",
      "R-Caud r = 0.681 p = 0.015\n",
      "R-Put r = 0.770 p = 0.003\n",
      "FLT11\n",
      "L-Caud r = 0.433 p = 0.160\n",
      "L-Put r = 0.042 p = 0.898\n",
      "R-Caud r = 0.525 p = 0.080\n",
      "R-Put r = 0.143 p = 0.658\n",
      "FLT12\n",
      "L-Caud r = 0.730 p = 0.007\n",
      "L-Put r = 0.627 p = 0.029\n",
      "R-Caud r = 0.730 p = 0.007\n",
      "R-Put r = 0.831 p = 0.001\n",
      "FLT13\n",
      "L-Caud r = 0.418 p = 0.176\n",
      "L-Put r = 0.425 p = 0.168\n",
      "R-Caud r = 0.210 p = 0.513\n",
      "R-Put r = 0.603 p = 0.038\n"
     ]
    }
   ],
   "source": [
    "for sub_id in sub_list:\n",
    "    print(sub_id)\n",
    "    behav_cm = np.genfromtxt('behav_confusion_matrices/sub-{}_behav_confusion_matrix.csv'.format(sub_id))    \n",
    "    behav_off_diag = behav_cm[np.where(~np.eye(behav_cm.shape[0],dtype=bool))]\n",
    "    #print(behav_off_diag)\n",
    "    for mx, mask_descrip in enumerate(roi_list):\n",
    "        mask_cm = np.genfromtxt('striatal_confusion_matrices/sub-{}_mask-{}_label-{}_confusion_matrix.csv'.format(sub_id, mask_descrip, 'tone'))\n",
    "        mask_off_diag = mask_cm[np.where(~np.eye(mask_cm.shape[0],dtype=bool))]\n",
    "        #print(mask_off_diag)\n",
    "        \n",
    "        r, p = spearmanr(behav_off_diag, mask_off_diag)\n",
    "        print('{} r = {:.03f} p = {:.03f}'.format(mask_descrip, r, p))"
   ]
  },
  {
   "cell_type": "code",
   "execution_count": 96,
   "id": "586cc9dc-7cac-4942-82d2-f152f7a85b2c",
   "metadata": {},
   "outputs": [
    {
     "data": {
      "text/plain": [
       "'1.6.2'"
      ]
     },
     "execution_count": 96,
     "metadata": {},
     "output_type": "execute_result"
    }
   ],
   "source": []
  },
  {
   "cell_type": "code",
   "execution_count": null,
   "id": "77505b69-f895-4acd-b1dd-3c2e5b229db6",
   "metadata": {},
   "outputs": [],
   "source": []
  },
  {
   "cell_type": "markdown",
   "id": "6e6faa59-a44a-41b6-9617-62343edc7a89",
   "metadata": {
    "jp-MarkdownHeadingCollapsed": true,
    "tags": []
   },
   "source": [
    "### Run pipeline"
   ]
  },
  {
   "cell_type": "code",
   "execution_count": 26,
   "id": "07ade466-0d11-45fa-8ef9-6cfe0b543552",
   "metadata": {},
   "outputs": [],
   "source": [
    "from sklearn.model_selection import KFold, StratifiedKFold\n",
    "\n",
    "fwhm_sub = 0 # 1.5\n",
    "space_label = 'MNI152NLin2009cAsym' #'T1w' \n",
    "\n",
    "cv = StratifiedKFold(n_splits=4)"
   ]
  },
  {
   "cell_type": "code",
   "execution_count": 27,
   "id": "fdf8e29c-4fcc-4083-859e-aa2415142d49",
   "metadata": {},
   "outputs": [
    {
     "name": "stdout",
     "output_type": "stream",
     "text": [
      "['L-CN', 'L-SOC', 'L-IC', 'L-MGN', 'R-CN', 'R-SOC', 'R-IC', 'R-MGN']\n"
     ]
    }
   ],
   "source": [
    "#roi_list = list(roi_dict.keys())\n",
    "print(roi_list)"
   ]
  },
  {
   "cell_type": "code",
   "execution_count": 38,
   "id": "4469fec7-b831-470c-9ea2-e99b49f36275",
   "metadata": {},
   "outputs": [
    {
     "data": {
      "text/plain": [
       "'/bgfs/bchandrasekaran/krs228/data/FLT/data_bids_noIntendedFor/derivatives/nilearn/level-1_fwhm-0.00/sub-FLT01_space-MNI152NLin2009cAsym/trial_models'"
      ]
     },
     "execution_count": 38,
     "metadata": {},
     "output_type": "execute_result"
    }
   ],
   "source": [
    "nilearn_sub_dir"
   ]
  },
  {
   "cell_type": "code",
   "execution_count": null,
   "id": "55707e8e",
   "metadata": {
    "scrolled": true,
    "tags": []
   },
   "outputs": [
    {
     "name": "stdout",
     "output_type": "stream",
     "text": [
      "FLT01\n",
      "L-CN\n",
      "# of stat maps:  64\n"
     ]
    },
    {
     "name": "stderr",
     "output_type": "stream",
     "text": [
      "/bgfs/bchandrasekaran/krs228/software/miniconda3/envs/py3/lib/python3.9/site-packages/nilearn/image/image.py:211: UserWarning: The parameter 'fwhm' for smoothing is specified as 0. Setting it to None (no smoothing will be performed)\n",
      "  warnings.warn(\"The parameter 'fwhm' for smoothing is specified \"\n"
     ]
    },
    {
     "name": "stdout",
     "output_type": "stream",
     "text": [
      "Tone SVC accuracy: 0.344 with a standard deviation of 0.10\n",
      "Talker SVC accuracy: 0.266 with a standard deviation of 0.03\n",
      "Permutation test score: 0.244 with a standard deviation of 0.06\n",
      "L-SOC\n",
      "# of stat maps:  64\n"
     ]
    },
    {
     "name": "stderr",
     "output_type": "stream",
     "text": [
      "/bgfs/bchandrasekaran/krs228/software/miniconda3/envs/py3/lib/python3.9/site-packages/nilearn/image/image.py:211: UserWarning: The parameter 'fwhm' for smoothing is specified as 0. Setting it to None (no smoothing will be performed)\n",
      "  warnings.warn(\"The parameter 'fwhm' for smoothing is specified \"\n"
     ]
    },
    {
     "name": "stdout",
     "output_type": "stream",
     "text": [
      "Tone SVC accuracy: 0.281 with a standard deviation of 0.03\n",
      "Talker SVC accuracy: 0.312 with a standard deviation of 0.04\n",
      "Permutation test score: 0.245 with a standard deviation of 0.06\n",
      "L-IC\n",
      "# of stat maps:  64\n"
     ]
    },
    {
     "name": "stderr",
     "output_type": "stream",
     "text": [
      "/bgfs/bchandrasekaran/krs228/software/miniconda3/envs/py3/lib/python3.9/site-packages/nilearn/image/image.py:211: UserWarning: The parameter 'fwhm' for smoothing is specified as 0. Setting it to None (no smoothing will be performed)\n",
      "  warnings.warn(\"The parameter 'fwhm' for smoothing is specified \"\n"
     ]
    },
    {
     "name": "stdout",
     "output_type": "stream",
     "text": [
      "Tone SVC accuracy: 0.156 with a standard deviation of 0.09\n",
      "Talker SVC accuracy: 0.250 with a standard deviation of 0.04\n",
      "Permutation test score: 0.228 with a standard deviation of 0.06\n",
      "L-MGN\n",
      "# of stat maps:  64\n"
     ]
    },
    {
     "name": "stderr",
     "output_type": "stream",
     "text": [
      "/bgfs/bchandrasekaran/krs228/software/miniconda3/envs/py3/lib/python3.9/site-packages/nilearn/image/image.py:211: UserWarning: The parameter 'fwhm' for smoothing is specified as 0. Setting it to None (no smoothing will be performed)\n",
      "  warnings.warn(\"The parameter 'fwhm' for smoothing is specified \"\n"
     ]
    },
    {
     "name": "stdout",
     "output_type": "stream",
     "text": [
      "Tone SVC accuracy: 0.172 with a standard deviation of 0.05\n",
      "Talker SVC accuracy: 0.266 with a standard deviation of 0.07\n",
      "Permutation test score: 0.229 with a standard deviation of 0.06\n",
      "R-CN\n",
      "# of stat maps:  64\n"
     ]
    },
    {
     "name": "stderr",
     "output_type": "stream",
     "text": [
      "/bgfs/bchandrasekaran/krs228/software/miniconda3/envs/py3/lib/python3.9/site-packages/nilearn/image/image.py:211: UserWarning: The parameter 'fwhm' for smoothing is specified as 0. Setting it to None (no smoothing will be performed)\n",
      "  warnings.warn(\"The parameter 'fwhm' for smoothing is specified \"\n"
     ]
    },
    {
     "name": "stdout",
     "output_type": "stream",
     "text": [
      "Tone SVC accuracy: 0.219 with a standard deviation of 0.11\n",
      "Talker SVC accuracy: 0.203 with a standard deviation of 0.08\n",
      "Permutation test score: 0.248 with a standard deviation of 0.06\n",
      "R-SOC\n",
      "# of stat maps:  64\n"
     ]
    },
    {
     "name": "stderr",
     "output_type": "stream",
     "text": [
      "/bgfs/bchandrasekaran/krs228/software/miniconda3/envs/py3/lib/python3.9/site-packages/nilearn/image/image.py:211: UserWarning: The parameter 'fwhm' for smoothing is specified as 0. Setting it to None (no smoothing will be performed)\n",
      "  warnings.warn(\"The parameter 'fwhm' for smoothing is specified \"\n"
     ]
    },
    {
     "name": "stdout",
     "output_type": "stream",
     "text": [
      "Tone SVC accuracy: 0.359 with a standard deviation of 0.16\n",
      "Talker SVC accuracy: 0.234 with a standard deviation of 0.09\n",
      "Permutation test score: 0.240 with a standard deviation of 0.07\n",
      "R-IC\n",
      "# of stat maps:  64\n"
     ]
    },
    {
     "name": "stderr",
     "output_type": "stream",
     "text": [
      "/bgfs/bchandrasekaran/krs228/software/miniconda3/envs/py3/lib/python3.9/site-packages/nilearn/image/image.py:211: UserWarning: The parameter 'fwhm' for smoothing is specified as 0. Setting it to None (no smoothing will be performed)\n",
      "  warnings.warn(\"The parameter 'fwhm' for smoothing is specified \"\n"
     ]
    },
    {
     "name": "stdout",
     "output_type": "stream",
     "text": [
      "Tone SVC accuracy: 0.328 with a standard deviation of 0.15\n",
      "Talker SVC accuracy: 0.188 with a standard deviation of 0.08\n",
      "Permutation test score: 0.237 with a standard deviation of 0.06\n",
      "R-MGN\n",
      "# of stat maps:  64\n"
     ]
    },
    {
     "name": "stderr",
     "output_type": "stream",
     "text": [
      "/bgfs/bchandrasekaran/krs228/software/miniconda3/envs/py3/lib/python3.9/site-packages/nilearn/image/image.py:211: UserWarning: The parameter 'fwhm' for smoothing is specified as 0. Setting it to None (no smoothing will be performed)\n",
      "  warnings.warn(\"The parameter 'fwhm' for smoothing is specified \"\n"
     ]
    },
    {
     "name": "stdout",
     "output_type": "stream",
     "text": [
      "Tone SVC accuracy: 0.344 with a standard deviation of 0.13\n",
      "Talker SVC accuracy: 0.266 with a standard deviation of 0.05\n",
      "Permutation test score: 0.234 with a standard deviation of 0.05\n",
      "FLT03\n",
      "L-CN\n",
      "# of stat maps:  96\n"
     ]
    },
    {
     "name": "stderr",
     "output_type": "stream",
     "text": [
      "/bgfs/bchandrasekaran/krs228/software/miniconda3/envs/py3/lib/python3.9/site-packages/nilearn/image/image.py:211: UserWarning: The parameter 'fwhm' for smoothing is specified as 0. Setting it to None (no smoothing will be performed)\n",
      "  warnings.warn(\"The parameter 'fwhm' for smoothing is specified \"\n"
     ]
    },
    {
     "name": "stdout",
     "output_type": "stream",
     "text": [
      "Tone SVC accuracy: 0.354 with a standard deviation of 0.08\n",
      "Talker SVC accuracy: 0.240 with a standard deviation of 0.02\n",
      "Permutation test score: 0.244 with a standard deviation of 0.04\n",
      "L-SOC\n",
      "# of stat maps:  96\n"
     ]
    },
    {
     "name": "stderr",
     "output_type": "stream",
     "text": [
      "/bgfs/bchandrasekaran/krs228/software/miniconda3/envs/py3/lib/python3.9/site-packages/nilearn/image/image.py:211: UserWarning: The parameter 'fwhm' for smoothing is specified as 0. Setting it to None (no smoothing will be performed)\n",
      "  warnings.warn(\"The parameter 'fwhm' for smoothing is specified \"\n"
     ]
    },
    {
     "name": "stdout",
     "output_type": "stream",
     "text": [
      "Tone SVC accuracy: 0.281 with a standard deviation of 0.07\n",
      "Talker SVC accuracy: 0.281 with a standard deviation of 0.03\n",
      "Permutation test score: 0.246 with a standard deviation of 0.06\n",
      "L-IC\n",
      "# of stat maps:  96\n"
     ]
    },
    {
     "name": "stderr",
     "output_type": "stream",
     "text": [
      "/bgfs/bchandrasekaran/krs228/software/miniconda3/envs/py3/lib/python3.9/site-packages/nilearn/image/image.py:211: UserWarning: The parameter 'fwhm' for smoothing is specified as 0. Setting it to None (no smoothing will be performed)\n",
      "  warnings.warn(\"The parameter 'fwhm' for smoothing is specified \"\n"
     ]
    },
    {
     "name": "stdout",
     "output_type": "stream",
     "text": [
      "Tone SVC accuracy: 0.354 with a standard deviation of 0.05\n",
      "Talker SVC accuracy: 0.187 with a standard deviation of 0.06\n",
      "Permutation test score: 0.220 with a standard deviation of 0.05\n",
      "L-MGN\n",
      "# of stat maps:  96\n"
     ]
    },
    {
     "name": "stderr",
     "output_type": "stream",
     "text": [
      "/bgfs/bchandrasekaran/krs228/software/miniconda3/envs/py3/lib/python3.9/site-packages/nilearn/image/image.py:211: UserWarning: The parameter 'fwhm' for smoothing is specified as 0. Setting it to None (no smoothing will be performed)\n",
      "  warnings.warn(\"The parameter 'fwhm' for smoothing is specified \"\n"
     ]
    },
    {
     "name": "stdout",
     "output_type": "stream",
     "text": [
      "Tone SVC accuracy: 0.344 with a standard deviation of 0.15\n",
      "Talker SVC accuracy: 0.323 with a standard deviation of 0.09\n",
      "Permutation test score: 0.212 with a standard deviation of 0.05\n",
      "R-CN\n",
      "# of stat maps:  96\n"
     ]
    },
    {
     "name": "stderr",
     "output_type": "stream",
     "text": [
      "/bgfs/bchandrasekaran/krs228/software/miniconda3/envs/py3/lib/python3.9/site-packages/nilearn/image/image.py:211: UserWarning: The parameter 'fwhm' for smoothing is specified as 0. Setting it to None (no smoothing will be performed)\n",
      "  warnings.warn(\"The parameter 'fwhm' for smoothing is specified \"\n"
     ]
    },
    {
     "name": "stdout",
     "output_type": "stream",
     "text": [
      "Tone SVC accuracy: 0.458 with a standard deviation of 0.10\n",
      "Talker SVC accuracy: 0.219 with a standard deviation of 0.07\n",
      "Permutation test score: 0.232 with a standard deviation of 0.05\n",
      "R-SOC\n",
      "# of stat maps:  96\n"
     ]
    },
    {
     "name": "stderr",
     "output_type": "stream",
     "text": [
      "/bgfs/bchandrasekaran/krs228/software/miniconda3/envs/py3/lib/python3.9/site-packages/nilearn/image/image.py:211: UserWarning: The parameter 'fwhm' for smoothing is specified as 0. Setting it to None (no smoothing will be performed)\n",
      "  warnings.warn(\"The parameter 'fwhm' for smoothing is specified \"\n"
     ]
    },
    {
     "name": "stdout",
     "output_type": "stream",
     "text": [
      "Tone SVC accuracy: 0.198 with a standard deviation of 0.07\n",
      "Talker SVC accuracy: 0.229 with a standard deviation of 0.04\n",
      "Permutation test score: 0.233 with a standard deviation of 0.05\n",
      "R-IC\n",
      "# of stat maps:  96\n"
     ]
    },
    {
     "name": "stderr",
     "output_type": "stream",
     "text": [
      "/bgfs/bchandrasekaran/krs228/software/miniconda3/envs/py3/lib/python3.9/site-packages/nilearn/image/image.py:211: UserWarning: The parameter 'fwhm' for smoothing is specified as 0. Setting it to None (no smoothing will be performed)\n",
      "  warnings.warn(\"The parameter 'fwhm' for smoothing is specified \"\n"
     ]
    },
    {
     "name": "stdout",
     "output_type": "stream",
     "text": [
      "Tone SVC accuracy: 0.292 with a standard deviation of 0.18\n",
      "Talker SVC accuracy: 0.260 with a standard deviation of 0.05\n",
      "Permutation test score: 0.216 with a standard deviation of 0.05\n",
      "R-MGN\n",
      "# of stat maps:  96\n"
     ]
    },
    {
     "name": "stderr",
     "output_type": "stream",
     "text": [
      "/bgfs/bchandrasekaran/krs228/software/miniconda3/envs/py3/lib/python3.9/site-packages/nilearn/image/image.py:211: UserWarning: The parameter 'fwhm' for smoothing is specified as 0. Setting it to None (no smoothing will be performed)\n",
      "  warnings.warn(\"The parameter 'fwhm' for smoothing is specified \"\n"
     ]
    },
    {
     "name": "stdout",
     "output_type": "stream",
     "text": [
      "Tone SVC accuracy: 0.302 with a standard deviation of 0.10\n",
      "Talker SVC accuracy: 0.219 with a standard deviation of 0.07\n",
      "Permutation test score: 0.230 with a standard deviation of 0.06\n",
      "FLT05\n",
      "L-CN\n",
      "# of stat maps:  96\n"
     ]
    },
    {
     "name": "stderr",
     "output_type": "stream",
     "text": [
      "/bgfs/bchandrasekaran/krs228/software/miniconda3/envs/py3/lib/python3.9/site-packages/nilearn/image/image.py:211: UserWarning: The parameter 'fwhm' for smoothing is specified as 0. Setting it to None (no smoothing will be performed)\n",
      "  warnings.warn(\"The parameter 'fwhm' for smoothing is specified \"\n"
     ]
    },
    {
     "name": "stdout",
     "output_type": "stream",
     "text": [
      "Tone SVC accuracy: 0.240 with a standard deviation of 0.07\n",
      "Talker SVC accuracy: 0.250 with a standard deviation of 0.05\n",
      "Permutation test score: 0.241 with a standard deviation of 0.05\n",
      "L-SOC\n",
      "# of stat maps:  96\n"
     ]
    },
    {
     "name": "stderr",
     "output_type": "stream",
     "text": [
      "/bgfs/bchandrasekaran/krs228/software/miniconda3/envs/py3/lib/python3.9/site-packages/nilearn/image/image.py:211: UserWarning: The parameter 'fwhm' for smoothing is specified as 0. Setting it to None (no smoothing will be performed)\n",
      "  warnings.warn(\"The parameter 'fwhm' for smoothing is specified \"\n"
     ]
    },
    {
     "name": "stdout",
     "output_type": "stream",
     "text": [
      "Tone SVC accuracy: 0.250 with a standard deviation of 0.03\n",
      "Talker SVC accuracy: 0.188 with a standard deviation of 0.05\n",
      "Permutation test score: 0.239 with a standard deviation of 0.05\n",
      "L-IC\n",
      "# of stat maps:  96\n"
     ]
    },
    {
     "name": "stderr",
     "output_type": "stream",
     "text": [
      "/bgfs/bchandrasekaran/krs228/software/miniconda3/envs/py3/lib/python3.9/site-packages/nilearn/image/image.py:211: UserWarning: The parameter 'fwhm' for smoothing is specified as 0. Setting it to None (no smoothing will be performed)\n",
      "  warnings.warn(\"The parameter 'fwhm' for smoothing is specified \"\n"
     ]
    },
    {
     "name": "stdout",
     "output_type": "stream",
     "text": [
      "Tone SVC accuracy: 0.406 with a standard deviation of 0.09\n",
      "Talker SVC accuracy: 0.302 with a standard deviation of 0.05\n",
      "Permutation test score: 0.242 with a standard deviation of 0.05\n",
      "L-MGN\n",
      "# of stat maps:  96\n"
     ]
    },
    {
     "name": "stderr",
     "output_type": "stream",
     "text": [
      "/bgfs/bchandrasekaran/krs228/software/miniconda3/envs/py3/lib/python3.9/site-packages/nilearn/image/image.py:211: UserWarning: The parameter 'fwhm' for smoothing is specified as 0. Setting it to None (no smoothing will be performed)\n",
      "  warnings.warn(\"The parameter 'fwhm' for smoothing is specified \"\n"
     ]
    },
    {
     "name": "stdout",
     "output_type": "stream",
     "text": [
      "Tone SVC accuracy: 0.417 with a standard deviation of 0.10\n",
      "Talker SVC accuracy: 0.229 with a standard deviation of 0.07\n",
      "Permutation test score: 0.217 with a standard deviation of 0.05\n",
      "R-CN\n",
      "# of stat maps:  96\n"
     ]
    },
    {
     "name": "stderr",
     "output_type": "stream",
     "text": [
      "/bgfs/bchandrasekaran/krs228/software/miniconda3/envs/py3/lib/python3.9/site-packages/nilearn/image/image.py:211: UserWarning: The parameter 'fwhm' for smoothing is specified as 0. Setting it to None (no smoothing will be performed)\n",
      "  warnings.warn(\"The parameter 'fwhm' for smoothing is specified \"\n"
     ]
    },
    {
     "name": "stdout",
     "output_type": "stream",
     "text": [
      "Tone SVC accuracy: 0.365 with a standard deviation of 0.08\n",
      "Talker SVC accuracy: 0.281 with a standard deviation of 0.09\n",
      "Permutation test score: 0.228 with a standard deviation of 0.06\n",
      "R-SOC\n",
      "# of stat maps:  96\n"
     ]
    },
    {
     "name": "stderr",
     "output_type": "stream",
     "text": [
      "/bgfs/bchandrasekaran/krs228/software/miniconda3/envs/py3/lib/python3.9/site-packages/nilearn/image/image.py:211: UserWarning: The parameter 'fwhm' for smoothing is specified as 0. Setting it to None (no smoothing will be performed)\n",
      "  warnings.warn(\"The parameter 'fwhm' for smoothing is specified \"\n"
     ]
    },
    {
     "name": "stdout",
     "output_type": "stream",
     "text": [
      "Tone SVC accuracy: 0.281 with a standard deviation of 0.11\n",
      "Talker SVC accuracy: 0.177 with a standard deviation of 0.05\n",
      "Permutation test score: 0.238 with a standard deviation of 0.05\n",
      "R-IC\n",
      "# of stat maps:  96\n"
     ]
    },
    {
     "name": "stderr",
     "output_type": "stream",
     "text": [
      "/bgfs/bchandrasekaran/krs228/software/miniconda3/envs/py3/lib/python3.9/site-packages/nilearn/image/image.py:211: UserWarning: The parameter 'fwhm' for smoothing is specified as 0. Setting it to None (no smoothing will be performed)\n",
      "  warnings.warn(\"The parameter 'fwhm' for smoothing is specified \"\n"
     ]
    },
    {
     "name": "stdout",
     "output_type": "stream",
     "text": [
      "Tone SVC accuracy: 0.354 with a standard deviation of 0.02\n",
      "Talker SVC accuracy: 0.250 with a standard deviation of 0.00\n",
      "Permutation test score: 0.227 with a standard deviation of 0.05\n",
      "R-MGN\n",
      "# of stat maps:  96\n"
     ]
    },
    {
     "name": "stderr",
     "output_type": "stream",
     "text": [
      "/bgfs/bchandrasekaran/krs228/software/miniconda3/envs/py3/lib/python3.9/site-packages/nilearn/image/image.py:211: UserWarning: The parameter 'fwhm' for smoothing is specified as 0. Setting it to None (no smoothing will be performed)\n",
      "  warnings.warn(\"The parameter 'fwhm' for smoothing is specified \"\n"
     ]
    },
    {
     "name": "stdout",
     "output_type": "stream",
     "text": [
      "Tone SVC accuracy: 0.240 with a standard deviation of 0.03\n",
      "Talker SVC accuracy: 0.250 with a standard deviation of 0.08\n",
      "Permutation test score: 0.235 with a standard deviation of 0.05\n",
      "FLT07\n",
      "L-CN\n",
      "# of stat maps:  96\n"
     ]
    },
    {
     "name": "stderr",
     "output_type": "stream",
     "text": [
      "/bgfs/bchandrasekaran/krs228/software/miniconda3/envs/py3/lib/python3.9/site-packages/nilearn/image/image.py:211: UserWarning: The parameter 'fwhm' for smoothing is specified as 0. Setting it to None (no smoothing will be performed)\n",
      "  warnings.warn(\"The parameter 'fwhm' for smoothing is specified \"\n"
     ]
    },
    {
     "name": "stdout",
     "output_type": "stream",
     "text": [
      "Tone SVC accuracy: 0.312 with a standard deviation of 0.07\n",
      "Talker SVC accuracy: 0.229 with a standard deviation of 0.06\n",
      "Permutation test score: 0.239 with a standard deviation of 0.04\n",
      "L-SOC\n",
      "# of stat maps:  96\n"
     ]
    },
    {
     "name": "stderr",
     "output_type": "stream",
     "text": [
      "/bgfs/bchandrasekaran/krs228/software/miniconda3/envs/py3/lib/python3.9/site-packages/nilearn/image/image.py:211: UserWarning: The parameter 'fwhm' for smoothing is specified as 0. Setting it to None (no smoothing will be performed)\n",
      "  warnings.warn(\"The parameter 'fwhm' for smoothing is specified \"\n"
     ]
    },
    {
     "name": "stdout",
     "output_type": "stream",
     "text": [
      "Tone SVC accuracy: 0.323 with a standard deviation of 0.05\n",
      "Talker SVC accuracy: 0.271 with a standard deviation of 0.05\n",
      "Permutation test score: 0.245 with a standard deviation of 0.05\n",
      "L-IC\n",
      "# of stat maps:  96\n"
     ]
    },
    {
     "name": "stderr",
     "output_type": "stream",
     "text": [
      "/bgfs/bchandrasekaran/krs228/software/miniconda3/envs/py3/lib/python3.9/site-packages/nilearn/image/image.py:211: UserWarning: The parameter 'fwhm' for smoothing is specified as 0. Setting it to None (no smoothing will be performed)\n",
      "  warnings.warn(\"The parameter 'fwhm' for smoothing is specified \"\n"
     ]
    },
    {
     "name": "stdout",
     "output_type": "stream",
     "text": [
      "Tone SVC accuracy: 0.354 with a standard deviation of 0.11\n",
      "Talker SVC accuracy: 0.271 with a standard deviation of 0.05\n",
      "Permutation test score: 0.228 with a standard deviation of 0.06\n",
      "L-MGN\n",
      "# of stat maps:  96\n"
     ]
    },
    {
     "name": "stderr",
     "output_type": "stream",
     "text": [
      "/bgfs/bchandrasekaran/krs228/software/miniconda3/envs/py3/lib/python3.9/site-packages/nilearn/image/image.py:211: UserWarning: The parameter 'fwhm' for smoothing is specified as 0. Setting it to None (no smoothing will be performed)\n",
      "  warnings.warn(\"The parameter 'fwhm' for smoothing is specified \"\n"
     ]
    },
    {
     "name": "stdout",
     "output_type": "stream",
     "text": [
      "Tone SVC accuracy: 0.333 with a standard deviation of 0.15\n",
      "Talker SVC accuracy: 0.250 with a standard deviation of 0.05\n",
      "Permutation test score: 0.216 with a standard deviation of 0.05\n",
      "R-CN\n",
      "# of stat maps:  96\n"
     ]
    },
    {
     "name": "stderr",
     "output_type": "stream",
     "text": [
      "/bgfs/bchandrasekaran/krs228/software/miniconda3/envs/py3/lib/python3.9/site-packages/nilearn/image/image.py:211: UserWarning: The parameter 'fwhm' for smoothing is specified as 0. Setting it to None (no smoothing will be performed)\n",
      "  warnings.warn(\"The parameter 'fwhm' for smoothing is specified \"\n"
     ]
    },
    {
     "name": "stdout",
     "output_type": "stream",
     "text": [
      "Tone SVC accuracy: 0.313 with a standard deviation of 0.06\n",
      "Talker SVC accuracy: 0.333 with a standard deviation of 0.06\n",
      "Permutation test score: 0.233 with a standard deviation of 0.05\n",
      "R-SOC\n",
      "# of stat maps:  96\n"
     ]
    },
    {
     "name": "stderr",
     "output_type": "stream",
     "text": [
      "/bgfs/bchandrasekaran/krs228/software/miniconda3/envs/py3/lib/python3.9/site-packages/nilearn/image/image.py:211: UserWarning: The parameter 'fwhm' for smoothing is specified as 0. Setting it to None (no smoothing will be performed)\n",
      "  warnings.warn(\"The parameter 'fwhm' for smoothing is specified \"\n"
     ]
    },
    {
     "name": "stdout",
     "output_type": "stream",
     "text": [
      "Tone SVC accuracy: 0.385 with a standard deviation of 0.14\n",
      "Talker SVC accuracy: 0.208 with a standard deviation of 0.05\n",
      "Permutation test score: 0.231 with a standard deviation of 0.05\n",
      "R-IC\n",
      "# of stat maps:  96\n"
     ]
    },
    {
     "name": "stderr",
     "output_type": "stream",
     "text": [
      "/bgfs/bchandrasekaran/krs228/software/miniconda3/envs/py3/lib/python3.9/site-packages/nilearn/image/image.py:211: UserWarning: The parameter 'fwhm' for smoothing is specified as 0. Setting it to None (no smoothing will be performed)\n",
      "  warnings.warn(\"The parameter 'fwhm' for smoothing is specified \"\n"
     ]
    },
    {
     "name": "stdout",
     "output_type": "stream",
     "text": [
      "Tone SVC accuracy: 0.354 with a standard deviation of 0.10\n",
      "Talker SVC accuracy: 0.354 with a standard deviation of 0.07\n",
      "Permutation test score: 0.223 with a standard deviation of 0.06\n",
      "R-MGN\n",
      "# of stat maps:  96\n"
     ]
    },
    {
     "name": "stderr",
     "output_type": "stream",
     "text": [
      "/bgfs/bchandrasekaran/krs228/software/miniconda3/envs/py3/lib/python3.9/site-packages/nilearn/image/image.py:211: UserWarning: The parameter 'fwhm' for smoothing is specified as 0. Setting it to None (no smoothing will be performed)\n",
      "  warnings.warn(\"The parameter 'fwhm' for smoothing is specified \"\n"
     ]
    },
    {
     "name": "stdout",
     "output_type": "stream",
     "text": [
      "Tone SVC accuracy: 0.427 with a standard deviation of 0.11\n",
      "Talker SVC accuracy: 0.312 with a standard deviation of 0.02\n",
      "Permutation test score: 0.218 with a standard deviation of 0.05\n",
      "FLT08\n",
      "L-CN\n",
      "# of stat maps:  96\n"
     ]
    },
    {
     "name": "stderr",
     "output_type": "stream",
     "text": [
      "/bgfs/bchandrasekaran/krs228/software/miniconda3/envs/py3/lib/python3.9/site-packages/nilearn/image/image.py:211: UserWarning: The parameter 'fwhm' for smoothing is specified as 0. Setting it to None (no smoothing will be performed)\n",
      "  warnings.warn(\"The parameter 'fwhm' for smoothing is specified \"\n"
     ]
    },
    {
     "name": "stdout",
     "output_type": "stream",
     "text": [
      "Tone SVC accuracy: 0.385 with a standard deviation of 0.12\n",
      "Talker SVC accuracy: 0.281 with a standard deviation of 0.03\n",
      "Permutation test score: 0.238 with a standard deviation of 0.06\n",
      "L-SOC\n",
      "# of stat maps:  96\n"
     ]
    },
    {
     "name": "stderr",
     "output_type": "stream",
     "text": [
      "/bgfs/bchandrasekaran/krs228/software/miniconda3/envs/py3/lib/python3.9/site-packages/nilearn/image/image.py:211: UserWarning: The parameter 'fwhm' for smoothing is specified as 0. Setting it to None (no smoothing will be performed)\n",
      "  warnings.warn(\"The parameter 'fwhm' for smoothing is specified \"\n"
     ]
    },
    {
     "name": "stdout",
     "output_type": "stream",
     "text": [
      "Tone SVC accuracy: 0.312 with a standard deviation of 0.06\n",
      "Talker SVC accuracy: 0.260 with a standard deviation of 0.05\n",
      "Permutation test score: 0.257 with a standard deviation of 0.05\n",
      "L-IC\n",
      "# of stat maps:  96\n"
     ]
    },
    {
     "name": "stderr",
     "output_type": "stream",
     "text": [
      "/bgfs/bchandrasekaran/krs228/software/miniconda3/envs/py3/lib/python3.9/site-packages/nilearn/image/image.py:211: UserWarning: The parameter 'fwhm' for smoothing is specified as 0. Setting it to None (no smoothing will be performed)\n",
      "  warnings.warn(\"The parameter 'fwhm' for smoothing is specified \"\n"
     ]
    },
    {
     "name": "stdout",
     "output_type": "stream",
     "text": [
      "Tone SVC accuracy: 0.375 with a standard deviation of 0.07\n",
      "Talker SVC accuracy: 0.229 with a standard deviation of 0.06\n",
      "Permutation test score: 0.229 with a standard deviation of 0.04\n",
      "L-MGN\n",
      "# of stat maps:  96\n"
     ]
    },
    {
     "name": "stderr",
     "output_type": "stream",
     "text": [
      "/bgfs/bchandrasekaran/krs228/software/miniconda3/envs/py3/lib/python3.9/site-packages/nilearn/image/image.py:211: UserWarning: The parameter 'fwhm' for smoothing is specified as 0. Setting it to None (no smoothing will be performed)\n",
      "  warnings.warn(\"The parameter 'fwhm' for smoothing is specified \"\n"
     ]
    },
    {
     "name": "stdout",
     "output_type": "stream",
     "text": [
      "Tone SVC accuracy: 0.438 with a standard deviation of 0.06\n",
      "Talker SVC accuracy: 0.292 with a standard deviation of 0.04\n",
      "Permutation test score: 0.241 with a standard deviation of 0.05\n",
      "R-CN\n",
      "# of stat maps:  96\n"
     ]
    },
    {
     "name": "stderr",
     "output_type": "stream",
     "text": [
      "/bgfs/bchandrasekaran/krs228/software/miniconda3/envs/py3/lib/python3.9/site-packages/nilearn/image/image.py:211: UserWarning: The parameter 'fwhm' for smoothing is specified as 0. Setting it to None (no smoothing will be performed)\n",
      "  warnings.warn(\"The parameter 'fwhm' for smoothing is specified \"\n"
     ]
    },
    {
     "name": "stdout",
     "output_type": "stream",
     "text": [
      "Tone SVC accuracy: 0.219 with a standard deviation of 0.12\n",
      "Talker SVC accuracy: 0.260 with a standard deviation of 0.05\n",
      "Permutation test score: 0.241 with a standard deviation of 0.05\n",
      "R-SOC\n",
      "# of stat maps:  96\n"
     ]
    },
    {
     "name": "stderr",
     "output_type": "stream",
     "text": [
      "/bgfs/bchandrasekaran/krs228/software/miniconda3/envs/py3/lib/python3.9/site-packages/nilearn/image/image.py:211: UserWarning: The parameter 'fwhm' for smoothing is specified as 0. Setting it to None (no smoothing will be performed)\n",
      "  warnings.warn(\"The parameter 'fwhm' for smoothing is specified \"\n"
     ]
    },
    {
     "name": "stdout",
     "output_type": "stream",
     "text": [
      "Tone SVC accuracy: 0.146 with a standard deviation of 0.05\n",
      "Talker SVC accuracy: 0.302 with a standard deviation of 0.05\n",
      "Permutation test score: 0.242 with a standard deviation of 0.05\n",
      "R-IC\n",
      "# of stat maps:  96\n"
     ]
    },
    {
     "name": "stderr",
     "output_type": "stream",
     "text": [
      "/bgfs/bchandrasekaran/krs228/software/miniconda3/envs/py3/lib/python3.9/site-packages/nilearn/image/image.py:211: UserWarning: The parameter 'fwhm' for smoothing is specified as 0. Setting it to None (no smoothing will be performed)\n",
      "  warnings.warn(\"The parameter 'fwhm' for smoothing is specified \"\n"
     ]
    },
    {
     "name": "stdout",
     "output_type": "stream",
     "text": [
      "Tone SVC accuracy: 0.354 with a standard deviation of 0.05\n",
      "Talker SVC accuracy: 0.260 with a standard deviation of 0.03\n",
      "Permutation test score: 0.226 with a standard deviation of 0.04\n",
      "R-MGN\n",
      "# of stat maps:  96\n"
     ]
    },
    {
     "name": "stderr",
     "output_type": "stream",
     "text": [
      "/bgfs/bchandrasekaran/krs228/software/miniconda3/envs/py3/lib/python3.9/site-packages/nilearn/image/image.py:211: UserWarning: The parameter 'fwhm' for smoothing is specified as 0. Setting it to None (no smoothing will be performed)\n",
      "  warnings.warn(\"The parameter 'fwhm' for smoothing is specified \"\n"
     ]
    },
    {
     "name": "stdout",
     "output_type": "stream",
     "text": [
      "Tone SVC accuracy: 0.323 with a standard deviation of 0.14\n",
      "Talker SVC accuracy: 0.219 with a standard deviation of 0.06\n",
      "Permutation test score: 0.226 with a standard deviation of 0.05\n",
      "FLT10\n",
      "L-CN\n",
      "# of stat maps:  96\n"
     ]
    },
    {
     "name": "stderr",
     "output_type": "stream",
     "text": [
      "/bgfs/bchandrasekaran/krs228/software/miniconda3/envs/py3/lib/python3.9/site-packages/nilearn/image/image.py:211: UserWarning: The parameter 'fwhm' for smoothing is specified as 0. Setting it to None (no smoothing will be performed)\n",
      "  warnings.warn(\"The parameter 'fwhm' for smoothing is specified \"\n"
     ]
    },
    {
     "name": "stdout",
     "output_type": "stream",
     "text": [
      "Tone SVC accuracy: 0.281 with a standard deviation of 0.16\n",
      "Talker SVC accuracy: 0.260 with a standard deviation of 0.05\n",
      "Permutation test score: 0.227 with a standard deviation of 0.05\n",
      "L-SOC\n",
      "# of stat maps:  96\n"
     ]
    },
    {
     "name": "stderr",
     "output_type": "stream",
     "text": [
      "/bgfs/bchandrasekaran/krs228/software/miniconda3/envs/py3/lib/python3.9/site-packages/nilearn/image/image.py:211: UserWarning: The parameter 'fwhm' for smoothing is specified as 0. Setting it to None (no smoothing will be performed)\n",
      "  warnings.warn(\"The parameter 'fwhm' for smoothing is specified \"\n"
     ]
    },
    {
     "name": "stdout",
     "output_type": "stream",
     "text": [
      "Tone SVC accuracy: 0.208 with a standard deviation of 0.05\n",
      "Talker SVC accuracy: 0.250 with a standard deviation of 0.05\n",
      "Permutation test score: 0.243 with a standard deviation of 0.05\n",
      "L-IC\n",
      "# of stat maps:  96\n"
     ]
    },
    {
     "name": "stderr",
     "output_type": "stream",
     "text": [
      "/bgfs/bchandrasekaran/krs228/software/miniconda3/envs/py3/lib/python3.9/site-packages/nilearn/image/image.py:211: UserWarning: The parameter 'fwhm' for smoothing is specified as 0. Setting it to None (no smoothing will be performed)\n",
      "  warnings.warn(\"The parameter 'fwhm' for smoothing is specified \"\n"
     ]
    },
    {
     "name": "stdout",
     "output_type": "stream",
     "text": [
      "Tone SVC accuracy: 0.260 with a standard deviation of 0.05\n",
      "Talker SVC accuracy: 0.188 with a standard deviation of 0.02\n",
      "Permutation test score: 0.235 with a standard deviation of 0.04\n",
      "L-MGN\n",
      "# of stat maps:  96\n"
     ]
    },
    {
     "name": "stderr",
     "output_type": "stream",
     "text": [
      "/bgfs/bchandrasekaran/krs228/software/miniconda3/envs/py3/lib/python3.9/site-packages/nilearn/image/image.py:211: UserWarning: The parameter 'fwhm' for smoothing is specified as 0. Setting it to None (no smoothing will be performed)\n",
      "  warnings.warn(\"The parameter 'fwhm' for smoothing is specified \"\n"
     ]
    },
    {
     "name": "stdout",
     "output_type": "stream",
     "text": [
      "Tone SVC accuracy: 0.396 with a standard deviation of 0.06\n",
      "Talker SVC accuracy: 0.260 with a standard deviation of 0.09\n",
      "Permutation test score: 0.219 with a standard deviation of 0.04\n",
      "R-CN\n",
      "# of stat maps:  96\n"
     ]
    },
    {
     "name": "stderr",
     "output_type": "stream",
     "text": [
      "/bgfs/bchandrasekaran/krs228/software/miniconda3/envs/py3/lib/python3.9/site-packages/nilearn/image/image.py:211: UserWarning: The parameter 'fwhm' for smoothing is specified as 0. Setting it to None (no smoothing will be performed)\n",
      "  warnings.warn(\"The parameter 'fwhm' for smoothing is specified \"\n"
     ]
    },
    {
     "name": "stdout",
     "output_type": "stream",
     "text": [
      "Tone SVC accuracy: 0.198 with a standard deviation of 0.06\n",
      "Talker SVC accuracy: 0.219 with a standard deviation of 0.03\n",
      "Permutation test score: 0.240 with a standard deviation of 0.05\n",
      "R-SOC\n",
      "# of stat maps:  96\n"
     ]
    },
    {
     "name": "stderr",
     "output_type": "stream",
     "text": [
      "/bgfs/bchandrasekaran/krs228/software/miniconda3/envs/py3/lib/python3.9/site-packages/nilearn/image/image.py:211: UserWarning: The parameter 'fwhm' for smoothing is specified as 0. Setting it to None (no smoothing will be performed)\n",
      "  warnings.warn(\"The parameter 'fwhm' for smoothing is specified \"\n"
     ]
    },
    {
     "name": "stdout",
     "output_type": "stream",
     "text": [
      "Tone SVC accuracy: 0.281 with a standard deviation of 0.07\n",
      "Talker SVC accuracy: 0.302 with a standard deviation of 0.05\n",
      "Permutation test score: 0.242 with a standard deviation of 0.05\n",
      "R-IC\n",
      "# of stat maps:  96\n"
     ]
    },
    {
     "name": "stderr",
     "output_type": "stream",
     "text": [
      "/bgfs/bchandrasekaran/krs228/software/miniconda3/envs/py3/lib/python3.9/site-packages/nilearn/image/image.py:211: UserWarning: The parameter 'fwhm' for smoothing is specified as 0. Setting it to None (no smoothing will be performed)\n",
      "  warnings.warn(\"The parameter 'fwhm' for smoothing is specified \"\n"
     ]
    },
    {
     "name": "stdout",
     "output_type": "stream",
     "text": [
      "Tone SVC accuracy: 0.385 with a standard deviation of 0.10\n",
      "Talker SVC accuracy: 0.260 with a standard deviation of 0.03\n",
      "Permutation test score: 0.224 with a standard deviation of 0.05\n",
      "R-MGN\n",
      "# of stat maps:  96\n"
     ]
    },
    {
     "name": "stderr",
     "output_type": "stream",
     "text": [
      "/bgfs/bchandrasekaran/krs228/software/miniconda3/envs/py3/lib/python3.9/site-packages/nilearn/image/image.py:211: UserWarning: The parameter 'fwhm' for smoothing is specified as 0. Setting it to None (no smoothing will be performed)\n",
      "  warnings.warn(\"The parameter 'fwhm' for smoothing is specified \"\n"
     ]
    },
    {
     "name": "stdout",
     "output_type": "stream",
     "text": [
      "Tone SVC accuracy: 0.271 with a standard deviation of 0.14\n",
      "Talker SVC accuracy: 0.302 with a standard deviation of 0.05\n",
      "Permutation test score: 0.249 with a standard deviation of 0.04\n",
      "FLT02\n",
      "L-CN\n",
      "# of stat maps:  96\n"
     ]
    },
    {
     "name": "stderr",
     "output_type": "stream",
     "text": [
      "/bgfs/bchandrasekaran/krs228/software/miniconda3/envs/py3/lib/python3.9/site-packages/nilearn/image/image.py:211: UserWarning: The parameter 'fwhm' for smoothing is specified as 0. Setting it to None (no smoothing will be performed)\n",
      "  warnings.warn(\"The parameter 'fwhm' for smoothing is specified \"\n"
     ]
    },
    {
     "name": "stdout",
     "output_type": "stream",
     "text": [
      "Tone SVC accuracy: 0.281 with a standard deviation of 0.02\n",
      "Talker SVC accuracy: 0.198 with a standard deviation of 0.03\n",
      "Permutation test score: 0.243 with a standard deviation of 0.05\n",
      "L-SOC\n",
      "# of stat maps:  96\n"
     ]
    },
    {
     "name": "stderr",
     "output_type": "stream",
     "text": [
      "/bgfs/bchandrasekaran/krs228/software/miniconda3/envs/py3/lib/python3.9/site-packages/nilearn/image/image.py:211: UserWarning: The parameter 'fwhm' for smoothing is specified as 0. Setting it to None (no smoothing will be performed)\n",
      "  warnings.warn(\"The parameter 'fwhm' for smoothing is specified \"\n"
     ]
    },
    {
     "name": "stdout",
     "output_type": "stream",
     "text": [
      "Tone SVC accuracy: 0.354 with a standard deviation of 0.06\n",
      "Talker SVC accuracy: 0.260 with a standard deviation of 0.06\n",
      "Permutation test score: 0.235 with a standard deviation of 0.05\n",
      "L-IC\n",
      "# of stat maps:  96\n"
     ]
    },
    {
     "name": "stderr",
     "output_type": "stream",
     "text": [
      "/bgfs/bchandrasekaran/krs228/software/miniconda3/envs/py3/lib/python3.9/site-packages/nilearn/image/image.py:211: UserWarning: The parameter 'fwhm' for smoothing is specified as 0. Setting it to None (no smoothing will be performed)\n",
      "  warnings.warn(\"The parameter 'fwhm' for smoothing is specified \"\n"
     ]
    },
    {
     "name": "stdout",
     "output_type": "stream",
     "text": [
      "Tone SVC accuracy: 0.396 with a standard deviation of 0.10\n",
      "Talker SVC accuracy: 0.198 with a standard deviation of 0.05\n",
      "Permutation test score: 0.233 with a standard deviation of 0.05\n",
      "L-MGN\n",
      "# of stat maps:  96\n"
     ]
    },
    {
     "name": "stderr",
     "output_type": "stream",
     "text": [
      "/bgfs/bchandrasekaran/krs228/software/miniconda3/envs/py3/lib/python3.9/site-packages/nilearn/image/image.py:211: UserWarning: The parameter 'fwhm' for smoothing is specified as 0. Setting it to None (no smoothing will be performed)\n",
      "  warnings.warn(\"The parameter 'fwhm' for smoothing is specified \"\n"
     ]
    },
    {
     "name": "stdout",
     "output_type": "stream",
     "text": [
      "Tone SVC accuracy: 0.323 with a standard deviation of 0.08\n",
      "Talker SVC accuracy: 0.219 with a standard deviation of 0.02\n",
      "Permutation test score: 0.228 with a standard deviation of 0.05\n",
      "R-CN\n",
      "# of stat maps:  96\n"
     ]
    },
    {
     "name": "stderr",
     "output_type": "stream",
     "text": [
      "/bgfs/bchandrasekaran/krs228/software/miniconda3/envs/py3/lib/python3.9/site-packages/nilearn/image/image.py:211: UserWarning: The parameter 'fwhm' for smoothing is specified as 0. Setting it to None (no smoothing will be performed)\n",
      "  warnings.warn(\"The parameter 'fwhm' for smoothing is specified \"\n"
     ]
    },
    {
     "name": "stdout",
     "output_type": "stream",
     "text": [
      "Tone SVC accuracy: 0.219 with a standard deviation of 0.02\n",
      "Talker SVC accuracy: 0.219 with a standard deviation of 0.02\n",
      "Permutation test score: 0.249 with a standard deviation of 0.05\n",
      "R-SOC\n",
      "# of stat maps:  96\n"
     ]
    },
    {
     "name": "stderr",
     "output_type": "stream",
     "text": [
      "/bgfs/bchandrasekaran/krs228/software/miniconda3/envs/py3/lib/python3.9/site-packages/nilearn/image/image.py:211: UserWarning: The parameter 'fwhm' for smoothing is specified as 0. Setting it to None (no smoothing will be performed)\n",
      "  warnings.warn(\"The parameter 'fwhm' for smoothing is specified \"\n"
     ]
    },
    {
     "name": "stdout",
     "output_type": "stream",
     "text": [
      "Tone SVC accuracy: 0.406 with a standard deviation of 0.09\n",
      "Talker SVC accuracy: 0.260 with a standard deviation of 0.05\n",
      "Permutation test score: 0.247 with a standard deviation of 0.05\n",
      "R-IC\n",
      "# of stat maps:  96\n"
     ]
    },
    {
     "name": "stderr",
     "output_type": "stream",
     "text": [
      "/bgfs/bchandrasekaran/krs228/software/miniconda3/envs/py3/lib/python3.9/site-packages/nilearn/image/image.py:211: UserWarning: The parameter 'fwhm' for smoothing is specified as 0. Setting it to None (no smoothing will be performed)\n",
      "  warnings.warn(\"The parameter 'fwhm' for smoothing is specified \"\n"
     ]
    },
    {
     "name": "stdout",
     "output_type": "stream",
     "text": [
      "Tone SVC accuracy: 0.323 with a standard deviation of 0.09\n",
      "Talker SVC accuracy: 0.219 with a standard deviation of 0.07\n",
      "Permutation test score: 0.234 with a standard deviation of 0.05\n",
      "R-MGN\n",
      "# of stat maps:  96\n"
     ]
    },
    {
     "name": "stderr",
     "output_type": "stream",
     "text": [
      "/bgfs/bchandrasekaran/krs228/software/miniconda3/envs/py3/lib/python3.9/site-packages/nilearn/image/image.py:211: UserWarning: The parameter 'fwhm' for smoothing is specified as 0. Setting it to None (no smoothing will be performed)\n",
      "  warnings.warn(\"The parameter 'fwhm' for smoothing is specified \"\n"
     ]
    },
    {
     "name": "stdout",
     "output_type": "stream",
     "text": [
      "Tone SVC accuracy: 0.219 with a standard deviation of 0.09\n",
      "Talker SVC accuracy: 0.229 with a standard deviation of 0.07\n",
      "Permutation test score: 0.221 with a standard deviation of 0.05\n",
      "FLT04\n",
      "L-CN\n",
      "# of stat maps:  96\n"
     ]
    },
    {
     "name": "stderr",
     "output_type": "stream",
     "text": [
      "/bgfs/bchandrasekaran/krs228/software/miniconda3/envs/py3/lib/python3.9/site-packages/nilearn/image/image.py:211: UserWarning: The parameter 'fwhm' for smoothing is specified as 0. Setting it to None (no smoothing will be performed)\n",
      "  warnings.warn(\"The parameter 'fwhm' for smoothing is specified \"\n"
     ]
    },
    {
     "name": "stdout",
     "output_type": "stream",
     "text": [
      "Tone SVC accuracy: 0.250 with a standard deviation of 0.07\n",
      "Talker SVC accuracy: 0.302 with a standard deviation of 0.08\n",
      "Permutation test score: 0.244 with a standard deviation of 0.06\n",
      "L-SOC\n",
      "# of stat maps:  96\n"
     ]
    },
    {
     "name": "stderr",
     "output_type": "stream",
     "text": [
      "/bgfs/bchandrasekaran/krs228/software/miniconda3/envs/py3/lib/python3.9/site-packages/nilearn/image/image.py:211: UserWarning: The parameter 'fwhm' for smoothing is specified as 0. Setting it to None (no smoothing will be performed)\n",
      "  warnings.warn(\"The parameter 'fwhm' for smoothing is specified \"\n"
     ]
    },
    {
     "name": "stdout",
     "output_type": "stream",
     "text": [
      "Tone SVC accuracy: 0.365 with a standard deviation of 0.05\n",
      "Talker SVC accuracy: 0.333 with a standard deviation of 0.09\n",
      "Permutation test score: 0.243 with a standard deviation of 0.05\n",
      "L-IC\n",
      "# of stat maps:  96\n"
     ]
    },
    {
     "name": "stderr",
     "output_type": "stream",
     "text": [
      "/bgfs/bchandrasekaran/krs228/software/miniconda3/envs/py3/lib/python3.9/site-packages/nilearn/image/image.py:211: UserWarning: The parameter 'fwhm' for smoothing is specified as 0. Setting it to None (no smoothing will be performed)\n",
      "  warnings.warn(\"The parameter 'fwhm' for smoothing is specified \"\n"
     ]
    },
    {
     "name": "stdout",
     "output_type": "stream",
     "text": [
      "Tone SVC accuracy: 0.271 with a standard deviation of 0.06\n",
      "Talker SVC accuracy: 0.240 with a standard deviation of 0.05\n",
      "Permutation test score: 0.233 with a standard deviation of 0.06\n",
      "L-MGN\n",
      "# of stat maps:  96\n"
     ]
    }
   ],
   "source": [
    "cv_list_tone = []\n",
    "cv_list_talker = []\n",
    "cv_list_null = []\n",
    "for sub_id in sub_list:\n",
    "    print(sub_id)\n",
    "    sub_tone = []\n",
    "    sub_talker = []\n",
    "    sub_null = []\n",
    "    \n",
    "    for mask_descrip in roi_list:\n",
    "        # define the mask for the region of interest\n",
    "        print(mask_descrip)\n",
    "        masks_dir = os.path.join(nilearn_dir, 'masks', 'sub-%s'%sub_id, 'space-%s'%space_label, 'masks-subcort-aud', ) # 'masks-aparc'\n",
    "        mask_fpath = os.path.join(masks_dir, 'sub-%s_space-%s_mask-%s.nii.gz'%(sub_id, space_label, mask_descrip))\n",
    "        #mask_img = nib.load(mask_fpath)\n",
    "\n",
    "        '''\n",
    "        t1w_fpath = os.path.join(fmriprep_dir, 'sub-%s'%sub_id, 'anat', \n",
    "                                 'sub-%s_desc-preproc_T1w.nii.gz'%sub_id)\n",
    "        print('T1w file path: ', t1w_fpath)\n",
    "        brainmask_fpath = os.path.join(fmriprep_dir, 'sub-%s'%sub_id, 'anat', \n",
    "                                 'sub-%s_desc-brain_mask.nii.gz'%sub_id)\n",
    "        print('brain mask file path: ', brainmask_fpath)\n",
    "        '''\n",
    "        nilearn_sub_dir = os.path.join(bidsroot, 'derivatives', 'nilearn', \n",
    "                                       'level-1_fwhm-%.02f'%fwhm_sub, \n",
    "                                       'sub-%s_space-%s'%(sub_id, space_label),\n",
    "                                       'trial_models')\n",
    "\n",
    "        stat_maps = sorted(glob(nilearn_sub_dir+'/run*/*di*nii.gz')) # run-specific stimulus beta maps\n",
    "        #stat_maps = sorted(glob(nilearn_sub_dir+'/trial_models'+'/run*/*di*trial*nii.gz')) # run-specific trial beta maps\n",
    "        #stat_maps = sorted(glob(nilearn_sub_dir+'/run-all/*di*beta.nii.gz')) # run-all\n",
    "        print('# of stat maps: ', len(stat_maps))    \n",
    "\n",
    "        fmri_masked, tone_cv_scores, \\\n",
    "            talker_cv_scores, null_cv_scores = sub_region_svc(sub_id, mask_fpath, stat_maps, cv, \n",
    "                                                              fwhm=fwhm_sub, space_label=space_label)\n",
    "        sub_tone.append(tone_cv_scores)\n",
    "        sub_talker.append(talker_cv_scores)\n",
    "        sub_null.append(null_cv_scores)\n",
    "    \n",
    "    # append subject cv scores to overall list\n",
    "    cv_list_tone.append(sub_tone)\n",
    "    cv_list_talker.append(sub_talker)\n",
    "    cv_list_null.append(sub_null)"
   ]
  },
  {
   "cell_type": "code",
   "execution_count": 26,
   "id": "9c23a704-a80d-41b8-80f7-3a06651b0029",
   "metadata": {},
   "outputs": [],
   "source": [
    "'''\n",
    "np.save('cv_list_tone', cv_list_tone)\n",
    "np.save('cv_list_talker', cv_list_talker)\n",
    "np.save('cv_list_null', cv_list_null)\n",
    "np.save('sub_list', sub_list)\n",
    "np.save('roi_list', roi_list)\n",
    "'''"
   ]
  },
  {
   "cell_type": "code",
   "execution_count": 28,
   "id": "376c20e6-5c98-46f6-ad4b-13fbfaf74580",
   "metadata": {},
   "outputs": [],
   "source": [
    "import pandas as pd"
   ]
  },
  {
   "cell_type": "code",
   "execution_count": 30,
   "id": "a4e62df3-2543-468e-a168-affe71fddfd6",
   "metadata": {
    "scrolled": true,
    "tags": []
   },
   "outputs": [
    {
     "data": {
      "text/html": [
       "<div>\n",
       "<style scoped>\n",
       "    .dataframe tbody tr th:only-of-type {\n",
       "        vertical-align: middle;\n",
       "    }\n",
       "\n",
       "    .dataframe tbody tr th {\n",
       "        vertical-align: top;\n",
       "    }\n",
       "\n",
       "    .dataframe thead th {\n",
       "        text-align: right;\n",
       "    }\n",
       "</style>\n",
       "<table border=\"1\" class=\"dataframe\">\n",
       "  <thead>\n",
       "    <tr style=\"text-align: right;\">\n",
       "      <th></th>\n",
       "      <th>0</th>\n",
       "      <th>1</th>\n",
       "      <th>2</th>\n",
       "      <th>3</th>\n",
       "      <th>4</th>\n",
       "      <th>5</th>\n",
       "      <th>6</th>\n",
       "      <th>7</th>\n",
       "      <th>8</th>\n",
       "      <th>9</th>\n",
       "      <th>10</th>\n",
       "      <th>11</th>\n",
       "    </tr>\n",
       "  </thead>\n",
       "  <tbody>\n",
       "    <tr>\n",
       "      <th>0</th>\n",
       "      <td>[0.25, 0.1875, 0.25, 0.375]</td>\n",
       "      <td>[0.125, 0.1875, 0.25, 0.375]</td>\n",
       "      <td>[0.25, 0.25, 0.25, 0.375]</td>\n",
       "      <td>[0.3125, 0.5, 0.25, 0.375]</td>\n",
       "      <td>[0.3125, 0.375, 0.25, 0.3125]</td>\n",
       "      <td>[0.25, 0.375, 0.1875, 0.5625]</td>\n",
       "      <td>[0.1875, 0.25, 0.25, 0.0]</td>\n",
       "      <td>[0.25, 0.0625, 0.25, 0.3125]</td>\n",
       "      <td>[0.25, 0.1875, 0.4375, 0.1875]</td>\n",
       "      <td>[0.25, 0.375, 0.25, 0.1875]</td>\n",
       "      <td>[0.125, 0.375, 0.0625, 0.125]</td>\n",
       "      <td>[0.25, 0.1875, 0.3125, 0.5]</td>\n",
       "    </tr>\n",
       "    <tr>\n",
       "      <th>1</th>\n",
       "      <td>[0.4583333333333333, 0.375, 0.5, 0.625]</td>\n",
       "      <td>[0.5, 0.5416666666666666, 0.5, 0.5833333333333...</td>\n",
       "      <td>[0.625, 0.4583333333333333, 0.5416666666666666...</td>\n",
       "      <td>[0.5, 0.4166666666666667, 0.4583333333333333, ...</td>\n",
       "      <td>[0.5833333333333334, 0.4583333333333333, 0.541...</td>\n",
       "      <td>[0.5, 0.4583333333333333, 0.4166666666666667, ...</td>\n",
       "      <td>[0.4166666666666667, 0.4166666666666667, 0.375...</td>\n",
       "      <td>[0.5, 0.4583333333333333, 0.625, 0.45833333333...</td>\n",
       "      <td>[0.6666666666666666, 0.4166666666666667, 0.666...</td>\n",
       "      <td>[0.5416666666666666, 0.5, 0.4583333333333333, ...</td>\n",
       "      <td>[0.5, 0.6666666666666666, 0.4166666666666667, ...</td>\n",
       "      <td>[0.5, 0.5833333333333334, 0.4583333333333333, ...</td>\n",
       "    </tr>\n",
       "    <tr>\n",
       "      <th>2</th>\n",
       "      <td>[0.4166666666666667, 0.5833333333333334, 0.541...</td>\n",
       "      <td>[0.375, 0.3333333333333333, 0.5416666666666666...</td>\n",
       "      <td>[0.4583333333333333, 0.5833333333333334, 0.5, ...</td>\n",
       "      <td>[0.5, 0.6666666666666666, 0.5416666666666666, ...</td>\n",
       "      <td>[0.5, 0.5416666666666666, 0.5416666666666666, ...</td>\n",
       "      <td>[0.4583333333333333, 0.5833333333333334, 0.5, ...</td>\n",
       "      <td>[0.4583333333333333, 0.6666666666666666, 0.541...</td>\n",
       "      <td>[0.4583333333333333, 0.5416666666666666, 0.666...</td>\n",
       "      <td>[0.4166666666666667, 0.3333333333333333, 0.541...</td>\n",
       "      <td>[0.375, 0.5833333333333334, 0.4583333333333333...</td>\n",
       "      <td>[0.4583333333333333, 0.4583333333333333, 0.458...</td>\n",
       "      <td>[0.4583333333333333, 0.4583333333333333, 0.541...</td>\n",
       "    </tr>\n",
       "    <tr>\n",
       "      <th>3</th>\n",
       "      <td>[0.375, 0.375, 0.7083333333333334, 0.333333333...</td>\n",
       "      <td>[0.4583333333333333, 0.4583333333333333, 0.583...</td>\n",
       "      <td>[0.20833333333333334, 0.4583333333333333, 0.5,...</td>\n",
       "      <td>[0.5416666666666666, 0.625, 0.4166666666666667...</td>\n",
       "      <td>[0.4166666666666667, 0.4583333333333333, 0.5, ...</td>\n",
       "      <td>[0.375, 0.5, 0.5416666666666666, 0.5]</td>\n",
       "      <td>[0.625, 0.4166666666666667, 0.6666666666666666...</td>\n",
       "      <td>[0.375, 0.375, 0.375, 0.4166666666666667]</td>\n",
       "      <td>[0.2916666666666667, 0.3333333333333333, 0.5, ...</td>\n",
       "      <td>[0.2916666666666667, 0.4583333333333333, 0.5, ...</td>\n",
       "      <td>[0.4583333333333333, 0.5, 0.5416666666666666, ...</td>\n",
       "      <td>[0.375, 0.4583333333333333, 0.625, 0.375]</td>\n",
       "    </tr>\n",
       "    <tr>\n",
       "      <th>4</th>\n",
       "      <td>[0.3333333333333333, 0.3333333333333333, 0.5, ...</td>\n",
       "      <td>[0.375, 0.375, 0.375, 0.4166666666666667]</td>\n",
       "      <td>[0.3333333333333333, 0.20833333333333334, 0.33...</td>\n",
       "      <td>[0.375, 0.16666666666666666, 0.333333333333333...</td>\n",
       "      <td>[0.4166666666666667, 0.25, 0.4583333333333333,...</td>\n",
       "      <td>[0.3333333333333333, 0.3333333333333333, 0.5, ...</td>\n",
       "      <td>[0.4166666666666667, 0.3333333333333333, 0.416...</td>\n",
       "      <td>[0.4166666666666667, 0.4166666666666667, 0.416...</td>\n",
       "      <td>[0.2916666666666667, 0.375, 0.4166666666666667...</td>\n",
       "      <td>[0.25, 0.3333333333333333, 0.375, 0.5]</td>\n",
       "      <td>[0.2916666666666667, 0.16666666666666666, 0.33...</td>\n",
       "      <td>[0.375, 0.4166666666666667, 0.3333333333333333...</td>\n",
       "    </tr>\n",
       "    <tr>\n",
       "      <th>5</th>\n",
       "      <td>[0.5416666666666666, 0.5, 0.4583333333333333, ...</td>\n",
       "      <td>[0.5, 0.5416666666666666, 0.5833333333333334, ...</td>\n",
       "      <td>[0.375, 0.5833333333333334, 0.5, 0.54166666666...</td>\n",
       "      <td>[0.375, 0.6666666666666666, 0.4583333333333333...</td>\n",
       "      <td>[0.5, 0.4166666666666667, 0.375, 0.45833333333...</td>\n",
       "      <td>[0.4583333333333333, 0.375, 0.625, 0.458333333...</td>\n",
       "      <td>[0.5416666666666666, 0.5416666666666666, 0.5, ...</td>\n",
       "      <td>[0.4583333333333333, 0.5833333333333334, 0.541...</td>\n",
       "      <td>[0.4166666666666667, 0.5416666666666666, 0.416...</td>\n",
       "      <td>[0.4583333333333333, 0.4166666666666667, 0.416...</td>\n",
       "      <td>[0.4166666666666667, 0.4166666666666667, 0.458...</td>\n",
       "      <td>[0.5416666666666666, 0.4166666666666667, 0.625...</td>\n",
       "    </tr>\n",
       "    <tr>\n",
       "      <th>6</th>\n",
       "      <td>[0.20833333333333334, 0.25, 0.5416666666666666...</td>\n",
       "      <td>[0.20833333333333334, 0.2916666666666667, 0.45...</td>\n",
       "      <td>[0.16666666666666666, 0.25, 0.5416666666666666...</td>\n",
       "      <td>[0.25, 0.25, 0.625, 0.375]</td>\n",
       "      <td>[0.2916666666666667, 0.20833333333333334, 0.58...</td>\n",
       "      <td>[0.16666666666666666, 0.20833333333333334, 0.5...</td>\n",
       "      <td>[0.25, 0.25, 0.625, 0.5833333333333334]</td>\n",
       "      <td>[0.2916666666666667, 0.25, 0.5416666666666666,...</td>\n",
       "      <td>[0.08333333333333333, 0.20833333333333334, 0.5...</td>\n",
       "      <td>[0.125, 0.16666666666666666, 0.5, 0.4583333333...</td>\n",
       "      <td>[0.20833333333333334, 0.16666666666666666, 0.5...</td>\n",
       "      <td>[0.20833333333333334, 0.20833333333333334, 0.6...</td>\n",
       "    </tr>\n",
       "    <tr>\n",
       "      <th>7</th>\n",
       "      <td>[0.20833333333333334, 0.375, 0.208333333333333...</td>\n",
       "      <td>[0.16666666666666666, 0.4166666666666667, 0.29...</td>\n",
       "      <td>[0.2916666666666667, 0.2916666666666667, 0.5, ...</td>\n",
       "      <td>[0.375, 0.25, 0.4583333333333333, 0.2916666666...</td>\n",
       "      <td>[0.2916666666666667, 0.16666666666666666, 0.33...</td>\n",
       "      <td>[0.3333333333333333, 0.4166666666666667, 0.458...</td>\n",
       "      <td>[0.2916666666666667, 0.125, 0.2083333333333333...</td>\n",
       "      <td>[0.20833333333333334, 0.3333333333333333, 0.25...</td>\n",
       "      <td>[0.20833333333333334, 0.4166666666666667, 0.37...</td>\n",
       "      <td>[0.16666666666666666, 0.2916666666666667, 0.20...</td>\n",
       "      <td>[0.20833333333333334, 0.20833333333333334, 0.4...</td>\n",
       "      <td>[0.375, 0.25, 0.4166666666666667, 0.375]</td>\n",
       "    </tr>\n",
       "    <tr>\n",
       "      <th>8</th>\n",
       "      <td>[0.20833333333333334, 0.20833333333333334, 0.4...</td>\n",
       "      <td>[0.25, 0.25, 0.375, 0.3333333333333333]</td>\n",
       "      <td>[0.25, 0.2916666666666667, 0.2916666666666667,...</td>\n",
       "      <td>[0.20833333333333334, 0.2916666666666667, 0.33...</td>\n",
       "      <td>[0.25, 0.16666666666666666, 0.2916666666666667...</td>\n",
       "      <td>[0.20833333333333334, 0.25, 0.375, 0.375]</td>\n",
       "      <td>[0.16666666666666666, 0.2916666666666667, 0.37...</td>\n",
       "      <td>[0.25, 0.25, 0.375, 0.3333333333333333]</td>\n",
       "      <td>[0.20833333333333334, 0.375, 0.333333333333333...</td>\n",
       "      <td>[0.25, 0.2916666666666667, 0.2916666666666667,...</td>\n",
       "      <td>[0.25, 0.25, 0.2916666666666667, 0.5]</td>\n",
       "      <td>[0.20833333333333334, 0.3333333333333333, 0.33...</td>\n",
       "    </tr>\n",
       "    <tr>\n",
       "      <th>9</th>\n",
       "      <td>[0.375, 0.5, 0.4166666666666667, 0.375]</td>\n",
       "      <td>[0.3333333333333333, 0.25, 0.5416666666666666,...</td>\n",
       "      <td>[0.2916666666666667, 0.3333333333333333, 0.333...</td>\n",
       "      <td>[0.4166666666666667, 0.3333333333333333, 0.541...</td>\n",
       "      <td>[0.4583333333333333, 0.3333333333333333, 0.416...</td>\n",
       "      <td>[0.375, 0.25, 0.4583333333333333, 0.4583333333...</td>\n",
       "      <td>[0.25, 0.2916666666666667, 0.4583333333333333,...</td>\n",
       "      <td>[0.375, 0.2916666666666667, 0.4583333333333333...</td>\n",
       "      <td>[0.2916666666666667, 0.375, 0.4166666666666667...</td>\n",
       "      <td>[0.20833333333333334, 0.25, 0.375, 0.291666666...</td>\n",
       "      <td>[0.375, 0.25, 0.20833333333333334, 0.208333333...</td>\n",
       "      <td>[0.375, 0.3333333333333333, 0.5, 0.41666666666...</td>\n",
       "    </tr>\n",
       "    <tr>\n",
       "      <th>10</th>\n",
       "      <td>[0.2916666666666667, 0.375, 0.4166666666666667...</td>\n",
       "      <td>[0.3333333333333333, 0.4166666666666667, 0.458...</td>\n",
       "      <td>[0.20833333333333334, 0.2916666666666667, 0.37...</td>\n",
       "      <td>[0.08333333333333333, 0.25, 0.4583333333333333...</td>\n",
       "      <td>[0.16666666666666666, 0.20833333333333334, 0.4...</td>\n",
       "      <td>[0.25, 0.375, 0.5, 0.5833333333333334]</td>\n",
       "      <td>[0.3333333333333333, 0.4166666666666667, 0.458...</td>\n",
       "      <td>[0.25, 0.4583333333333333, 0.4583333333333333,...</td>\n",
       "      <td>[0.16666666666666666, 0.16666666666666666, 0.5...</td>\n",
       "      <td>[0.3333333333333333, 0.20833333333333334, 0.41...</td>\n",
       "      <td>[0.16666666666666666, 0.2916666666666667, 0.45...</td>\n",
       "      <td>[0.3333333333333333, 0.3333333333333333, 0.541...</td>\n",
       "    </tr>\n",
       "    <tr>\n",
       "      <th>11</th>\n",
       "      <td>[0.375, 0.25, 0.5416666666666666, 0.3333333333...</td>\n",
       "      <td>[0.375, 0.4583333333333333, 0.5416666666666666...</td>\n",
       "      <td>[0.375, 0.375, 0.2916666666666667, 0.291666666...</td>\n",
       "      <td>[0.3333333333333333, 0.3333333333333333, 0.208...</td>\n",
       "      <td>[0.3333333333333333, 0.3333333333333333, 0.625...</td>\n",
       "      <td>[0.4166666666666667, 0.4583333333333333, 0.5, ...</td>\n",
       "      <td>[0.4583333333333333, 0.4166666666666667, 0.625...</td>\n",
       "      <td>[0.375, 0.3333333333333333, 0.3333333333333333...</td>\n",
       "      <td>[0.375, 0.4166666666666667, 0.4583333333333333...</td>\n",
       "      <td>[0.2916666666666667, 0.5, 0.4166666666666667, ...</td>\n",
       "      <td>[0.4166666666666667, 0.3333333333333333, 0.375...</td>\n",
       "      <td>[0.375, 0.5, 0.5416666666666666, 0.41666666666...</td>\n",
       "    </tr>\n",
       "    <tr>\n",
       "      <th>12</th>\n",
       "      <td>[0.4166666666666667, 0.3333333333333333, 0.5, ...</td>\n",
       "      <td>[0.3333333333333333, 0.125, 0.5, 0.41666666666...</td>\n",
       "      <td>[0.5, 0.4166666666666667, 0.5833333333333334, ...</td>\n",
       "      <td>[0.375, 0.25, 0.5416666666666666, 0.375]</td>\n",
       "      <td>[0.4166666666666667, 0.375, 0.3333333333333333...</td>\n",
       "      <td>[0.4166666666666667, 0.375, 0.5, 0.45833333333...</td>\n",
       "      <td>[0.375, 0.375, 0.375, 0.5]</td>\n",
       "      <td>[0.375, 0.2916666666666667, 0.4583333333333333...</td>\n",
       "      <td>[0.4583333333333333, 0.4583333333333333, 0.416...</td>\n",
       "      <td>[0.2916666666666667, 0.2916666666666667, 0.333...</td>\n",
       "      <td>[0.5, 0.4166666666666667, 0.4583333333333333, ...</td>\n",
       "      <td>[0.2916666666666667, 0.25, 0.4583333333333333,...</td>\n",
       "    </tr>\n",
       "  </tbody>\n",
       "</table>\n",
       "</div>"
      ],
      "text/plain": [
       "                                                   0   \\\n",
       "0                         [0.25, 0.1875, 0.25, 0.375]   \n",
       "1             [0.4583333333333333, 0.375, 0.5, 0.625]   \n",
       "2   [0.4166666666666667, 0.5833333333333334, 0.541...   \n",
       "3   [0.375, 0.375, 0.7083333333333334, 0.333333333...   \n",
       "4   [0.3333333333333333, 0.3333333333333333, 0.5, ...   \n",
       "5   [0.5416666666666666, 0.5, 0.4583333333333333, ...   \n",
       "6   [0.20833333333333334, 0.25, 0.5416666666666666...   \n",
       "7   [0.20833333333333334, 0.375, 0.208333333333333...   \n",
       "8   [0.20833333333333334, 0.20833333333333334, 0.4...   \n",
       "9             [0.375, 0.5, 0.4166666666666667, 0.375]   \n",
       "10  [0.2916666666666667, 0.375, 0.4166666666666667...   \n",
       "11  [0.375, 0.25, 0.5416666666666666, 0.3333333333...   \n",
       "12  [0.4166666666666667, 0.3333333333333333, 0.5, ...   \n",
       "\n",
       "                                                   1   \\\n",
       "0                        [0.125, 0.1875, 0.25, 0.375]   \n",
       "1   [0.5, 0.5416666666666666, 0.5, 0.5833333333333...   \n",
       "2   [0.375, 0.3333333333333333, 0.5416666666666666...   \n",
       "3   [0.4583333333333333, 0.4583333333333333, 0.583...   \n",
       "4           [0.375, 0.375, 0.375, 0.4166666666666667]   \n",
       "5   [0.5, 0.5416666666666666, 0.5833333333333334, ...   \n",
       "6   [0.20833333333333334, 0.2916666666666667, 0.45...   \n",
       "7   [0.16666666666666666, 0.4166666666666667, 0.29...   \n",
       "8             [0.25, 0.25, 0.375, 0.3333333333333333]   \n",
       "9   [0.3333333333333333, 0.25, 0.5416666666666666,...   \n",
       "10  [0.3333333333333333, 0.4166666666666667, 0.458...   \n",
       "11  [0.375, 0.4583333333333333, 0.5416666666666666...   \n",
       "12  [0.3333333333333333, 0.125, 0.5, 0.41666666666...   \n",
       "\n",
       "                                                   2   \\\n",
       "0                           [0.25, 0.25, 0.25, 0.375]   \n",
       "1   [0.625, 0.4583333333333333, 0.5416666666666666...   \n",
       "2   [0.4583333333333333, 0.5833333333333334, 0.5, ...   \n",
       "3   [0.20833333333333334, 0.4583333333333333, 0.5,...   \n",
       "4   [0.3333333333333333, 0.20833333333333334, 0.33...   \n",
       "5   [0.375, 0.5833333333333334, 0.5, 0.54166666666...   \n",
       "6   [0.16666666666666666, 0.25, 0.5416666666666666...   \n",
       "7   [0.2916666666666667, 0.2916666666666667, 0.5, ...   \n",
       "8   [0.25, 0.2916666666666667, 0.2916666666666667,...   \n",
       "9   [0.2916666666666667, 0.3333333333333333, 0.333...   \n",
       "10  [0.20833333333333334, 0.2916666666666667, 0.37...   \n",
       "11  [0.375, 0.375, 0.2916666666666667, 0.291666666...   \n",
       "12  [0.5, 0.4166666666666667, 0.5833333333333334, ...   \n",
       "\n",
       "                                                   3   \\\n",
       "0                          [0.3125, 0.5, 0.25, 0.375]   \n",
       "1   [0.5, 0.4166666666666667, 0.4583333333333333, ...   \n",
       "2   [0.5, 0.6666666666666666, 0.5416666666666666, ...   \n",
       "3   [0.5416666666666666, 0.625, 0.4166666666666667...   \n",
       "4   [0.375, 0.16666666666666666, 0.333333333333333...   \n",
       "5   [0.375, 0.6666666666666666, 0.4583333333333333...   \n",
       "6                          [0.25, 0.25, 0.625, 0.375]   \n",
       "7   [0.375, 0.25, 0.4583333333333333, 0.2916666666...   \n",
       "8   [0.20833333333333334, 0.2916666666666667, 0.33...   \n",
       "9   [0.4166666666666667, 0.3333333333333333, 0.541...   \n",
       "10  [0.08333333333333333, 0.25, 0.4583333333333333...   \n",
       "11  [0.3333333333333333, 0.3333333333333333, 0.208...   \n",
       "12           [0.375, 0.25, 0.5416666666666666, 0.375]   \n",
       "\n",
       "                                                   4   \\\n",
       "0                       [0.3125, 0.375, 0.25, 0.3125]   \n",
       "1   [0.5833333333333334, 0.4583333333333333, 0.541...   \n",
       "2   [0.5, 0.5416666666666666, 0.5416666666666666, ...   \n",
       "3   [0.4166666666666667, 0.4583333333333333, 0.5, ...   \n",
       "4   [0.4166666666666667, 0.25, 0.4583333333333333,...   \n",
       "5   [0.5, 0.4166666666666667, 0.375, 0.45833333333...   \n",
       "6   [0.2916666666666667, 0.20833333333333334, 0.58...   \n",
       "7   [0.2916666666666667, 0.16666666666666666, 0.33...   \n",
       "8   [0.25, 0.16666666666666666, 0.2916666666666667...   \n",
       "9   [0.4583333333333333, 0.3333333333333333, 0.416...   \n",
       "10  [0.16666666666666666, 0.20833333333333334, 0.4...   \n",
       "11  [0.3333333333333333, 0.3333333333333333, 0.625...   \n",
       "12  [0.4166666666666667, 0.375, 0.3333333333333333...   \n",
       "\n",
       "                                                   5   \\\n",
       "0                       [0.25, 0.375, 0.1875, 0.5625]   \n",
       "1   [0.5, 0.4583333333333333, 0.4166666666666667, ...   \n",
       "2   [0.4583333333333333, 0.5833333333333334, 0.5, ...   \n",
       "3               [0.375, 0.5, 0.5416666666666666, 0.5]   \n",
       "4   [0.3333333333333333, 0.3333333333333333, 0.5, ...   \n",
       "5   [0.4583333333333333, 0.375, 0.625, 0.458333333...   \n",
       "6   [0.16666666666666666, 0.20833333333333334, 0.5...   \n",
       "7   [0.3333333333333333, 0.4166666666666667, 0.458...   \n",
       "8           [0.20833333333333334, 0.25, 0.375, 0.375]   \n",
       "9   [0.375, 0.25, 0.4583333333333333, 0.4583333333...   \n",
       "10             [0.25, 0.375, 0.5, 0.5833333333333334]   \n",
       "11  [0.4166666666666667, 0.4583333333333333, 0.5, ...   \n",
       "12  [0.4166666666666667, 0.375, 0.5, 0.45833333333...   \n",
       "\n",
       "                                                   6   \\\n",
       "0                           [0.1875, 0.25, 0.25, 0.0]   \n",
       "1   [0.4166666666666667, 0.4166666666666667, 0.375...   \n",
       "2   [0.4583333333333333, 0.6666666666666666, 0.541...   \n",
       "3   [0.625, 0.4166666666666667, 0.6666666666666666...   \n",
       "4   [0.4166666666666667, 0.3333333333333333, 0.416...   \n",
       "5   [0.5416666666666666, 0.5416666666666666, 0.5, ...   \n",
       "6             [0.25, 0.25, 0.625, 0.5833333333333334]   \n",
       "7   [0.2916666666666667, 0.125, 0.2083333333333333...   \n",
       "8   [0.16666666666666666, 0.2916666666666667, 0.37...   \n",
       "9   [0.25, 0.2916666666666667, 0.4583333333333333,...   \n",
       "10  [0.3333333333333333, 0.4166666666666667, 0.458...   \n",
       "11  [0.4583333333333333, 0.4166666666666667, 0.625...   \n",
       "12                         [0.375, 0.375, 0.375, 0.5]   \n",
       "\n",
       "                                                   7   \\\n",
       "0                        [0.25, 0.0625, 0.25, 0.3125]   \n",
       "1   [0.5, 0.4583333333333333, 0.625, 0.45833333333...   \n",
       "2   [0.4583333333333333, 0.5416666666666666, 0.666...   \n",
       "3           [0.375, 0.375, 0.375, 0.4166666666666667]   \n",
       "4   [0.4166666666666667, 0.4166666666666667, 0.416...   \n",
       "5   [0.4583333333333333, 0.5833333333333334, 0.541...   \n",
       "6   [0.2916666666666667, 0.25, 0.5416666666666666,...   \n",
       "7   [0.20833333333333334, 0.3333333333333333, 0.25...   \n",
       "8             [0.25, 0.25, 0.375, 0.3333333333333333]   \n",
       "9   [0.375, 0.2916666666666667, 0.4583333333333333...   \n",
       "10  [0.25, 0.4583333333333333, 0.4583333333333333,...   \n",
       "11  [0.375, 0.3333333333333333, 0.3333333333333333...   \n",
       "12  [0.375, 0.2916666666666667, 0.4583333333333333...   \n",
       "\n",
       "                                                   8   \\\n",
       "0                      [0.25, 0.1875, 0.4375, 0.1875]   \n",
       "1   [0.6666666666666666, 0.4166666666666667, 0.666...   \n",
       "2   [0.4166666666666667, 0.3333333333333333, 0.541...   \n",
       "3   [0.2916666666666667, 0.3333333333333333, 0.5, ...   \n",
       "4   [0.2916666666666667, 0.375, 0.4166666666666667...   \n",
       "5   [0.4166666666666667, 0.5416666666666666, 0.416...   \n",
       "6   [0.08333333333333333, 0.20833333333333334, 0.5...   \n",
       "7   [0.20833333333333334, 0.4166666666666667, 0.37...   \n",
       "8   [0.20833333333333334, 0.375, 0.333333333333333...   \n",
       "9   [0.2916666666666667, 0.375, 0.4166666666666667...   \n",
       "10  [0.16666666666666666, 0.16666666666666666, 0.5...   \n",
       "11  [0.375, 0.4166666666666667, 0.4583333333333333...   \n",
       "12  [0.4583333333333333, 0.4583333333333333, 0.416...   \n",
       "\n",
       "                                                   9   \\\n",
       "0                         [0.25, 0.375, 0.25, 0.1875]   \n",
       "1   [0.5416666666666666, 0.5, 0.4583333333333333, ...   \n",
       "2   [0.375, 0.5833333333333334, 0.4583333333333333...   \n",
       "3   [0.2916666666666667, 0.4583333333333333, 0.5, ...   \n",
       "4              [0.25, 0.3333333333333333, 0.375, 0.5]   \n",
       "5   [0.4583333333333333, 0.4166666666666667, 0.416...   \n",
       "6   [0.125, 0.16666666666666666, 0.5, 0.4583333333...   \n",
       "7   [0.16666666666666666, 0.2916666666666667, 0.20...   \n",
       "8   [0.25, 0.2916666666666667, 0.2916666666666667,...   \n",
       "9   [0.20833333333333334, 0.25, 0.375, 0.291666666...   \n",
       "10  [0.3333333333333333, 0.20833333333333334, 0.41...   \n",
       "11  [0.2916666666666667, 0.5, 0.4166666666666667, ...   \n",
       "12  [0.2916666666666667, 0.2916666666666667, 0.333...   \n",
       "\n",
       "                                                   10  \\\n",
       "0                       [0.125, 0.375, 0.0625, 0.125]   \n",
       "1   [0.5, 0.6666666666666666, 0.4166666666666667, ...   \n",
       "2   [0.4583333333333333, 0.4583333333333333, 0.458...   \n",
       "3   [0.4583333333333333, 0.5, 0.5416666666666666, ...   \n",
       "4   [0.2916666666666667, 0.16666666666666666, 0.33...   \n",
       "5   [0.4166666666666667, 0.4166666666666667, 0.458...   \n",
       "6   [0.20833333333333334, 0.16666666666666666, 0.5...   \n",
       "7   [0.20833333333333334, 0.20833333333333334, 0.4...   \n",
       "8               [0.25, 0.25, 0.2916666666666667, 0.5]   \n",
       "9   [0.375, 0.25, 0.20833333333333334, 0.208333333...   \n",
       "10  [0.16666666666666666, 0.2916666666666667, 0.45...   \n",
       "11  [0.4166666666666667, 0.3333333333333333, 0.375...   \n",
       "12  [0.5, 0.4166666666666667, 0.4583333333333333, ...   \n",
       "\n",
       "                                                   11  \n",
       "0                         [0.25, 0.1875, 0.3125, 0.5]  \n",
       "1   [0.5, 0.5833333333333334, 0.4583333333333333, ...  \n",
       "2   [0.4583333333333333, 0.4583333333333333, 0.541...  \n",
       "3           [0.375, 0.4583333333333333, 0.625, 0.375]  \n",
       "4   [0.375, 0.4166666666666667, 0.3333333333333333...  \n",
       "5   [0.5416666666666666, 0.4166666666666667, 0.625...  \n",
       "6   [0.20833333333333334, 0.20833333333333334, 0.6...  \n",
       "7            [0.375, 0.25, 0.4166666666666667, 0.375]  \n",
       "8   [0.20833333333333334, 0.3333333333333333, 0.33...  \n",
       "9   [0.375, 0.3333333333333333, 0.5, 0.41666666666...  \n",
       "10  [0.3333333333333333, 0.3333333333333333, 0.541...  \n",
       "11  [0.375, 0.5, 0.5416666666666666, 0.41666666666...  \n",
       "12  [0.2916666666666667, 0.25, 0.4583333333333333,...  "
      ]
     },
     "execution_count": 30,
     "metadata": {},
     "output_type": "execute_result"
    }
   ],
   "source": [
    "pd.DataFrame(data=cv_list_tone)"
   ]
  },
  {
   "cell_type": "code",
   "execution_count": null,
   "id": "394cb2c9-d2a0-43d7-902e-ed6e6618881f",
   "metadata": {},
   "outputs": [],
   "source": []
  },
  {
   "cell_type": "code",
   "execution_count": null,
   "id": "ade34ae7",
   "metadata": {},
   "outputs": [],
   "source": []
  },
  {
   "cell_type": "markdown",
   "id": "58faae53-c91d-45e8-ac68-8ccdb82fc758",
   "metadata": {
    "jp-MarkdownHeadingCollapsed": true,
    "tags": []
   },
   "source": [
    "## Train expert, test learner"
   ]
  },
  {
   "cell_type": "code",
   "execution_count": 27,
   "id": "325b1ca5-86d5-4008-a62b-967c3a14f7c8",
   "metadata": {},
   "outputs": [],
   "source": [
    "import os\n",
    "import numpy as np\n",
    "from copy import copy\n",
    "from glob import glob\n",
    "from sklearn import svm\n",
    "from sklearn.model_selection import StratifiedKFold\n",
    "from sklearn.model_selection import cross_val_score\n",
    "from sklearn.metrics import ConfusionMatrixDisplay, confusion_matrix, accuracy_score\n"
   ]
  },
  {
   "cell_type": "code",
   "execution_count": 7,
   "id": "3a745d96-47f3-4c77-ba91-50c3056107e1",
   "metadata": {},
   "outputs": [
    {
     "name": "stdout",
     "output_type": "stream",
     "text": [
      "['FLT03', 'FLT05', 'FLT07', 'FLT08', 'FLT10', 'FLT02', 'FLT04', 'FLT06', 'FLT09', 'FLT11', 'FLT12', 'FLT13']\n"
     ]
    }
   ],
   "source": [
    "sub_list_mand = ['FLT03', 'FLT05', 'FLT07', 'FLT08', 'FLT10', ] # 'FLT01', \n",
    "\n",
    "sub_list_nman = ['FLT02', 'FLT04', 'FLT06', 'FLT09', 'FLT11', 'FLT12', 'FLT13', ]\n",
    "\n",
    "sub_list = sub_list_mand + sub_list_nman\n",
    "print(sub_list)"
   ]
  },
  {
   "cell_type": "code",
   "execution_count": 8,
   "id": "b2f8dc93-4769-441d-a7c2-4a267f195c9c",
   "metadata": {},
   "outputs": [],
   "source": [
    "roi_list = ['L-Caud', 'L-Put', 'R-Caud', 'R-Put']"
   ]
  },
  {
   "cell_type": "code",
   "execution_count": 15,
   "id": "e159d798-ed62-47a4-87e3-fb535239647f",
   "metadata": {},
   "outputs": [],
   "source": [
    "fwhm_sub = 1.50\n",
    "space_label = 'MNI152NLin2009cAsym'\n",
    "nilearn_dir = os.path.join('/bgfs/bchandrasekaran/krs228/data/FLT/',\n",
    "                         'data_bids_noIntendedFor/derivatives/nilearn/')\n",
    "deriv_dir = os.path.join(nilearn_dir, 'level-1_fwhm-1.50')\n"
   ]
  },
  {
   "cell_type": "code",
   "execution_count": 16,
   "id": "932b5c2e-5b7f-43e8-b5b9-729ab6015a66",
   "metadata": {},
   "outputs": [],
   "source": [
    "# training data\n",
    "mand_data = []\n",
    "for sub_id in sub_list_mand:\n",
    "    nilearn_sub_dir = os.path.join(deriv_dir,\n",
    "                                   'sub-%s_space-%s'%(sub_id, space_label))\n",
    "\n",
    "    stat_maps = sorted(glob(nilearn_sub_dir+'/stimulus_per_run'+'/run*/*di*nii.gz')) # run-specific stimulus beta maps\n",
    "    \n",
    "    mand_data=mand_data+stat_maps"
   ]
  },
  {
   "cell_type": "code",
   "execution_count": 17,
   "id": "a9feed9f-e71c-4124-a204-8ab26f32cf5c",
   "metadata": {},
   "outputs": [],
   "source": [
    "# test data\n",
    "nman_data = []\n",
    "for sub_id in sub_list_nman:\n",
    "    nilearn_sub_dir = os.path.join(deriv_dir,\n",
    "                                   'sub-%s_space-%s'%(sub_id, space_label))\n",
    "\n",
    "    stat_maps = sorted(glob(nilearn_sub_dir+'/stimulus_per_run'+'/run*/*di*nii.gz')) # run-specific stimulus beta maps\n",
    "    \n",
    "    nman_data=nman_data+stat_maps"
   ]
  },
  {
   "cell_type": "code",
   "execution_count": 29,
   "id": "66e4e012-d9ec-4731-bae9-a01e00d09317",
   "metadata": {
    "scrolled": true,
    "tags": []
   },
   "outputs": [
    {
     "name": "stdout",
     "output_type": "stream",
     "text": [
      "L-Caud\n",
      "training set length:  480\n",
      "initializing classifier\n",
      "cross-validating the training set\n",
      "cross-validation score =  0.3\n",
      "FLT02\n",
      "run00\n",
      "test set length:  16\n",
      "sub-FLT02 run-run00 mask-L-Caud accuracy:  0.3125\n",
      "run01\n",
      "test set length:  16\n",
      "sub-FLT02 run-run01 mask-L-Caud accuracy:  0.3125\n",
      "run02\n",
      "test set length:  16\n",
      "sub-FLT02 run-run02 mask-L-Caud accuracy:  0.1875\n",
      "run03\n",
      "test set length:  16\n",
      "sub-FLT02 run-run03 mask-L-Caud accuracy:  0.1875\n",
      "run04\n",
      "test set length:  16\n",
      "sub-FLT02 run-run04 mask-L-Caud accuracy:  0.1875\n",
      "run05\n",
      "test set length:  16\n",
      "sub-FLT02 run-run05 mask-L-Caud accuracy:  0.3125\n",
      "FLT04\n",
      "run00\n",
      "test set length:  16\n",
      "sub-FLT04 run-run00 mask-L-Caud accuracy:  0.25\n",
      "run01\n",
      "test set length:  16\n",
      "sub-FLT04 run-run01 mask-L-Caud accuracy:  0.125\n",
      "run02\n",
      "test set length:  16\n",
      "sub-FLT04 run-run02 mask-L-Caud accuracy:  0.25\n",
      "run03\n",
      "test set length:  16\n",
      "sub-FLT04 run-run03 mask-L-Caud accuracy:  0.3125\n",
      "run04\n",
      "test set length:  16\n",
      "sub-FLT04 run-run04 mask-L-Caud accuracy:  0.1875\n",
      "run05\n",
      "test set length:  16\n",
      "sub-FLT04 run-run05 mask-L-Caud accuracy:  0.0\n",
      "FLT06\n",
      "run00\n",
      "test set length:  16\n",
      "sub-FLT06 run-run00 mask-L-Caud accuracy:  0.25\n",
      "run01\n",
      "test set length:  16\n",
      "sub-FLT06 run-run01 mask-L-Caud accuracy:  0.25\n",
      "run02\n",
      "test set length:  16\n",
      "sub-FLT06 run-run02 mask-L-Caud accuracy:  0.1875\n",
      "run03\n",
      "test set length:  16\n",
      "sub-FLT06 run-run03 mask-L-Caud accuracy:  0.25\n",
      "run04\n",
      "test set length:  16\n",
      "sub-FLT06 run-run04 mask-L-Caud accuracy:  0.125\n",
      "run05\n",
      "test set length:  16\n",
      "sub-FLT06 run-run05 mask-L-Caud accuracy:  0.125\n",
      "FLT09\n",
      "run00\n",
      "test set length:  16\n",
      "sub-FLT09 run-run00 mask-L-Caud accuracy:  0.25\n",
      "run01\n",
      "test set length:  16\n",
      "sub-FLT09 run-run01 mask-L-Caud accuracy:  0.0625\n",
      "run02\n",
      "test set length:  16\n",
      "sub-FLT09 run-run02 mask-L-Caud accuracy:  0.0625\n",
      "run03\n",
      "test set length:  16\n",
      "sub-FLT09 run-run03 mask-L-Caud accuracy:  0.3125\n",
      "run04\n",
      "test set length:  16\n",
      "sub-FLT09 run-run04 mask-L-Caud accuracy:  0.3125\n",
      "run05\n",
      "test set length:  16\n",
      "sub-FLT09 run-run05 mask-L-Caud accuracy:  0.125\n",
      "FLT11\n",
      "run00\n",
      "test set length:  16\n",
      "sub-FLT11 run-run00 mask-L-Caud accuracy:  0.125\n",
      "run01\n",
      "test set length:  16\n",
      "sub-FLT11 run-run01 mask-L-Caud accuracy:  0.25\n",
      "run02\n",
      "test set length:  16\n",
      "sub-FLT11 run-run02 mask-L-Caud accuracy:  0.1875\n",
      "run03\n",
      "test set length:  16\n",
      "sub-FLT11 run-run03 mask-L-Caud accuracy:  0.3125\n",
      "run04\n",
      "test set length:  16\n",
      "sub-FLT11 run-run04 mask-L-Caud accuracy:  0.125\n",
      "run05\n",
      "test set length:  16\n",
      "sub-FLT11 run-run05 mask-L-Caud accuracy:  0.5625\n",
      "FLT12\n",
      "run00\n",
      "test set length:  16\n",
      "sub-FLT12 run-run00 mask-L-Caud accuracy:  0.3125\n",
      "run01\n",
      "test set length:  16\n",
      "sub-FLT12 run-run01 mask-L-Caud accuracy:  0.125\n",
      "run02\n",
      "test set length:  16\n",
      "sub-FLT12 run-run02 mask-L-Caud accuracy:  0.1875\n",
      "run03\n",
      "test set length:  16\n",
      "sub-FLT12 run-run03 mask-L-Caud accuracy:  0.3125\n",
      "run04\n",
      "test set length:  16\n",
      "sub-FLT12 run-run04 mask-L-Caud accuracy:  0.125\n",
      "run05\n",
      "test set length:  16\n",
      "sub-FLT12 run-run05 mask-L-Caud accuracy:  0.1875\n",
      "FLT13\n",
      "run00\n",
      "test set length:  16\n",
      "sub-FLT13 run-run00 mask-L-Caud accuracy:  0.25\n",
      "run01\n",
      "test set length:  16\n",
      "sub-FLT13 run-run01 mask-L-Caud accuracy:  0.25\n",
      "run02\n",
      "test set length:  16\n",
      "sub-FLT13 run-run02 mask-L-Caud accuracy:  0.125\n",
      "run03\n",
      "test set length:  16\n",
      "sub-FLT13 run-run03 mask-L-Caud accuracy:  0.1875\n",
      "run04\n",
      "test set length:  16\n",
      "sub-FLT13 run-run04 mask-L-Caud accuracy:  0.125\n",
      "run05\n",
      "test set length:  16\n",
      "sub-FLT13 run-run05 mask-L-Caud accuracy:  0.125\n",
      "L-Put\n",
      "training set length:  480\n",
      "initializing classifier\n",
      "cross-validating the training set\n",
      "cross-validation score =  0.28750000000000003\n",
      "FLT02\n",
      "run00\n",
      "test set length:  16\n",
      "sub-FLT02 run-run00 mask-L-Put accuracy:  0.0625\n",
      "run01\n",
      "test set length:  16\n",
      "sub-FLT02 run-run01 mask-L-Put accuracy:  0.375\n",
      "run02\n",
      "test set length:  16\n",
      "sub-FLT02 run-run02 mask-L-Put accuracy:  0.25\n",
      "run03\n",
      "test set length:  16\n",
      "sub-FLT02 run-run03 mask-L-Put accuracy:  0.5\n",
      "run04\n",
      "test set length:  16\n",
      "sub-FLT02 run-run04 mask-L-Put accuracy:  0.1875\n",
      "run05\n",
      "test set length:  16\n",
      "sub-FLT02 run-run05 mask-L-Put accuracy:  0.3125\n",
      "FLT04\n",
      "run00\n",
      "test set length:  16\n",
      "sub-FLT04 run-run00 mask-L-Put accuracy:  0.25\n",
      "run01\n",
      "test set length:  16\n",
      "sub-FLT04 run-run01 mask-L-Put accuracy:  0.125\n",
      "run02\n",
      "test set length:  16\n",
      "sub-FLT04 run-run02 mask-L-Put accuracy:  0.125\n",
      "run03\n",
      "test set length:  16\n",
      "sub-FLT04 run-run03 mask-L-Put accuracy:  0.25\n",
      "run04\n",
      "test set length:  16\n",
      "sub-FLT04 run-run04 mask-L-Put accuracy:  0.375\n",
      "run05\n",
      "test set length:  16\n",
      "sub-FLT04 run-run05 mask-L-Put accuracy:  0.0625\n",
      "FLT06\n",
      "run00\n",
      "test set length:  16\n",
      "sub-FLT06 run-run00 mask-L-Put accuracy:  0.1875\n",
      "run01\n",
      "test set length:  16\n",
      "sub-FLT06 run-run01 mask-L-Put accuracy:  0.0625\n",
      "run02\n",
      "test set length:  16\n",
      "sub-FLT06 run-run02 mask-L-Put accuracy:  0.25\n",
      "run03\n",
      "test set length:  16\n",
      "sub-FLT06 run-run03 mask-L-Put accuracy:  0.0625\n",
      "run04\n",
      "test set length:  16\n",
      "sub-FLT06 run-run04 mask-L-Put accuracy:  0.0625\n",
      "run05\n",
      "test set length:  16\n",
      "sub-FLT06 run-run05 mask-L-Put accuracy:  0.25\n",
      "FLT09\n",
      "run00\n",
      "test set length:  16\n",
      "sub-FLT09 run-run00 mask-L-Put accuracy:  0.3125\n",
      "run01\n",
      "test set length:  16\n",
      "sub-FLT09 run-run01 mask-L-Put accuracy:  0.375\n",
      "run02\n",
      "test set length:  16\n",
      "sub-FLT09 run-run02 mask-L-Put accuracy:  0.1875\n",
      "run03\n",
      "test set length:  16\n",
      "sub-FLT09 run-run03 mask-L-Put accuracy:  0.3125\n",
      "run04\n",
      "test set length:  16\n",
      "sub-FLT09 run-run04 mask-L-Put accuracy:  0.3125\n",
      "run05\n",
      "test set length:  16\n",
      "sub-FLT09 run-run05 mask-L-Put accuracy:  0.125\n",
      "FLT11\n",
      "run00\n",
      "test set length:  16\n",
      "sub-FLT11 run-run00 mask-L-Put accuracy:  0.1875\n",
      "run01\n",
      "test set length:  16\n",
      "sub-FLT11 run-run01 mask-L-Put accuracy:  0.3125\n",
      "run02\n",
      "test set length:  16\n",
      "sub-FLT11 run-run02 mask-L-Put accuracy:  0.4375\n",
      "run03\n",
      "test set length:  16\n",
      "sub-FLT11 run-run03 mask-L-Put accuracy:  0.375\n",
      "run04\n",
      "test set length:  16\n",
      "sub-FLT11 run-run04 mask-L-Put accuracy:  0.375\n",
      "run05\n",
      "test set length:  16\n",
      "sub-FLT11 run-run05 mask-L-Put accuracy:  0.4375\n",
      "FLT12\n",
      "run00\n",
      "test set length:  16\n",
      "sub-FLT12 run-run00 mask-L-Put accuracy:  0.3125\n",
      "run01\n",
      "test set length:  16\n",
      "sub-FLT12 run-run01 mask-L-Put accuracy:  0.5\n",
      "run02\n",
      "test set length:  16\n",
      "sub-FLT12 run-run02 mask-L-Put accuracy:  0.5\n",
      "run03\n",
      "test set length:  16\n",
      "sub-FLT12 run-run03 mask-L-Put accuracy:  0.3125\n",
      "run04\n",
      "test set length:  16\n",
      "sub-FLT12 run-run04 mask-L-Put accuracy:  0.4375\n",
      "run05\n",
      "test set length:  16\n",
      "sub-FLT12 run-run05 mask-L-Put accuracy:  0.1875\n",
      "FLT13\n",
      "run00\n",
      "test set length:  16\n",
      "sub-FLT13 run-run00 mask-L-Put accuracy:  0.25\n",
      "run01\n",
      "test set length:  16\n",
      "sub-FLT13 run-run01 mask-L-Put accuracy:  0.1875\n",
      "run02\n",
      "test set length:  16\n",
      "sub-FLT13 run-run02 mask-L-Put accuracy:  0.25\n",
      "run03\n",
      "test set length:  16\n",
      "sub-FLT13 run-run03 mask-L-Put accuracy:  0.3125\n",
      "run04\n",
      "test set length:  16\n",
      "sub-FLT13 run-run04 mask-L-Put accuracy:  0.125\n",
      "run05\n",
      "test set length:  16\n",
      "sub-FLT13 run-run05 mask-L-Put accuracy:  0.125\n",
      "R-Caud\n",
      "training set length:  480\n",
      "initializing classifier\n",
      "cross-validating the training set\n",
      "cross-validation score =  0.23749999999999996\n",
      "FLT02\n",
      "run00\n",
      "test set length:  16\n",
      "sub-FLT02 run-run00 mask-R-Caud accuracy:  0.25\n",
      "run01\n",
      "test set length:  16\n",
      "sub-FLT02 run-run01 mask-R-Caud accuracy:  0.5\n",
      "run02\n",
      "test set length:  16\n",
      "sub-FLT02 run-run02 mask-R-Caud accuracy:  0.25\n",
      "run03\n",
      "test set length:  16\n",
      "sub-FLT02 run-run03 mask-R-Caud accuracy:  0.3125\n",
      "run04\n",
      "test set length:  16\n",
      "sub-FLT02 run-run04 mask-R-Caud accuracy:  0.6875\n",
      "run05\n",
      "test set length:  16\n",
      "sub-FLT02 run-run05 mask-R-Caud accuracy:  0.4375\n",
      "FLT04\n",
      "run00\n",
      "test set length:  16\n",
      "sub-FLT04 run-run00 mask-R-Caud accuracy:  0.125\n",
      "run01\n",
      "test set length:  16\n",
      "sub-FLT04 run-run01 mask-R-Caud accuracy:  0.375\n",
      "run02\n",
      "test set length:  16\n",
      "sub-FLT04 run-run02 mask-R-Caud accuracy:  0.25\n",
      "run03\n",
      "test set length:  16\n",
      "sub-FLT04 run-run03 mask-R-Caud accuracy:  0.0\n",
      "run04\n",
      "test set length:  16\n",
      "sub-FLT04 run-run04 mask-R-Caud accuracy:  0.125\n",
      "run05\n",
      "test set length:  16\n",
      "sub-FLT04 run-run05 mask-R-Caud accuracy:  0.375\n",
      "FLT06\n",
      "run00\n",
      "test set length:  16\n",
      "sub-FLT06 run-run00 mask-R-Caud accuracy:  0.25\n",
      "run01\n",
      "test set length:  16\n",
      "sub-FLT06 run-run01 mask-R-Caud accuracy:  0.25\n",
      "run02\n",
      "test set length:  16\n",
      "sub-FLT06 run-run02 mask-R-Caud accuracy:  0.3125\n",
      "run03\n",
      "test set length:  16\n",
      "sub-FLT06 run-run03 mask-R-Caud accuracy:  0.3125\n",
      "run04\n",
      "test set length:  16\n",
      "sub-FLT06 run-run04 mask-R-Caud accuracy:  0.1875\n",
      "run05\n",
      "test set length:  16\n",
      "sub-FLT06 run-run05 mask-R-Caud accuracy:  0.125\n",
      "FLT09\n",
      "run00\n",
      "test set length:  16\n",
      "sub-FLT09 run-run00 mask-R-Caud accuracy:  0.375\n",
      "run01\n",
      "test set length:  16\n",
      "sub-FLT09 run-run01 mask-R-Caud accuracy:  0.0625\n",
      "run02\n",
      "test set length:  16\n",
      "sub-FLT09 run-run02 mask-R-Caud accuracy:  0.1875\n",
      "run03\n",
      "test set length:  16\n",
      "sub-FLT09 run-run03 mask-R-Caud accuracy:  0.1875\n",
      "run04\n",
      "test set length:  16\n",
      "sub-FLT09 run-run04 mask-R-Caud accuracy:  0.0625\n",
      "run05\n",
      "test set length:  16\n",
      "sub-FLT09 run-run05 mask-R-Caud accuracy:  0.1875\n",
      "FLT11\n",
      "run00\n",
      "test set length:  16\n",
      "sub-FLT11 run-run00 mask-R-Caud accuracy:  0.25\n",
      "run01\n",
      "test set length:  16\n",
      "sub-FLT11 run-run01 mask-R-Caud accuracy:  0.3125\n",
      "run02\n",
      "test set length:  16\n",
      "sub-FLT11 run-run02 mask-R-Caud accuracy:  0.125\n",
      "run03\n",
      "test set length:  16\n",
      "sub-FLT11 run-run03 mask-R-Caud accuracy:  0.375\n",
      "run04\n",
      "test set length:  16\n",
      "sub-FLT11 run-run04 mask-R-Caud accuracy:  0.125\n",
      "run05\n",
      "test set length:  16\n",
      "sub-FLT11 run-run05 mask-R-Caud accuracy:  0.375\n",
      "FLT12\n",
      "run00\n",
      "test set length:  16\n",
      "sub-FLT12 run-run00 mask-R-Caud accuracy:  0.1875\n",
      "run01\n",
      "test set length:  16\n",
      "sub-FLT12 run-run01 mask-R-Caud accuracy:  0.25\n",
      "run02\n",
      "test set length:  16\n",
      "sub-FLT12 run-run02 mask-R-Caud accuracy:  0.125\n",
      "run03\n",
      "test set length:  16\n",
      "sub-FLT12 run-run03 mask-R-Caud accuracy:  0.3125\n",
      "run04\n",
      "test set length:  16\n",
      "sub-FLT12 run-run04 mask-R-Caud accuracy:  0.375\n",
      "run05\n",
      "test set length:  16\n",
      "sub-FLT12 run-run05 mask-R-Caud accuracy:  0.5\n",
      "FLT13\n",
      "run00\n",
      "test set length:  16\n",
      "sub-FLT13 run-run00 mask-R-Caud accuracy:  0.1875\n",
      "run01\n",
      "test set length:  16\n",
      "sub-FLT13 run-run01 mask-R-Caud accuracy:  0.125\n",
      "run02\n",
      "test set length:  16\n",
      "sub-FLT13 run-run02 mask-R-Caud accuracy:  0.3125\n",
      "run03\n",
      "test set length:  16\n",
      "sub-FLT13 run-run03 mask-R-Caud accuracy:  0.125\n",
      "run04\n",
      "test set length:  16\n",
      "sub-FLT13 run-run04 mask-R-Caud accuracy:  0.125\n",
      "run05\n",
      "test set length:  16\n",
      "sub-FLT13 run-run05 mask-R-Caud accuracy:  0.1875\n",
      "R-Put\n",
      "training set length:  480\n",
      "initializing classifier\n",
      "cross-validating the training set\n",
      "cross-validation score =  0.25833333333333336\n",
      "FLT02\n",
      "run00\n",
      "test set length:  16\n",
      "sub-FLT02 run-run00 mask-R-Put accuracy:  0.3125\n",
      "run01\n",
      "test set length:  16\n",
      "sub-FLT02 run-run01 mask-R-Put accuracy:  0.25\n",
      "run02\n",
      "test set length:  16\n",
      "sub-FLT02 run-run02 mask-R-Put accuracy:  0.3125\n",
      "run03\n",
      "test set length:  16\n",
      "sub-FLT02 run-run03 mask-R-Put accuracy:  0.3125\n",
      "run04\n",
      "test set length:  16\n",
      "sub-FLT02 run-run04 mask-R-Put accuracy:  0.25\n",
      "run05\n",
      "test set length:  16\n",
      "sub-FLT02 run-run05 mask-R-Put accuracy:  0.3125\n",
      "FLT04\n",
      "run00\n",
      "test set length:  16\n",
      "sub-FLT04 run-run00 mask-R-Put accuracy:  0.375\n",
      "run01\n",
      "test set length:  16\n",
      "sub-FLT04 run-run01 mask-R-Put accuracy:  0.25\n",
      "run02\n",
      "test set length:  16\n",
      "sub-FLT04 run-run02 mask-R-Put accuracy:  0.0625\n",
      "run03\n",
      "test set length:  16\n",
      "sub-FLT04 run-run03 mask-R-Put accuracy:  0.375\n",
      "run04\n",
      "test set length:  16\n",
      "sub-FLT04 run-run04 mask-R-Put accuracy:  0.125\n",
      "run05\n",
      "test set length:  16\n",
      "sub-FLT04 run-run05 mask-R-Put accuracy:  0.125\n",
      "FLT06\n",
      "run00\n",
      "test set length:  16\n",
      "sub-FLT06 run-run00 mask-R-Put accuracy:  0.25\n",
      "run01\n",
      "test set length:  16\n",
      "sub-FLT06 run-run01 mask-R-Put accuracy:  0.25\n",
      "run02\n",
      "test set length:  16\n",
      "sub-FLT06 run-run02 mask-R-Put accuracy:  0.375\n",
      "run03\n",
      "test set length:  16\n",
      "sub-FLT06 run-run03 mask-R-Put accuracy:  0.25\n",
      "run04\n",
      "test set length:  16\n",
      "sub-FLT06 run-run04 mask-R-Put accuracy:  0.25\n",
      "run05\n",
      "test set length:  16\n",
      "sub-FLT06 run-run05 mask-R-Put accuracy:  0.375\n",
      "FLT09\n",
      "run00\n",
      "test set length:  16\n",
      "sub-FLT09 run-run00 mask-R-Put accuracy:  0.0625\n",
      "run01\n",
      "test set length:  16\n",
      "sub-FLT09 run-run01 mask-R-Put accuracy:  0.25\n",
      "run02\n",
      "test set length:  16\n",
      "sub-FLT09 run-run02 mask-R-Put accuracy:  0.125\n",
      "run03\n",
      "test set length:  16\n",
      "sub-FLT09 run-run03 mask-R-Put accuracy:  0.1875\n",
      "run04\n",
      "test set length:  16\n",
      "sub-FLT09 run-run04 mask-R-Put accuracy:  0.1875\n",
      "run05\n",
      "test set length:  16\n",
      "sub-FLT09 run-run05 mask-R-Put accuracy:  0.0625\n",
      "FLT11\n",
      "run00\n",
      "test set length:  16\n",
      "sub-FLT11 run-run00 mask-R-Put accuracy:  0.3125\n",
      "run01\n",
      "test set length:  16\n",
      "sub-FLT11 run-run01 mask-R-Put accuracy:  0.3125\n",
      "run02\n",
      "test set length:  16\n",
      "sub-FLT11 run-run02 mask-R-Put accuracy:  0.375\n",
      "run03\n",
      "test set length:  16\n",
      "sub-FLT11 run-run03 mask-R-Put accuracy:  0.4375\n",
      "run04\n",
      "test set length:  16\n",
      "sub-FLT11 run-run04 mask-R-Put accuracy:  0.3125\n",
      "run05\n",
      "test set length:  16\n",
      "sub-FLT11 run-run05 mask-R-Put accuracy:  0.25\n",
      "FLT12\n",
      "run00\n",
      "test set length:  16\n",
      "sub-FLT12 run-run00 mask-R-Put accuracy:  0.125\n",
      "run01\n",
      "test set length:  16\n",
      "sub-FLT12 run-run01 mask-R-Put accuracy:  0.1875\n",
      "run02\n",
      "test set length:  16\n",
      "sub-FLT12 run-run02 mask-R-Put accuracy:  0.0625\n",
      "run03\n",
      "test set length:  16\n",
      "sub-FLT12 run-run03 mask-R-Put accuracy:  0.3125\n",
      "run04\n",
      "test set length:  16\n",
      "sub-FLT12 run-run04 mask-R-Put accuracy:  0.0\n",
      "run05\n",
      "test set length:  16\n",
      "sub-FLT12 run-run05 mask-R-Put accuracy:  0.3125\n",
      "FLT13\n",
      "run00\n",
      "test set length:  16\n",
      "sub-FLT13 run-run00 mask-R-Put accuracy:  0.1875\n",
      "run01\n",
      "test set length:  16\n",
      "sub-FLT13 run-run01 mask-R-Put accuracy:  0.25\n",
      "run02\n",
      "test set length:  16\n",
      "sub-FLT13 run-run02 mask-R-Put accuracy:  0.25\n",
      "run03\n",
      "test set length:  16\n",
      "sub-FLT13 run-run03 mask-R-Put accuracy:  0.375\n",
      "run04\n",
      "test set length:  16\n",
      "sub-FLT13 run-run04 mask-R-Put accuracy:  0.1875\n",
      "run05\n",
      "test set length:  16\n",
      "sub-FLT13 run-run05 mask-R-Put accuracy:  0.25\n"
     ]
    }
   ],
   "source": [
    "cv_list_tone = []\n",
    "cv_list_talker = []\n",
    "cv_list_null = []\n",
    "\n",
    "sub_gen = 'FLT10'\n",
    "for mask_descrip in roi_list:\n",
    "    # define the mask for the region of interest\n",
    "    print(mask_descrip)\n",
    "    masks_dir = os.path.join(nilearn_dir, 'masks', 'sub-%s'%sub_gen, 'space-%s'%space_label, 'masks-dseg', )\n",
    "    mask_fpath = os.path.join(masks_dir, 'sub-%s_space-%s_mask-%s.nii.gz'%(sub_gen, space_label, mask_descrip))\n",
    "    \n",
    "    # generating training data and labels\n",
    "    print('training set length: ', len(mand_data))\n",
    "    X_train, train_masker = mask_fmri(mand_data, mask_fpath, fwhm_sub)\n",
    "    train_conditions_tone, train_conditions_talker, train_conditions_all, train_conditions_shuffled = create_labels(mand_data)\n",
    "    y_train = copy(train_conditions_tone)\n",
    "          \n",
    "    print('initializing classifier')\n",
    "    clf = svm.SVC(decision_function_shape='ovo').fit(X_train, y_train)\n",
    "    \n",
    "    print('cross-validating the training set')\n",
    "    cv_scores = cross_val_score(clf, X_train, y_train, cv=StratifiedKFold(n_splits=4))\n",
    "    print('cross-validation score = ', cv_scores.mean())\n",
    "\n",
    "    for sub_id in sub_list_nman:\n",
    "        print(sub_id)\n",
    "        # generating test data and labels\n",
    "        nilearn_sub_dir = os.path.join(deriv_dir, 'sub-%s_space-%s'%(sub_id, space_label))\n",
    "        \n",
    "        for rx, run_dir in enumerate(sorted(glob(nilearn_sub_dir+'/stimulus_per_run'+'/run*'))):\n",
    "            run_label = os.path.basename(run_dir)\n",
    "            print(run_label)\n",
    "            stat_maps = sorted(glob(run_dir+'/*di*nii.gz'))\n",
    "\n",
    "            masks_dir = os.path.join(nilearn_dir, 'masks', 'sub-%s'%sub_id, 'space-%s'%space_label, 'masks-dseg', )\n",
    "            mask_fpath = os.path.join(masks_dir, 'sub-%s_space-%s_mask-%s.nii.gz'%(sub_id, space_label, mask_descrip))\n",
    "\n",
    "            print('test set length: ', len(stat_maps))\n",
    "            X_test, test_masker = mask_fmri(stat_maps, mask_fpath, fwhm_sub)\n",
    "            test_conditions_tone, test_conditions_talker, test_conditions_all, test_conditions_shuffled = create_labels(stat_maps)\n",
    "            y_test = copy(test_conditions_tone)\n",
    "\n",
    "            # Run classifier\n",
    "            y_pred = clf.predict(X_test)\n",
    "\n",
    "            clf_acc = accuracy_score(y_test, y_pred)\n",
    "            print('sub-{} run-{} mask-{} accuracy: '.format(sub_id, run_label, mask_descrip), clf_acc)\n",
    "\n",
    "            # append subject cv scores to overall list\n",
    "            cv_list_tone.append(clf_acc)\n"
   ]
  },
  {
   "cell_type": "code",
   "execution_count": null,
   "id": "d7705b7a-1163-40c2-a2b6-0fa348d3953d",
   "metadata": {},
   "outputs": [],
   "source": []
  },
  {
   "cell_type": "code",
   "execution_count": null,
   "id": "cb855535-f588-4068-ac79-1dabcae412c7",
   "metadata": {},
   "outputs": [],
   "source": []
  }
 ],
 "metadata": {
  "kernelspec": {
   "display_name": "Python 3 (ipykernel)",
   "language": "python",
   "name": "python3"
  },
  "language_info": {
   "codemirror_mode": {
    "name": "ipython",
    "version": 3
   },
   "file_extension": ".py",
   "mimetype": "text/x-python",
   "name": "python",
   "nbconvert_exporter": "python",
   "pygments_lexer": "ipython3",
   "version": "3.9.7"
  }
 },
 "nbformat": 4,
 "nbformat_minor": 5
}
