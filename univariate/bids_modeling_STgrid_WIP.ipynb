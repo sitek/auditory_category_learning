{
 "cells": [
  {
   "cell_type": "code",
   "execution_count": 1,
   "id": "c080696c-3da0-42db-9137-99072ada6cd0",
   "metadata": {},
   "outputs": [],
   "source": [
    "import os\n",
    "import sys\n",
    "import json\n",
    "import argparse\n",
    "\n",
    "import numpy as np\n",
    "import matplotlib.pyplot as plt\n",
    "import nibabel as nib\n",
    "\n",
    "from glob import glob\n",
    "from nilearn import plotting"
   ]
  },
  {
   "cell_type": "code",
   "execution_count": 2,
   "id": "4584598f-71d9-4e46-a078-39c7095b0baa",
   "metadata": {},
   "outputs": [],
   "source": [
    "\n",
    "# ### import data with `pybids` \n",
    "# based on: https://github.com/bids-standard/pybids/blob/master/examples/pybids_tutorial.ipynb\n",
    "def import_bids_data(bidsroot, subject_id, task_label):\n",
    "    from bids import BIDSLayout\n",
    "\n",
    "    layout = BIDSLayout(bidsroot)\n",
    "\n",
    "    all_files = layout.get()\n",
    "    t1w_fpath = layout.get(return_type='filename', subject=subject_id, \n",
    "                            suffix='T1w', extension='nii.gz')[0]\n",
    "    bold_files = layout.get(return_type='filename', subject=subject_id, \n",
    "                            suffix='bold', task=task_label, extension='nii.gz')\n",
    "    return all_files, t1w_fpath, bold_files\n",
    "\n"
   ]
  },
  {
   "cell_type": "code",
   "execution_count": 3,
   "id": "e15564ab-88b4-4d28-9938-3664b221200d",
   "metadata": {
    "scrolled": true,
    "tags": []
   },
   "outputs": [],
   "source": [
    "\n",
    "# ## nilearn modeling: first level\n",
    "# based on: https://nilearn.github.io/auto_examples/04_glm_first_level/plot_bids_features.html#sphx-glr-auto-examples-04-glm-first-level-plot-bids-features-py\n",
    "\n",
    "def prep_models_and_args(subject_id=None, task_id=None, fwhm=None, bidsroot=None, \n",
    "                         deriv_dir=None, event_type=None, t_r=None, t_acq=None, space_label='T1w'):\n",
    "    from nilearn.glm.first_level import first_level_from_bids\n",
    "    from nilearn.interfaces.fmriprep import load_confounds\n",
    "\n",
    "    data_dir = bidsroot\n",
    "\n",
    "    task_label = task_id\n",
    "    fwhm_sub = fwhm\n",
    "\n",
    "    # correct the fmriprep-given slice reference (middle slice, or 0.5)\n",
    "    # to account for sparse acquisition (silent gap during auditory presentation paradigm)\n",
    "    # fmriprep is explicitly based on slice timings, while nilearn is based on t_r\n",
    "    # and since images are only collected during a portion of the overall t_r (which includes the silent gap),\n",
    "    # we need to account for this\n",
    "    slice_time_ref = 0.5 * t_acq / t_r\n",
    "\n",
    "    print(data_dir, task_label, space_label)\n",
    "\n",
    "    models, models_run_imgs, models_events, models_confounds = first_level_from_bids(data_dir, task_label, space_label,\n",
    "                                                                                     [subject_id],\n",
    "                                                                                     smoothing_fwhm=fwhm,\n",
    "                                                                                     derivatives_folder=deriv_dir,\n",
    "                                                                                     slice_time_ref=slice_time_ref,\n",
    "                                                                                     minimize_memory=False)\n",
    "\n",
    "    # fill n/a with 0\n",
    "    [[mc.fillna(0, inplace=True) for mc in sublist] for sublist in models_confounds]\n",
    "\n",
    "    # define which confounds to keep as nuisance regressors\n",
    "    conf_keep_list = ['framewise_displacement',\n",
    "    #                #'a_comp_cor_00', 'a_comp_cor_01', \n",
    "    #                #'a_comp_cor_02', 'a_comp_cor_03', \n",
    "    #                #'a_comp_cor_04', 'a_comp_cor_05', \n",
    "    #                #'a_comp_cor_06', 'a_comp_cor_07', \n",
    "    #                #'a_comp_cor_08', 'a_comp_cor_09', \n",
    "                    'trans_x', 'trans_y', 'trans_z', \n",
    "                    'rot_x','rot_y', 'rot_z']\n",
    "\n",
    "    ''' create events '''\n",
    "    for sx, sub_events in enumerate(models_events):\n",
    "        print(models[sx].subject_label)\n",
    "        for mx, run_events in enumerate(sub_events):\n",
    "            # block design\n",
    "            if event_type == 'block_stim':\n",
    "                run_events = run_events.groupby('trial_type', sort=False, as_index=False).first()\n",
    "                run_events.drop(run_events[run_events.trial_type=='null'].index, inplace=True)\n",
    "                run_events.duration = 20\n",
    "        \n",
    "            if event_type == 'block_sound':\n",
    "                run_events = run_events.groupby('trial_type', sort=False, as_index=False).first()\n",
    "                run_events.drop(run_events[run_events.trial_type=='null'].index, inplace=True)\n",
    "                run_events.duration = 20\n",
    "                run_events.trial_type = 'sound'\n",
    "    \n",
    "            # stimulus events\n",
    "            if event_type == 'stimulus':\n",
    "                name_groups = run_events.groupby('trial_type')['trial_type']\n",
    "                suffix = name_groups.cumcount() + 1\n",
    "                repeats = name_groups.transform('size')\n",
    "\n",
    "                run_events['trial_type'] = run_events['trial_type']\n",
    "                run_events['trial_type'] = run_events['trial_type'].str.replace('-','_')\n",
    "\n",
    "            # trial-specific events          \n",
    "            if event_type == 'trial':\n",
    "                name_groups = run_events.groupby('trial_type')['trial_type']\n",
    "                suffix = name_groups.cumcount() + 1\n",
    "                repeats = name_groups.transform('size')\n",
    "\n",
    "                run_events['trial_type'] = run_events['trial_type'] + \\\n",
    "                                                    '_trial' + suffix.map(str)\n",
    "                run_events['trial_type'] = run_events['trial_type'].str.replace('-','_')\n",
    "\n",
    "            # all sound events\n",
    "            elif event_type == 'sound':\n",
    "                orig_stim_list = sorted([str(s) for s in run_events['trial_type'].unique() \n",
    "                                         if str(s) not in ['nan', 'None', 'null']])\n",
    "                #print('original stim list: ', orig_stim_list)\n",
    "\n",
    "                run_events['trial_type'] = run_events.trial_type.str.split('_', expand=True)[0]\n",
    "\n",
    "            # re-assign to models_events\n",
    "            models_events[sx][mx] = run_events\n",
    "            \n",
    "        # create stimulus list from updated events.tsv file\n",
    "        stim_list = sorted([str(s) for s in run_events['trial_type'].unique() if str(s) not in ['nan', 'None']])\n",
    "    \n",
    "    print('stim list: ', stim_list)\n",
    "    #model_and_args = zip(models, models_run_imgs, models_events, models_confounds)\n",
    "    return stim_list, models, models_run_imgs, models_events, models_confounds, conf_keep_list\n",
    "\n"
   ]
  },
  {
   "cell_type": "code",
   "execution_count": 4,
   "id": "db69d270-cf4d-495b-92d0-690f88127492",
   "metadata": {},
   "outputs": [],
   "source": [
    "\n",
    "# ### Across-runs GLM\n",
    "def nilearn_glm_across_runs(stim_list, task_label, models, models_run_imgs, \\\n",
    "                            models_events, models_confounds, conf_keep_list, space_label):\n",
    "    from nilearn.reporting import make_glm_report\n",
    "    for midx in range(len(models)):\n",
    "        for sx, stim in enumerate(stim_list):\n",
    "            contrast_label = stim\n",
    "            contrast_desc  = stim\n",
    "\n",
    "\n",
    "            midx = 0\n",
    "            model = models[midx]\n",
    "            imgs = models_run_imgs[midx]\n",
    "            events = models_events[midx]\n",
    "            confounds = models_confounds[midx]\n",
    "\n",
    "            print(model.subject_label)\n",
    "\n",
    "            # set limited confounds\n",
    "            print('selecting confounds')\n",
    "            confounds_ltd = [models_confounds[midx][cx][conf_keep_list] for cx in range(len(models_confounds[midx]))]\n",
    "            \n",
    "            #try:\n",
    "            # fit the GLM\n",
    "            print('fitting GLM')\n",
    "            model.fit(imgs, events, confounds_ltd);\n",
    "\n",
    "            # compute the contrast of interest\n",
    "            print('computing contrast of interest')\n",
    "            summary_statistics = model.compute_contrast(contrast_label, output_type='all')\n",
    "            zmap = summary_statistics['z_score']\n",
    "            tmap = summary_statistics['stat']\n",
    "            statmap = summary_statistics['effect_size']\n",
    "\n",
    "            # get the residuals\n",
    "\n",
    "            # save z map\n",
    "            print('saving z-map')\n",
    "            nilearn_sub_dir = os.path.join(bidsroot, 'derivatives', 'nilearn', \n",
    "                                        'level-1_fwhm-%.02f'%model.smoothing_fwhm, \n",
    "                                        'sub-%s_space-%s'%(model.subject_label, space_label),\n",
    "                                        'run-all')\n",
    "            if not os.path.exists(nilearn_sub_dir):\n",
    "                os.makedirs(nilearn_sub_dir)\n",
    "\n",
    "            analysis_prefix = 'sub-%s_task-%s_fwhm-%.02f_space-%s_contrast-%s'%(model.subject_label,\n",
    "                                                                                task_label, model.smoothing_fwhm,\n",
    "                                                                                space_label, contrast_desc)\n",
    "            zmap_fpath = os.path.join(nilearn_sub_dir,\n",
    "                                    analysis_prefix+'_zmap.nii.gz')\n",
    "            nib.save(zmap, zmap_fpath)\n",
    "            print('saved z map to ', zmap_fpath)\n",
    "\n",
    "            tmap_fpath = os.path.join(nilearn_sub_dir,\n",
    "                                    analysis_prefix+'_map-tstat.nii.gz')\n",
    "            nib.save(tmap, tmap_fpath)\n",
    "            print('saved t map to ', tmap_fpath)\n",
    "\n",
    "            # also save beta maps\n",
    "            statmap_fpath = os.path.join(nilearn_sub_dir,\n",
    "                                        analysis_prefix+'_map-beta.nii.gz')\n",
    "            nib.save(statmap, statmap_fpath)\n",
    "            print('saved beta map to ', statmap_fpath)\n",
    "\n",
    "            # save report\n",
    "            print('saving report')\n",
    "            report_fpath = os.path.join(nilearn_sub_dir,\n",
    "                                        analysis_prefix+'_report.html')\n",
    "            report = make_glm_report(model=model,\n",
    "                                    contrasts=contrast_label)\n",
    "            report.save_as_html(report_fpath)\n",
    "            print('saved report to ', report_fpath)\n",
    "            #except:\n",
    "            #    print('could not run for ', contrast_label)\n",
    "    return zmap_fpath, statmap_fpath, contrast_label,\n"
   ]
  },
  {
   "cell_type": "code",
   "execution_count": 6,
   "id": "fc7368e8-38e5-4b4d-9cef-4fedb4987040",
   "metadata": {},
   "outputs": [],
   "source": [
    "def plot_stat_maps(zmap, nilearn_dir, p_val=0.005):\n",
    "    from scipy.stats import norm\n",
    "    thresh_unc = norm.isf(p_val)\n",
    "\n",
    "    # plot\n",
    "    fig, axes = plt.subplots(3, 1, figsize=(20, 15))\n",
    "    plotting.plot_stat_map(zmap, bg_img=t1w_fpath, colorbar=True, threshold=thresh_unc,\n",
    "                        title='sub-%s %s (unc p<%.03f; fwhm=%.02f)'%(model.subject_label, \n",
    "                                                                    contrast_label ,p_val,fwhm_sub),\n",
    "                        axes=axes[0],\n",
    "                        display_mode='x', cut_coords=6)\n",
    "    plotting.plot_stat_map(zmap, bg_img=t1w_fpath, colorbar=True, threshold=thresh_unc,\n",
    "                        axes=axes[1],\n",
    "                        display_mode='y', cut_coords=6)\n",
    "    plotting.plot_stat_map(zmap, bg_img=t1w_fpath, colorbar=True, threshold=thresh_unc,\n",
    "                        axes=axes[2],\n",
    "                        display_mode='z', cut_coords=6)\n",
    "    plotting.show()\n",
    "\n",
    "    # save plot\n",
    "    plot_fpath = os.path.join(nilearn_dir, \n",
    "                            'sub-%s_task-%s_fwhm-%.02f_pval-%.03f_space-%s_contrast-%s.png'%(model.subject_label,\n",
    "                                                                        task_label,fwhm_sub, p_val,\n",
    "                                                                        space_label, contrast_desc))\n",
    "    fig.savefig(plot_fpath)\n",
    "\n",
    "    return plot_fpath"
   ]
  },
  {
   "cell_type": "code",
   "execution_count": 7,
   "id": "54294a23-125c-4544-9c1f-332b3873abdc",
   "metadata": {},
   "outputs": [],
   "source": [
    "# ## plot tsnr\n",
    "def plot_tsnr(bold_files):\n",
    "    from nilearn import image\n",
    "\n",
    "    thresh = 0\n",
    "    fwhm = 5\n",
    "\n",
    "    for fx,filepath in enumerate(bold_files):\n",
    "        tsnr_func = image.math_img('img.mean(axis=3) / img.std(axis=3)', img=filepath)\n",
    "        tsnr_func_smooth = image.smooth_img(tsnr_func, fwhm=5)\n",
    "\n",
    "        display = plotting.plot_stat_map(tsnr_func_smooth, \n",
    "                                        bg_img=t1w_fpath, \n",
    "                                        #title='fMRI single run tSNR map',\n",
    "                                        #cut_coords=[8,50,-20],\n",
    "                                        #threshold=thresh, \n",
    "                                        #cmap='jet'\n",
    "                                        );\n",
    "        display.show()\n",
    "        "
   ]
  },
  {
   "cell_type": "code",
   "execution_count": 8,
   "id": "4aa0efcb-d73a-4eaf-a918-ad0b97563f6e",
   "metadata": {},
   "outputs": [],
   "source": [
    "def mask_fmri(fmri_niimgs, mask_filename, fwhm):\n",
    "    from nilearn.maskers import NiftiMasker\n",
    "    masker = NiftiMasker(mask_img=mask_filename, \n",
    "                         smoothing_fwhm=fwhm, standardize=True,\n",
    "                         memory=\"nilearn_cache\", memory_level=1)\n",
    "    fmri_masked = masker.fit_transform(fmri_niimgs)\n",
    "    return fmri_masked, masker"
   ]
  },
  {
   "cell_type": "markdown",
   "id": "8be9c16c-089d-4d5f-8f7f-cacea48e1a89",
   "metadata": {
    "tags": []
   },
   "source": [
    "## Run pipelines"
   ]
  },
  {
   "cell_type": "code",
   "execution_count": 9,
   "id": "838b8d03-b604-4f76-8ca9-48d82b833f92",
   "metadata": {},
   "outputs": [],
   "source": [
    "task_label = 'stgrid'\n",
    "t_acq = 2\n",
    "t_r = 4\n",
    "\n",
    "project_dir = os.path.join('/bgfs/bchandrasekaran/krs228/data/', 'FLT/')\n",
    "#bidsroot = os.path.join(project_dir,'data_bids')\n",
    "bidsroot = os.path.join(project_dir,'data_bids_noIntendedFor')\n",
    "deriv_dir = os.path.join(project_dir, 'derivatives', 'fmriprep_noSDC')\n",
    "\n",
    "nilearn_dir = os.path.join(bidsroot, 'derivatives', 'nilearn')\n",
    "if not os.path.exists(nilearn_dir):\n",
    "        os.makedirs(nilearn_dir)"
   ]
  },
  {
   "cell_type": "markdown",
   "id": "818abfcb-2347-4ac1-b780-97744b191642",
   "metadata": {
    "tags": []
   },
   "source": [
    "### Univariate analysis"
   ]
  },
  {
   "cell_type": "code",
   "execution_count": 10,
   "id": "1c9059cc-69c2-42eb-a9c6-10aafccff5af",
   "metadata": {},
   "outputs": [],
   "source": [
    "fwhm = 3\n",
    "event_type = 'block_sound'\n",
    "space_label = 'MNI152NLin2009cAsym'\n",
    "subject_list = ['FLT08', ] # \n",
    "# 'FLT01', 'FLT02', 'FLT03', 'FLT04', 'FLT05', 'FLT06', 'FLT07', 'FLT08', 'FLT09', 'FLT10', 'FLT11', 'FLT12', 'FLT13',"
   ]
  },
  {
   "cell_type": "code",
   "execution_count": 36,
   "id": "34169573-4ce7-4cda-a7b0-203c8e433cdb",
   "metadata": {
    "scrolled": true,
    "tags": []
   },
   "outputs": [
    {
     "name": "stdout",
     "output_type": "stream",
     "text": [
      "Running subject  FLT08\n",
      "/bgfs/bchandrasekaran/krs228/data/FLT/data_bids_noIntendedFor stgrid MNI152NLin2009cAsym\n",
      "FLT08\n",
      "stim list:  ['sound']\n",
      "FLT08\n",
      "selecting confounds\n",
      "fitting GLM\n"
     ]
    },
    {
     "name": "stderr",
     "output_type": "stream",
     "text": [
      "/bgfs/bchandrasekaran/krs228/software/miniconda3/envs/py3/lib/python3.9/site-packages/nilearn/glm/first_level/experimental_paradigm.py:89: UserWarning: Unexpected column `Unnamed: 0` in events data will be ignored.\n",
      "  warnings.warn((\"Unexpected column `{}` in events \"\n",
      "/bgfs/bchandrasekaran/krs228/software/miniconda3/envs/py3/lib/python3.9/site-packages/nilearn/glm/first_level/experimental_paradigm.py:89: UserWarning: Unexpected column `response_time` in events data will be ignored.\n",
      "  warnings.warn((\"Unexpected column `{}` in events \"\n",
      "/bgfs/bchandrasekaran/krs228/software/miniconda3/envs/py3/lib/python3.9/site-packages/nilearn/glm/first_level/experimental_paradigm.py:89: UserWarning: Unexpected column `stim_file` in events data will be ignored.\n",
      "  warnings.warn((\"Unexpected column `{}` in events \"\n",
      "/bgfs/bchandrasekaran/krs228/software/miniconda3/envs/py3/lib/python3.9/site-packages/nilearn/glm/first_level/experimental_paradigm.py:89: UserWarning: Unexpected column `Unnamed: 0` in events data will be ignored.\n",
      "  warnings.warn((\"Unexpected column `{}` in events \"\n",
      "/bgfs/bchandrasekaran/krs228/software/miniconda3/envs/py3/lib/python3.9/site-packages/nilearn/glm/first_level/experimental_paradigm.py:89: UserWarning: Unexpected column `response_time` in events data will be ignored.\n",
      "  warnings.warn((\"Unexpected column `{}` in events \"\n",
      "/bgfs/bchandrasekaran/krs228/software/miniconda3/envs/py3/lib/python3.9/site-packages/nilearn/glm/first_level/experimental_paradigm.py:89: UserWarning: Unexpected column `stim_file` in events data will be ignored.\n",
      "  warnings.warn((\"Unexpected column `{}` in events \"\n"
     ]
    },
    {
     "name": "stdout",
     "output_type": "stream",
     "text": [
      "computing contrast of interest\n"
     ]
    },
    {
     "name": "stderr",
     "output_type": "stream",
     "text": [
      "/bgfs/bchandrasekaran/krs228/software/miniconda3/envs/py3/lib/python3.9/site-packages/nilearn/glm/first_level/first_level.py:696: UserWarning: One contrast given, assuming it for all 2 runs\n",
      "  warn('One contrast given, assuming it for all %d runs' % n_runs)\n"
     ]
    },
    {
     "name": "stdout",
     "output_type": "stream",
     "text": [
      "saving z-map\n",
      "saved z map to  /bgfs/bchandrasekaran/krs228/data/FLT/data_bids_noIntendedFor/derivatives/nilearn/level-1_fwhm-3.00/sub-FLT08_space-MNI152NLin2009cAsym/run-all/sub-FLT08_task-stgrid_fwhm-3.00_space-MNI152NLin2009cAsym_contrast-sound_zmap.nii.gz\n",
      "saved t map to  /bgfs/bchandrasekaran/krs228/data/FLT/data_bids_noIntendedFor/derivatives/nilearn/level-1_fwhm-3.00/sub-FLT08_space-MNI152NLin2009cAsym/run-all/sub-FLT08_task-stgrid_fwhm-3.00_space-MNI152NLin2009cAsym_contrast-sound_map-tstat.nii.gz\n",
      "saved beta map to  /bgfs/bchandrasekaran/krs228/data/FLT/data_bids_noIntendedFor/derivatives/nilearn/level-1_fwhm-3.00/sub-FLT08_space-MNI152NLin2009cAsym/run-all/sub-FLT08_task-stgrid_fwhm-3.00_space-MNI152NLin2009cAsym_contrast-sound_map-beta.nii.gz\n",
      "saving report\n"
     ]
    },
    {
     "name": "stderr",
     "output_type": "stream",
     "text": [
      "/bgfs/bchandrasekaran/krs228/software/miniconda3/envs/py3/lib/python3.9/site-packages/nilearn/glm/first_level/first_level.py:696: UserWarning: One contrast given, assuming it for all 2 runs\n",
      "  warn('One contrast given, assuming it for all %d runs' % n_runs)\n",
      "/bgfs/bchandrasekaran/krs228/software/miniconda3/envs/py3/lib/python3.9/site-packages/nilearn/plotting/img_plotting.py:300: FutureWarning: Default resolution of the MNI template will change from 2mm to 1mm in version 0.10.0\n",
      "  anat_img = load_mni152_template()\n"
     ]
    },
    {
     "name": "stdout",
     "output_type": "stream",
     "text": [
      "saved report to  /bgfs/bchandrasekaran/krs228/data/FLT/data_bids_noIntendedFor/derivatives/nilearn/level-1_fwhm-3.00/sub-FLT08_space-MNI152NLin2009cAsym/run-all/sub-FLT08_task-stgrid_fwhm-3.00_space-MNI152NLin2009cAsym_contrast-sound_report.html\n"
     ]
    }
   ],
   "source": [
    "for sx, subject_id in enumerate(subject_list):\n",
    "    print('Running subject ', subject_id)\n",
    "    stim_list, models, models_run_imgs, \\\n",
    "        models_events, models_confounds, conf_keep_list = prep_models_and_args(subject_id, task_label, \n",
    "                                                                                 fwhm, bidsroot, \n",
    "                                                                                 deriv_dir, event_type,\n",
    "                                                                                 t_r, t_acq, \n",
    "                                                                                 space_label)\n",
    "    # Across-run GLM\n",
    "    zmap_fpath, statmap_fpath, contrast_label = nilearn_glm_across_runs(stim_list, task_label, \n",
    "                                                                        models, models_run_imgs, \n",
    "                                                                        models_events, models_confounds, \n",
    "                                                                        conf_keep_list, space_label)"
   ]
  },
  {
   "cell_type": "code",
   "execution_count": null,
   "id": "7753dd3c-cac7-45cf-a2f4-7e4db28d9f7e",
   "metadata": {},
   "outputs": [],
   "source": []
  },
  {
   "cell_type": "code",
   "execution_count": null,
   "id": "0deb8ea8-e567-4a56-b191-b131de974cbb",
   "metadata": {},
   "outputs": [],
   "source": [
    "ls /bgfs/bchandrasekaran/krs228/data/FLT/data_bids_noIntendedFor/derivatives/nilearn/level-1_fwhm-3.00/sub-FLT08_space-MNI152NLin2009cAsym/run-all/*task-stgrid*sound*zmap*"
   ]
  },
  {
   "cell_type": "code",
   "execution_count": null,
   "id": "37d87422-f72a-489a-8d99-0179c2998eea",
   "metadata": {},
   "outputs": [],
   "source": [
    "test_zmap_fpath = ('/bgfs/bchandrasekaran/krs228/data/FLT/data_bids_noIntendedFor/derivatives/'\n",
    "             'nilearn/level-1_fwhm-3.00/sub-FLT08_space-MNI152NLin2009cAsym/run-all/'\n",
    "             'sub-FLT08_task-stgrid_fwhm-3.00_space-MNI152NLin2009cAsym_contrast-stim_10_zmap.nii.gz')"
   ]
  },
  {
   "cell_type": "code",
   "execution_count": 39,
   "id": "90d4ff5e-ed78-4fae-8335-43adbf957d93",
   "metadata": {
    "tags": []
   },
   "outputs": [
    {
     "data": {
      "text/plain": [
       "<nilearn.plotting.displays._slicers.OrthoSlicer at 0x7f9f2ac12250>"
      ]
     },
     "execution_count": 39,
     "metadata": {},
     "output_type": "execute_result"
    },
    {
     "data": {
      "image/png": "[encoded data removed]",
      "text/plain": [
       "<Figure size 525.6x187.2 with 5 Axes>"
      ]
     },
     "metadata": {},
     "output_type": "display_data"
    }
   ],
   "source": [
    "plotting.plot_stat_map(zmap_fpath, threshold=1, cut_coords=[-55,-10,0])"
   ]
  },
  {
   "cell_type": "code",
   "execution_count": null,
   "id": "f247bc57-0cc1-4f8c-9313-c74136403f65",
   "metadata": {},
   "outputs": [],
   "source": []
  },
  {
   "cell_type": "code",
   "execution_count": null,
   "id": "6f2a9f58-203d-4374-ac4e-e5e573616aff",
   "metadata": {},
   "outputs": [],
   "source": []
  },
  {
   "cell_type": "markdown",
   "id": "3e50d8ab-399d-44b8-b560-75f5b432247c",
   "metadata": {
    "jp-MarkdownHeadingCollapsed": true,
    "tags": []
   },
   "source": [
    "### Multivariate analysis"
   ]
  },
  {
   "cell_type": "markdown",
   "id": "039a9b55-14b9-4916-894e-abea28e0faae",
   "metadata": {},
   "source": [
    "Three options for multivariate analysis:\n",
    "1. across-run stimulus modeling (n_output = n_stimuli)\n",
    "2. within-run stimulus modeling (n_output = n_stimuli x n_runs)\n",
    "3. within-run trial modeling (n_output = n_trials x n_runs)"
   ]
  },
  {
   "cell_type": "code",
   "execution_count": null,
   "id": "f9528f93-76b4-4229-a1f8-53ecacaa0d3e",
   "metadata": {},
   "outputs": [],
   "source": [
    "space_label = 'MNI152NLin2009cAsym'\n",
    "subject_list = ['FLT01', 'FLT02', 'FLT03', 'FLT04', 'FLT05', 'FLT06', 'FLT07', 'FLT08', 'FLT09', 'FLT10', 'FLT11', 'FLT12', 'FLT13',]\n",
    "fwhm_sub = 0"
   ]
  },
  {
   "cell_type": "code",
   "execution_count": null,
   "id": "35899ad9-1009-45f8-b55e-e3ada969364a",
   "metadata": {},
   "outputs": [],
   "source": [
    "print(subject_list)\n",
    "print('analysis space: ', space_label)\n",
    "print('task: ', task_label)\n",
    "print('bids root directory: ', bidsroot)\n",
    "print('derivatives directory: ', deriv_dir)"
   ]
  },
  {
   "cell_type": "markdown",
   "id": "67f1da09-8cfb-4fae-bc97-fcbb35641785",
   "metadata": {},
   "source": [
    "#### Stimulus modeling (across-run estimates)"
   ]
  },
  {
   "cell_type": "code",
   "execution_count": null,
   "id": "e849948f-8222-4362-930f-e3a60ea92a2b",
   "metadata": {
    "scrolled": true,
    "tags": []
   },
   "outputs": [],
   "source": [
    "# Multivariate analysis: across-run GLM\n",
    "event_type = 'stimulus'\n",
    "event_filter = 'sound' \n",
    "for subject_id in subject_list:\n",
    "    print('running with subject ', subject_id)\n",
    "\n",
    "    stim_list, models, models_run_imgs, \\\n",
    "        models_events, models_confounds, conf_keep_list = prep_models_and_args(subject_id, task_label, fwhm_sub, bidsroot, \n",
    "                                                                               deriv_dir, event_type, t_r, t_acq, \n",
    "                                                                               space_label=space_label)\n",
    "    print('stim list: ', stim_list)\n",
    "    statmap_fpath, contrast_label = nilearn_glm_across_runs(stim_list, task_label, event_filter, models, models_run_imgs, \n",
    "                                                     models_events, models_confounds, conf_keep_list, space_label)\n",
    "    #stat_maps, conditions = generate_conditions(subject_id, fwhm, space_label, deriv_dir)"
   ]
  },
  {
   "cell_type": "code",
   "execution_count": null,
   "id": "8ecfb622-3ead-42ee-ad8f-f5ed4efe1db0",
   "metadata": {},
   "outputs": [],
   "source": []
  },
  {
   "cell_type": "markdown",
   "id": "b0a458e8-b28b-413c-af62-d4984c494e72",
   "metadata": {},
   "source": [
    "#### Stimulus modeling: within-run GLM"
   ]
  },
  {
   "cell_type": "code",
   "execution_count": null,
   "id": "fa2fe55e-5d71-4559-a434-55603cda25d0",
   "metadata": {
    "scrolled": true,
    "tags": []
   },
   "outputs": [],
   "source": [
    "# Multivariate analysis: within-run GLM\n",
    "event_type = 'stimulus'\n",
    "event_filter = 'sound'\n",
    "for subject_id in subject_list:\n",
    "    print('running with subject ', subject_id)\n",
    "        \n",
    "    stim_list, models, models_run_imgs, \\\n",
    "        models_events, models_confounds, conf_keep_list = prep_models_and_args(subject_id, task_label, fwhm_sub, bidsroot, \n",
    "                                                                               deriv_dir, event_type, t_r, t_acq, \n",
    "                                                                               space_label=space_label)\n",
    "    print('stim list: ', stim_list)\n",
    "    statmap_fpath, contrast_label = nilearn_glm_per_run(stim_list, task_label, event_filter, models, models_run_imgs, \n",
    "                                                     models_events, models_confounds, conf_keep_list, space_label)\n",
    "    #stat_maps, conditions = generate_conditions(subject_id, fwhm, space_label, deriv_dir)"
   ]
  },
  {
   "cell_type": "code",
   "execution_count": null,
   "id": "b46e193a-54d9-4366-b320-45a723b60643",
   "metadata": {},
   "outputs": [],
   "source": []
  },
  {
   "cell_type": "markdown",
   "id": "1c9d17ca-447b-430d-be01-3788f8a7b098",
   "metadata": {
    "tags": []
   },
   "source": [
    "#### Single trial modeling (within-run GLM)"
   ]
  },
  {
   "cell_type": "markdown",
   "id": "54e4b56f-4a6c-4ee0-a31d-16ed2cb58c1a",
   "metadata": {},
   "source": [
    "Takes approximately 4–6 hours per subject"
   ]
  },
  {
   "cell_type": "code",
   "execution_count": null,
   "id": "35d21c18-1402-49be-b8bb-966a0ccf1ea0",
   "metadata": {
    "scrolled": true,
    "tags": []
   },
   "outputs": [],
   "source": [
    "# Multivariate analysis: within-run GLM\n",
    "event_type = 'trial'\n",
    "event_filter = 'sound'\n",
    "for subject_id in subject_list:\n",
    "    print('running with subject ', subject_id)\n",
    "        \n",
    "    stim_list, models, models_run_imgs, \\\n",
    "        models_events, models_confounds, conf_keep_list = prep_models_and_args(subject_id, task_label, fwhm_sub, bidsroot, \n",
    "                                                                               deriv_dir, event_type, t_r, t_acq, \n",
    "                                                                               space_label=space_label)\n",
    "    print('stim list: ', stim_list)\n",
    "    statmap_fpath, contrast_label = nilearn_glm_per_run(stim_list, task_label, event_filter, models, models_run_imgs, \n",
    "                                                     models_events, models_confounds, conf_keep_list, space_label)\n",
    "    #stat_maps, conditions = generate_conditions(subject_id, fwhm, space_label, deriv_dir)"
   ]
  },
  {
   "cell_type": "code",
   "execution_count": null,
   "id": "c8ec2826-442e-4985-9044-bfb62c4eb4e9",
   "metadata": {},
   "outputs": [],
   "source": []
  },
  {
   "cell_type": "markdown",
   "id": "f28757ff-f040-457c-8e3e-68cbaeff7169",
   "metadata": {
    "tags": []
   },
   "source": [
    "## Second-level analyses"
   ]
  },
  {
   "cell_type": "markdown",
   "id": "16181bef-2b48-4d74-b695-1f35751cee90",
   "metadata": {},
   "source": [
    "Based on [nilearn documentation](https://nilearn.github.io/stable/auto_examples/05_glm_second_level/plot_thresholding.html#statistical-testing-of-a-second-level-analysis)"
   ]
  },
  {
   "cell_type": "code",
   "execution_count": null,
   "id": "31705707-dc45-4346-a636-20048395e8a3",
   "metadata": {},
   "outputs": [],
   "source": [
    "import pandas as pd"
   ]
  },
  {
   "cell_type": "code",
   "execution_count": null,
   "id": "4202650e-85f7-4eff-877b-0361d0d929e3",
   "metadata": {},
   "outputs": [],
   "source": [
    "sub_list_mand = ['FLT01', 'FLT03', 'FLT05', 'FLT07', 'FLT08', 'FLT10', ]\n",
    "\n",
    "sub_list_nman = ['FLT02', 'FLT04', 'FLT06', 'FLT09', 'FLT11', 'FLT12', 'FLT13', ]\n",
    "\n",
    "sub_list = sub_list_mand + sub_list_nman"
   ]
  },
  {
   "cell_type": "code",
   "execution_count": null,
   "id": "5529d064-7c4b-4298-85fe-e26175b8c6b4",
   "metadata": {},
   "outputs": [],
   "source": [
    "n_subjects = len(sub_list)\n",
    "design_matrix = pd.DataFrame([1] * n_subjects, columns=['intercept'])"
   ]
  },
  {
   "cell_type": "code",
   "execution_count": null,
   "id": "8cd2545e-6e1b-48b0-abfa-5f89df4b1bdd",
   "metadata": {},
   "outputs": [],
   "source": [
    "design_mat_mand = pd.DataFrame([1] * len(sub_list_mand), columns=['intercept'])\n",
    "design_mat_nman = pd.DataFrame([1] * len(sub_list_nman), columns=['intercept'])"
   ]
  },
  {
   "cell_type": "code",
   "execution_count": null,
   "id": "3eac08b5-208b-429c-8249-6b8e2d5bd929",
   "metadata": {},
   "outputs": [],
   "source": [
    "contrast_label = 'sound'\n",
    "fwhm = 4.5\n",
    "space_label = 'MNI152NLin2009cAsym'\n",
    "l1_dir = os.path.join(bidsroot, 'derivatives', 'nilearn', 'level-1_fwhm-%.02f'%fwhm)\n",
    "l1_fnames = sorted(glob(l1_dir+'/sub-*_space-%s/run-all/*%s_map-beta.nii.gz'%(space_label, contrast_label)))\n"
   ]
  },
  {
   "cell_type": "code",
   "execution_count": null,
   "id": "d59f4ed6-e01e-48ae-abce-626f65d49044",
   "metadata": {},
   "outputs": [],
   "source": [
    "l1_fnames_mand = [sorted(glob(l1_dir+'/sub-%s_space-%s/run-all/*%s_map-beta.nii.gz'%(sub_id, space_label, contrast_label)))[0] for sub_id in sub_list_mand]\n",
    "\n",
    "l1_fnames_nman = [sorted(glob(l1_dir+'/sub-%s_space-%s/run-all/*%s_map-beta.nii.gz'%(sub_id, space_label, contrast_label)))[0] for sub_id in sub_list_nman]"
   ]
  },
  {
   "cell_type": "markdown",
   "id": "135b14a5-2a49-4293-8c47-fd25011a85e4",
   "metadata": {},
   "source": [
    "Mandarin-speaking group:"
   ]
  },
  {
   "cell_type": "code",
   "execution_count": null,
   "id": "17f264e4-7801-409f-b5ad-1da021b1a1d5",
   "metadata": {},
   "outputs": [],
   "source": [
    "from nilearn.glm.second_level import SecondLevelModel\n",
    "second_level_model = SecondLevelModel().fit(l1_fnames_mand, design_matrix=design_mat_mand)\n",
    "\n",
    "z_map = second_level_model.compute_contrast(output_type='z_score')\n",
    "\n",
    "from nilearn.image import threshold_img\n",
    "threshold = 2.58\n",
    "cthresh=0\n",
    "thresholded_map = threshold_img(\n",
    "    z_map,\n",
    "    threshold=threshold,\n",
    "    cluster_threshold=cthresh,\n",
    "    two_sided=True,\n",
    ")\n",
    "\n",
    "plotting.plot_stat_map(\n",
    "    thresholded_map, cut_coords=[17,12,5], \n",
    "    title='Mand %s > baseline thresholded z map, z > %.02f, clusters > %d voxels'%(contrast_label, threshold, cthresh))"
   ]
  },
  {
   "cell_type": "markdown",
   "id": "f188784d-17fb-4b86-a1b5-6435a73d13d3",
   "metadata": {},
   "source": [
    "Non-Mandarin speaking group:"
   ]
  },
  {
   "cell_type": "code",
   "execution_count": null,
   "id": "8309ae0f-c160-4f87-bd8c-08c432545148",
   "metadata": {},
   "outputs": [],
   "source": [
    "from nilearn.glm.second_level import SecondLevelModel\n",
    "second_level_model = SecondLevelModel().fit(l1_fnames_nman, design_matrix=design_mat_nman)\n",
    "\n",
    "z_map = second_level_model.compute_contrast(output_type='z_score')\n",
    "\n",
    "from nilearn.image import threshold_img\n",
    "threshold = 2.58\n",
    "cthresh=0\n",
    "thresholded_map = threshold_img(\n",
    "    z_map,\n",
    "    threshold=threshold,\n",
    "    cluster_threshold=cthresh,\n",
    "    two_sided=True,\n",
    ")\n",
    "\n",
    "plotting.plot_stat_map(\n",
    "    thresholded_map, cut_coords=[17,12,5], \n",
    "    title='Non-Mand %s > baseline thresholded z map, z > %.02f, clusters > %d voxels'%(contrast_label, threshold, cthresh))"
   ]
  },
  {
   "cell_type": "markdown",
   "id": "d9ac3514-a32c-4156-8982-3572a763e50b",
   "metadata": {},
   "source": [
    "All participants"
   ]
  },
  {
   "cell_type": "code",
   "execution_count": null,
   "id": "dc65e0e7-17ed-4355-b7de-3128e051a0ea",
   "metadata": {},
   "outputs": [],
   "source": [
    "from nilearn.glm.second_level import SecondLevelModel\n",
    "second_level_model = SecondLevelModel().fit(l1_fnames, design_matrix=design_matrix)\n",
    "\n",
    "z_map = second_level_model.compute_contrast(output_type='z_score')\n",
    "\n",
    "from nilearn import plotting\n",
    "display = plotting.plot_stat_map(z_map, title='Raw z map - %s > baseline'%contrast_label)"
   ]
  },
  {
   "cell_type": "code",
   "execution_count": null,
   "id": "a1d44b66-989f-441e-b66d-b03d94caacc6",
   "metadata": {},
   "outputs": [],
   "source": [
    "from nilearn.image import threshold_img\n",
    "threshold = 2.58\n",
    "cthresh=10\n",
    "thresholded_map = threshold_img(\n",
    "    z_map,\n",
    "    threshold=threshold,\n",
    "    cluster_threshold=cthresh,\n",
    "    two_sided=True,\n",
    ")\n",
    "\n",
    "plotting.plot_stat_map(\n",
    "    thresholded_map, cut_coords=[17,12,5], \n",
    "    title='%s > baseline thresholded z map, z > %.02f, clusters > %d voxels'%(contrast_label, threshold, cthresh))"
   ]
  },
  {
   "cell_type": "code",
   "execution_count": null,
   "id": "2ec11cf8-fd0f-425c-be97-7b6415040b3e",
   "metadata": {},
   "outputs": [],
   "source": [
    "from nilearn.glm import threshold_stats_img\n",
    "fpr_alpha = .01\n",
    "cthresh = 10\n",
    "thresholded_map1, \\\n",
    "    threshold1 = threshold_stats_img(\n",
    "                                    z_map,\n",
    "                                    alpha=fpr_alpha,\n",
    "                                    height_control='fpr',\n",
    "                                    cluster_threshold=cthresh,\n",
    "                                    two_sided=True,\n",
    "                                    )\n",
    "plotting.plot_stat_map(\n",
    "    thresholded_map1, cut_coords=display.cut_coords, threshold=threshold1,\n",
    "    title='%s > baseline thresholded z map, fpr <%.03f, clusters > %d voxels'%(contrast_label, fpr_alpha, cthresh))\n",
    "print(threshold1)"
   ]
  },
  {
   "cell_type": "code",
   "execution_count": null,
   "id": "284b4dd9-f85f-47c9-bde8-5ac9fb22e44b",
   "metadata": {},
   "outputs": [],
   "source": [
    "thresholded_map2, threshold2 = threshold_stats_img(\n",
    "    z_map, alpha=.05, height_control='fdr')\n",
    "print('The FDR=.05 threshold is %.3g' % threshold2)\n",
    "\n",
    "plotting.plot_stat_map(thresholded_map2, cut_coords=display.cut_coords,\n",
    "                       title='%s > baseline thresholded z map, expected fdr = .05'%contrast_label,\n",
    "                       threshold=threshold2)"
   ]
  },
  {
   "cell_type": "markdown",
   "id": "c7f74a66-e21c-4438-81b5-aad5a50d8624",
   "metadata": {},
   "source": [
    "#### Surface plots"
   ]
  },
  {
   "cell_type": "code",
   "execution_count": null,
   "id": "8ad12235-c020-453d-aee5-c01d44d130b5",
   "metadata": {},
   "outputs": [],
   "source": [
    "from nilearn import datasets, surface"
   ]
  },
  {
   "cell_type": "code",
   "execution_count": null,
   "id": "7b242956-d3bb-4dbe-be1e-907819cc3821",
   "metadata": {},
   "outputs": [],
   "source": [
    "big_fsaverage = datasets.fetch_surf_fsaverage('fsaverage')\n",
    "big_texture = surface.vol_to_surf(z_map, big_fsaverage.pial_right)\n",
    "\n",
    "plotting.plot_surf_stat_map(big_fsaverage.infl_right,\n",
    "                            big_texture, hemi='right', colorbar=True,\n",
    "                            title='Surface right hemisphere: fine mesh',\n",
    "                            threshold=2.58, bg_map=big_fsaverage.sulc_right)\n",
    "plotting.show()"
   ]
  },
  {
   "cell_type": "code",
   "execution_count": null,
   "id": "664a454c-aa80-486b-8d67-7ee3ad1fddfc",
   "metadata": {},
   "outputs": [],
   "source": [
    "from nilearn import plotting\n",
    "\n",
    "plotting.plot_img_on_surf(z_map,\n",
    "                          surf_mesh='fsaverage',\n",
    "                          views=['lateral', 'medial'],\n",
    "                          hemispheres=['left', 'right'],\n",
    "                          threshold=2.58,\n",
    "                          colorbar=True)\n",
    "plotting.show()"
   ]
  },
  {
   "cell_type": "code",
   "execution_count": null,
   "id": "ebc56071-26f0-4d35-b662-879679f677e5",
   "metadata": {},
   "outputs": [],
   "source": []
  }
 ],
 "metadata": {
  "kernelspec": {
   "display_name": "Python 3 (ipykernel)",
   "language": "python",
   "name": "python3"
  },
  "language_info": {
   "codemirror_mode": {
    "name": "ipython",
    "version": 3
   },
   "file_extension": ".py",
   "mimetype": "text/x-python",
   "name": "python",
   "nbconvert_exporter": "python",
   "pygments_lexer": "ipython3",
   "version": "3.9.7"
  }
 },
 "nbformat": 4,
 "nbformat_minor": 5
}
