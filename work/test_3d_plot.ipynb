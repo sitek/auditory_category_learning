{
 "cells": [
  {
   "cell_type": "code",
   "execution_count": null,
   "id": "ef57eec0-237d-4a75-a5e5-6f68beab65be",
   "metadata": {},
   "outputs": [],
   "source": [
    "import os\n",
    "import sys\n",
    "import json\n",
    "import argparse\n",
    "\n",
    "import pandas as pd\n",
    "import numpy as np\n",
    "import matplotlib.pyplot as plt\n",
    "import nibabel as nib\n",
    "\n",
    "from glob import glob\n",
    "from nilearn import plotting\n",
    "from nilearn import datasets\n",
    "\n",
    "from nilearn.glm.second_level import SecondLevelModel\n",
    "from nilearn.glm.second_level import make_second_level_design_matrix\n",
    "from nilearn.image import smooth_img\n",
    "\n",
    "from nilearn.image import threshold_img\n",
    "from nilearn.glm import threshold_stats_img\n",
    "\n",
    "mni152_template = datasets.load_mni152_template(resolution=1)"
   ]
  },
  {
   "cell_type": "code",
   "execution_count": null,
   "id": "005a3c13-aab5-46aa-aa65-cc5f380d4647",
   "metadata": {},
   "outputs": [],
   "source": [
    "from nilearn.image import threshold_img\n",
    "from nilearn import surface\n",
    "from nilearn import datasets\n",
    "fsaverage = datasets.fetch_surf_fsaverage()"
   ]
  },
  {
   "cell_type": "code",
   "execution_count": null,
   "id": "7a875c96-35c2-48dc-ae0a-a2195dc124c7",
   "metadata": {},
   "outputs": [],
   "source": [
    "task_label = 'tonecat'\n",
    "\n",
    "project_dir = os.path.join('/bgfs/bchandrasekaran/krs228/data/', 'FLT/')\n",
    "bidsroot = os.path.join(project_dir,'data_denoised')\n",
    "deriv_dir = os.path.join(bidsroot, 'derivatives')\n",
    "nilearn_dir = os.path.join(deriv_dir, 'nilearn')"
   ]
  },
  {
   "cell_type": "code",
   "execution_count": null,
   "id": "14620729-3bab-4c80-a544-fbf88228ca68",
   "metadata": {},
   "outputs": [],
   "source": []
  },
  {
   "cell_type": "markdown",
   "id": "93a086f8-306b-4885-9818-60325a8e9f9a",
   "metadata": {},
   "source": [
    "# matplotlib surface plot"
   ]
  },
  {
   "cell_type": "markdown",
   "id": "81e37d8a-9980-4db1-8e72-17c646d945a1",
   "metadata": {},
   "source": [
    "from matplotlib: https://matplotlib.org/stable/gallery/mplot3d/surface3d_2.html#sphx-glr-gallery-mplot3d-surface3d-2-py"
   ]
  },
  {
   "cell_type": "code",
   "execution_count": null,
   "id": "b1bc0979-41ad-4005-bb62-6b4c560797fc",
   "metadata": {},
   "outputs": [],
   "source": [
    "import matplotlib.pyplot as plt\n",
    "import numpy as np\n",
    "\n",
    "fig = plt.figure()\n",
    "ax = fig.add_subplot(projection='3d')\n",
    "\n",
    "# Make data\n",
    "u = np.linspace(0, 2 * np.pi, 100)\n",
    "v = np.linspace(0, np.pi, 100)\n",
    "x = 10 * np.outer(np.cos(u), np.sin(v))\n",
    "y = 10 * np.outer(np.sin(u), np.sin(v))\n",
    "z = 10 * np.outer(np.ones(np.size(u)), np.cos(v))\n",
    "\n",
    "# Plot the surface\n",
    "ax.plot_surface(x, y, z)\n",
    "\n",
    "# Set an equal aspect ratio\n",
    "ax.set_aspect('equal')\n",
    "\n",
    "plt.show()"
   ]
  },
  {
   "cell_type": "code",
   "execution_count": null,
   "id": "7926d938-d94d-4d96-acd8-312998686132",
   "metadata": {},
   "outputs": [],
   "source": []
  },
  {
   "cell_type": "markdown",
   "id": "08390948-7262-4a89-95d5-f8a42196e194",
   "metadata": {},
   "source": [
    "# pyqtgraph"
   ]
  },
  {
   "cell_type": "code",
   "execution_count": null,
   "id": "e51dd988-2763-4e23-8863-43d0ff839294",
   "metadata": {},
   "outputs": [],
   "source": [
    "%gui qt"
   ]
  },
  {
   "cell_type": "code",
   "execution_count": null,
   "id": "64e922a2-911d-4edc-b74a-e2b233a9f316",
   "metadata": {},
   "outputs": [],
   "source": [
    "## build a QApplication before building other widgets\n",
    "import pyqtgraph as pg\n",
    "pg.mkQApp()\n",
    "\n",
    "## make a widget for displaying 3D objects\n",
    "import pyqtgraph.opengl as gl\n",
    "view = gl.GLViewWidget()\n",
    "view.show()\n",
    "\n",
    "## create three grids, add each to the view\n",
    "xgrid = gl.GLGridItem()\n",
    "ygrid = gl.GLGridItem()\n",
    "zgrid = gl.GLGridItem()\n",
    "view.addItem(xgrid)\n",
    "view.addItem(ygrid)\n",
    "view.addItem(zgrid)\n",
    "\n",
    "## rotate x and y grids to face the correct direction\n",
    "xgrid.rotate(90, 0, 1, 0)\n",
    "ygrid.rotate(90, 1, 0, 0)\n",
    "\n",
    "## scale each grid differently\n",
    "xgrid.scale(0.2, 0.1, 0.1)\n",
    "ygrid.scale(0.2, 0.1, 0.1)\n",
    "zgrid.scale(0.1, 0.2, 0.1)"
   ]
  },
  {
   "cell_type": "code",
   "execution_count": null,
   "id": "62826957-bf01-4f86-a09a-6275c346ec50",
   "metadata": {},
   "outputs": [],
   "source": []
  }
 ],
 "metadata": {
  "kernelspec": {
   "display_name": "Python 3 (ipykernel)",
   "language": "python",
   "name": "python3"
  },
  "language_info": {
   "codemirror_mode": {
    "name": "ipython",
    "version": 3
   },
   "file_extension": ".py",
   "mimetype": "text/x-python",
   "name": "python",
   "nbconvert_exporter": "python",
   "pygments_lexer": "ipython3",
   "version": "3.9.7"
  }
 },
 "nbformat": 4,
 "nbformat_minor": 5
}
